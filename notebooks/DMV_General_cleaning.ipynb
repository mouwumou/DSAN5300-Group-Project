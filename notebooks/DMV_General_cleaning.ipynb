{
 "cells": [
  {
   "cell_type": "code",
   "execution_count": 30,
   "metadata": {},
   "outputs": [
    {
     "ename": "SyntaxError",
     "evalue": "positional argument follows keyword argument (3089923829.py, line 22)",
     "output_type": "error",
     "traceback": [
      "\u001b[0;36m  Cell \u001b[0;32mIn[30], line 22\u001b[0;36m\u001b[0m\n\u001b[0;31m    results = client.get(\"brw6-jymh\", limit=200000, model_year > 2014)\u001b[0m\n\u001b[0m                                                                     ^\u001b[0m\n\u001b[0;31mSyntaxError\u001b[0m\u001b[0;31m:\u001b[0m positional argument follows keyword argument\n"
     ]
    }
   ],
   "source": [
    "#!/usr/bin/env python\n",
    "\n",
    "# make sure to install these packages before running:\n",
    "# pip install pandas\n",
    "# pip install sodapy\n",
    "\n",
    "import pandas as pd\n",
    "from sodapy import Socrata\n",
    "\n",
    "# Unauthenticated client only works with public data sets. Note 'None'\n",
    "# in place of application token, and no username or password:\n",
    "# client = Socrata(\"data.wa.gov\", None)\n",
    "\n",
    "# Example authenticated client (needed for non-public datasets):\n",
    "client = Socrata(\"data.wa.gov\",\n",
    "                 \"9Wd0idzQuFB6INKzZXZH63zT2\",\n",
    "                 username=\"dzjfrank@gmail.com\",\n",
    "                 password=\"Qwer1234\")\n",
    "\n",
    "# First 2000 results, returned as JSON from API / converted to Python list of\n",
    "# dictionaries by sodapy.\n",
    "results = client.get(\"brw6-jymh\", limit=200000, model_year > 2014)\n",
    "\n",
    "# Convert to pandas DataFrame\n",
    "results_df = pd.DataFrame.from_records(results)"
   ]
  },
  {
   "cell_type": "code",
   "execution_count": 29,
   "metadata": {},
   "outputs": [
    {
     "data": {
      "text/plain": [
       "model_year\n",
       "2006    10810\n",
       "2015    10760\n",
       "2016    10458\n",
       "2017    10187\n",
       "2018    10120\n",
       "2008    10081\n",
       "2013     9873\n",
       "2004     9488\n",
       "2014     9372\n",
       "2007     8768\n",
       "2005     8254\n",
       "2012     7969\n",
       "2002     7960\n",
       "2019     7622\n",
       "2003     6886\n",
       "2011     6855\n",
       "2000     6690\n",
       "2010     6281\n",
       "2001     5896\n",
       "2009     4844\n",
       "1998     4579\n",
       "1999     4542\n",
       "2020     3708\n",
       "1997     3412\n",
       "1996     2935\n",
       "1995     2629\n",
       "1994     1773\n",
       "1993     1414\n",
       "1992     1091\n",
       "1991      939\n",
       "1990      849\n",
       "1989      698\n",
       "1988      498\n",
       "1987      429\n",
       "1986      406\n",
       "1985      303\n",
       "1984      224\n",
       "1983      156\n",
       "1982      124\n",
       "1981      115\n",
       "1980        2\n",
       "Name: count, dtype: int64"
      ]
     },
     "execution_count": 29,
     "metadata": {},
     "output_type": "execute_result"
    }
   ],
   "source": [
    "results_df[\"model_year\"].value_counts()"
   ]
  },
  {
   "cell_type": "code",
   "execution_count": 23,
   "metadata": {},
   "outputs": [
    {
     "data": {
      "text/plain": [
       "Index(['start_of_month', 'make', 'model', 'model_year', 'primary_color',\n",
       "       'vehicle_type', 'vehicle_primary_use', 'fuel_type_primary',\n",
       "       'gross_vehicle_weight_rating_class',\n",
       "       'gross_vehicle_weight_rating_range', 'electrification_level',\n",
       "       'plate_background', 'plate_configuration', 'owner_type', 'county',\n",
       "       'state', 'zip_code', 'transaction_type', 'transaction_channel',\n",
       "       '_2020_census_tract', 'vehicle_record_count', 'fuel_type_secondary'],\n",
       "      dtype='object')"
      ]
     },
     "execution_count": 23,
     "metadata": {},
     "output_type": "execute_result"
    }
   ],
   "source": [
    "results_df.columns  "
   ]
  }
 ],
 "metadata": {
  "kernelspec": {
   "display_name": "Python 3",
   "language": "python",
   "name": "python3"
  },
  "language_info": {
   "codemirror_mode": {
    "name": "ipython",
    "version": 3
   },
   "file_extension": ".py",
   "mimetype": "text/x-python",
   "name": "python",
   "nbconvert_exporter": "python",
   "pygments_lexer": "ipython3",
   "version": "3.10.9"
  }
 },
 "nbformat": 4,
 "nbformat_minor": 2
}
