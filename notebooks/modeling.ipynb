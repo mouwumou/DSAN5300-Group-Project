{
 "cells": [
  {
   "cell_type": "code",
   "execution_count": 4,
   "metadata": {},
   "outputs": [],
   "source": [
    "import pandas as pd\n",
    "\n",
    "from sklearn.linear_model import LogisticRegressionCV\n",
    "from sklearn.model_selection import train_test_split\n",
    "from sklearn.preprocessing import StandardScaler\n",
    "from sklearn.metrics import classification_report, confusion_matrix\n"
   ]
  },
  {
   "cell_type": "code",
   "execution_count": 3,
   "metadata": {},
   "outputs": [
    {
     "data": {
      "text/html": [
       "<div>\n",
       "<style scoped>\n",
       "    .dataframe tbody tr th:only-of-type {\n",
       "        vertical-align: middle;\n",
       "    }\n",
       "\n",
       "    .dataframe tbody tr th {\n",
       "        vertical-align: top;\n",
       "    }\n",
       "\n",
       "    .dataframe thead th {\n",
       "        text-align: right;\n",
       "    }\n",
       "</style>\n",
       "<table border=\"1\" class=\"dataframe\">\n",
       "  <thead>\n",
       "    <tr style=\"text-align: right;\">\n",
       "      <th></th>\n",
       "      <th>County</th>\n",
       "      <th>Total_Transactions</th>\n",
       "      <th>Electric_Vehicle_Count</th>\n",
       "      <th>Second_Electric_Vehicle_Count</th>\n",
       "      <th>Make_Model_Count</th>\n",
       "      <th>EV_Annual_Growth_Rate</th>\n",
       "      <th>Passenger_Ratio</th>\n",
       "      <th>Registration at Time of Transfer</th>\n",
       "      <th>Registration Renewal</th>\n",
       "      <th>Original Registration</th>\n",
       "      <th>Major_Brand_Proportion_2023</th>\n",
       "      <th>Major_Model_Proportion_2023</th>\n",
       "      <th>BEV</th>\n",
       "      <th>PHEV</th>\n",
       "    </tr>\n",
       "  </thead>\n",
       "  <tbody>\n",
       "    <tr>\n",
       "      <th>0</th>\n",
       "      <td>Ada</td>\n",
       "      <td>1.0</td>\n",
       "      <td>0.0</td>\n",
       "      <td>0.0</td>\n",
       "      <td>0.2</td>\n",
       "      <td>0.000000</td>\n",
       "      <td>1.000000</td>\n",
       "      <td>0.2</td>\n",
       "      <td>0.0</td>\n",
       "      <td>0.0</td>\n",
       "      <td>0.000000</td>\n",
       "      <td>0.000000</td>\n",
       "      <td>0.0</td>\n",
       "      <td>0.0</td>\n",
       "    </tr>\n",
       "    <tr>\n",
       "      <th>1</th>\n",
       "      <td>Adams</td>\n",
       "      <td>80773.0</td>\n",
       "      <td>139.0</td>\n",
       "      <td>1175.0</td>\n",
       "      <td>810.8</td>\n",
       "      <td>0.060281</td>\n",
       "      <td>0.695183</td>\n",
       "      <td>2555.4</td>\n",
       "      <td>12741.6</td>\n",
       "      <td>819.6</td>\n",
       "      <td>0.895833</td>\n",
       "      <td>0.604167</td>\n",
       "      <td>35.0</td>\n",
       "      <td>13.0</td>\n",
       "    </tr>\n",
       "    <tr>\n",
       "      <th>2</th>\n",
       "      <td>Aleutians East Boroug</td>\n",
       "      <td>3.0</td>\n",
       "      <td>0.0</td>\n",
       "      <td>0.0</td>\n",
       "      <td>0.6</td>\n",
       "      <td>0.000000</td>\n",
       "      <td>0.666667</td>\n",
       "      <td>0.0</td>\n",
       "      <td>0.6</td>\n",
       "      <td>0.0</td>\n",
       "      <td>0.000000</td>\n",
       "      <td>0.000000</td>\n",
       "      <td>0.0</td>\n",
       "      <td>0.0</td>\n",
       "    </tr>\n",
       "    <tr>\n",
       "      <th>3</th>\n",
       "      <td>Anchorage Municipalit</td>\n",
       "      <td>4.0</td>\n",
       "      <td>0.0</td>\n",
       "      <td>0.0</td>\n",
       "      <td>0.8</td>\n",
       "      <td>0.000000</td>\n",
       "      <td>1.000000</td>\n",
       "      <td>0.0</td>\n",
       "      <td>0.8</td>\n",
       "      <td>0.0</td>\n",
       "      <td>0.000000</td>\n",
       "      <td>0.000000</td>\n",
       "      <td>0.0</td>\n",
       "      <td>0.0</td>\n",
       "    </tr>\n",
       "    <tr>\n",
       "      <th>4</th>\n",
       "      <td>Asotin</td>\n",
       "      <td>83287.0</td>\n",
       "      <td>214.0</td>\n",
       "      <td>1566.0</td>\n",
       "      <td>971.8</td>\n",
       "      <td>0.002545</td>\n",
       "      <td>0.630110</td>\n",
       "      <td>1496.6</td>\n",
       "      <td>13760.4</td>\n",
       "      <td>1388.8</td>\n",
       "      <td>0.808219</td>\n",
       "      <td>0.506849</td>\n",
       "      <td>47.0</td>\n",
       "      <td>26.0</td>\n",
       "    </tr>\n",
       "    <tr>\n",
       "      <th>...</th>\n",
       "      <td>...</td>\n",
       "      <td>...</td>\n",
       "      <td>...</td>\n",
       "      <td>...</td>\n",
       "      <td>...</td>\n",
       "      <td>...</td>\n",
       "      <td>...</td>\n",
       "      <td>...</td>\n",
       "      <td>...</td>\n",
       "      <td>...</td>\n",
       "      <td>...</td>\n",
       "      <td>...</td>\n",
       "      <td>...</td>\n",
       "      <td>...</td>\n",
       "    </tr>\n",
       "    <tr>\n",
       "      <th>94</th>\n",
       "      <td>Wahkiakum</td>\n",
       "      <td>20333.0</td>\n",
       "      <td>143.0</td>\n",
       "      <td>533.0</td>\n",
       "      <td>530.8</td>\n",
       "      <td>0.250655</td>\n",
       "      <td>0.608371</td>\n",
       "      <td>397.2</td>\n",
       "      <td>3329.4</td>\n",
       "      <td>335.0</td>\n",
       "      <td>0.816667</td>\n",
       "      <td>0.583333</td>\n",
       "      <td>38.0</td>\n",
       "      <td>22.0</td>\n",
       "    </tr>\n",
       "    <tr>\n",
       "      <th>95</th>\n",
       "      <td>Walla Walla</td>\n",
       "      <td>218055.0</td>\n",
       "      <td>1221.0</td>\n",
       "      <td>5815.0</td>\n",
       "      <td>1454.6</td>\n",
       "      <td>0.049271</td>\n",
       "      <td>0.696622</td>\n",
       "      <td>4954.0</td>\n",
       "      <td>35607.0</td>\n",
       "      <td>2990.6</td>\n",
       "      <td>0.826087</td>\n",
       "      <td>0.556064</td>\n",
       "      <td>294.0</td>\n",
       "      <td>143.0</td>\n",
       "    </tr>\n",
       "    <tr>\n",
       "      <th>96</th>\n",
       "      <td>Whatcom</td>\n",
       "      <td>867419.0</td>\n",
       "      <td>12237.0</td>\n",
       "      <td>33778.0</td>\n",
       "      <td>2282.0</td>\n",
       "      <td>0.034677</td>\n",
       "      <td>0.740665</td>\n",
       "      <td>20917.8</td>\n",
       "      <td>140271.0</td>\n",
       "      <td>11117.8</td>\n",
       "      <td>0.848107</td>\n",
       "      <td>0.602869</td>\n",
       "      <td>3169.0</td>\n",
       "      <td>1084.0</td>\n",
       "    </tr>\n",
       "    <tr>\n",
       "      <th>97</th>\n",
       "      <td>Whitman</td>\n",
       "      <td>133094.0</td>\n",
       "      <td>805.0</td>\n",
       "      <td>4153.0</td>\n",
       "      <td>1145.8</td>\n",
       "      <td>0.173568</td>\n",
       "      <td>0.698018</td>\n",
       "      <td>2570.0</td>\n",
       "      <td>21883.0</td>\n",
       "      <td>2137.2</td>\n",
       "      <td>0.865269</td>\n",
       "      <td>0.589820</td>\n",
       "      <td>220.0</td>\n",
       "      <td>114.0</td>\n",
       "    </tr>\n",
       "    <tr>\n",
       "      <th>98</th>\n",
       "      <td>Yakima</td>\n",
       "      <td>1005843.0</td>\n",
       "      <td>2608.0</td>\n",
       "      <td>14546.0</td>\n",
       "      <td>2076.0</td>\n",
       "      <td>0.138440</td>\n",
       "      <td>0.718119</td>\n",
       "      <td>31188.6</td>\n",
       "      <td>159618.8</td>\n",
       "      <td>9809.8</td>\n",
       "      <td>0.845226</td>\n",
       "      <td>0.616080</td>\n",
       "      <td>688.0</td>\n",
       "      <td>307.0</td>\n",
       "    </tr>\n",
       "  </tbody>\n",
       "</table>\n",
       "<p>99 rows × 14 columns</p>\n",
       "</div>"
      ],
      "text/plain": [
       "                   County  Total_Transactions  Electric_Vehicle_Count  \\\n",
       "0                     Ada                 1.0                     0.0   \n",
       "1                   Adams             80773.0                   139.0   \n",
       "2   Aleutians East Boroug                 3.0                     0.0   \n",
       "3   Anchorage Municipalit                 4.0                     0.0   \n",
       "4                  Asotin             83287.0                   214.0   \n",
       "..                    ...                 ...                     ...   \n",
       "94              Wahkiakum             20333.0                   143.0   \n",
       "95            Walla Walla            218055.0                  1221.0   \n",
       "96                Whatcom            867419.0                 12237.0   \n",
       "97                Whitman            133094.0                   805.0   \n",
       "98                 Yakima           1005843.0                  2608.0   \n",
       "\n",
       "    Second_Electric_Vehicle_Count  Make_Model_Count  EV_Annual_Growth_Rate  \\\n",
       "0                             0.0               0.2               0.000000   \n",
       "1                          1175.0             810.8               0.060281   \n",
       "2                             0.0               0.6               0.000000   \n",
       "3                             0.0               0.8               0.000000   \n",
       "4                          1566.0             971.8               0.002545   \n",
       "..                            ...               ...                    ...   \n",
       "94                          533.0             530.8               0.250655   \n",
       "95                         5815.0            1454.6               0.049271   \n",
       "96                        33778.0            2282.0               0.034677   \n",
       "97                         4153.0            1145.8               0.173568   \n",
       "98                        14546.0            2076.0               0.138440   \n",
       "\n",
       "    Passenger_Ratio  Registration at Time of Transfer  Registration Renewal  \\\n",
       "0          1.000000                               0.2                   0.0   \n",
       "1          0.695183                            2555.4               12741.6   \n",
       "2          0.666667                               0.0                   0.6   \n",
       "3          1.000000                               0.0                   0.8   \n",
       "4          0.630110                            1496.6               13760.4   \n",
       "..              ...                               ...                   ...   \n",
       "94         0.608371                             397.2                3329.4   \n",
       "95         0.696622                            4954.0               35607.0   \n",
       "96         0.740665                           20917.8              140271.0   \n",
       "97         0.698018                            2570.0               21883.0   \n",
       "98         0.718119                           31188.6              159618.8   \n",
       "\n",
       "    Original Registration  Major_Brand_Proportion_2023  \\\n",
       "0                     0.0                     0.000000   \n",
       "1                   819.6                     0.895833   \n",
       "2                     0.0                     0.000000   \n",
       "3                     0.0                     0.000000   \n",
       "4                  1388.8                     0.808219   \n",
       "..                    ...                          ...   \n",
       "94                  335.0                     0.816667   \n",
       "95                 2990.6                     0.826087   \n",
       "96                11117.8                     0.848107   \n",
       "97                 2137.2                     0.865269   \n",
       "98                 9809.8                     0.845226   \n",
       "\n",
       "    Major_Model_Proportion_2023     BEV    PHEV  \n",
       "0                      0.000000     0.0     0.0  \n",
       "1                      0.604167    35.0    13.0  \n",
       "2                      0.000000     0.0     0.0  \n",
       "3                      0.000000     0.0     0.0  \n",
       "4                      0.506849    47.0    26.0  \n",
       "..                          ...     ...     ...  \n",
       "94                     0.583333    38.0    22.0  \n",
       "95                     0.556064   294.0   143.0  \n",
       "96                     0.602869  3169.0  1084.0  \n",
       "97                     0.589820   220.0   114.0  \n",
       "98                     0.616080   688.0   307.0  \n",
       "\n",
       "[99 rows x 14 columns]"
      ]
     },
     "execution_count": 3,
     "metadata": {},
     "output_type": "execute_result"
    }
   ],
   "source": [
    "df = pd.read_csv('../data/prepared_data.csv')\n",
    "df"
   ]
  },
  {
   "cell_type": "code",
   "execution_count": 11,
   "metadata": {},
   "outputs": [],
   "source": [
    "df['EV_Proportion'] = df['Electric_Vehicle_Count'] / df['Total_Transactions']\n",
    "\n",
    "threshold = df['EV_Proportion'].describe()['75%']\n",
    "df['EV_High_Low'] = (df['EV_Proportion'] > threshold).astype(int)\n",
    "\n",
    "# Features and target variable\n",
    "X = df.drop(columns=['County', 'Electric_Vehicle_Count', 'High_EV_Adoption'])\n",
    "y = df['High_EV_Adoption']\n"
   ]
  },
  {
   "cell_type": "code",
   "execution_count": 12,
   "metadata": {},
   "outputs": [
    {
     "data": {
      "text/plain": [
       "('              precision    recall  f1-score   support\\n\\n           0       0.93      1.00      0.96        13\\n           1       1.00      0.86      0.92         7\\n\\n    accuracy                           0.95        20\\n   macro avg       0.96      0.93      0.94        20\\nweighted avg       0.95      0.95      0.95        20\\n',\n",
       " array([[13,  0],\n",
       "        [ 1,  6]], dtype=int64))"
      ]
     },
     "execution_count": 12,
     "metadata": {},
     "output_type": "execute_result"
    }
   ],
   "source": [
    "\n",
    "scaler = StandardScaler()\n",
    "X_scaled = scaler.fit_transform(X)\n",
    "\n",
    "X_train, X_test, y_train, y_test = train_test_split(X_scaled, y, test_size=0.2, random_state=42)\n",
    "\n",
    "logistic_cv = LogisticRegressionCV(cv=5, penalty='l2', scoring='accuracy', random_state=42)\n",
    "logistic_cv.fit(X_train, y_train)\n",
    "\n",
    "predictions = logistic_cv.predict(X_test)\n",
    "report = classification_report(y_test, predictions)\n",
    "cm = confusion_matrix(y_test, predictions)\n",
    "\n",
    "report, cm\n"
   ]
  },
  {
   "cell_type": "code",
   "execution_count": 13,
   "metadata": {},
   "outputs": [
    {
     "data": {
      "text/html": [
       "<div>\n",
       "<style scoped>\n",
       "    .dataframe tbody tr th:only-of-type {\n",
       "        vertical-align: middle;\n",
       "    }\n",
       "\n",
       "    .dataframe tbody tr th {\n",
       "        vertical-align: top;\n",
       "    }\n",
       "\n",
       "    .dataframe thead th {\n",
       "        text-align: right;\n",
       "    }\n",
       "</style>\n",
       "<table border=\"1\" class=\"dataframe\">\n",
       "  <thead>\n",
       "    <tr style=\"text-align: right;\">\n",
       "      <th></th>\n",
       "      <th>Feature</th>\n",
       "      <th>Coefficient</th>\n",
       "    </tr>\n",
       "  </thead>\n",
       "  <tbody>\n",
       "    <tr>\n",
       "      <th>0</th>\n",
       "      <td>Total_Transactions</td>\n",
       "      <td>0.083078</td>\n",
       "    </tr>\n",
       "    <tr>\n",
       "      <th>1</th>\n",
       "      <td>Second_Electric_Vehicle_Count</td>\n",
       "      <td>0.041935</td>\n",
       "    </tr>\n",
       "    <tr>\n",
       "      <th>2</th>\n",
       "      <td>Make_Model_Count</td>\n",
       "      <td>0.338877</td>\n",
       "    </tr>\n",
       "    <tr>\n",
       "      <th>3</th>\n",
       "      <td>EV_Annual_Growth_Rate</td>\n",
       "      <td>0.284872</td>\n",
       "    </tr>\n",
       "    <tr>\n",
       "      <th>4</th>\n",
       "      <td>Passenger_Ratio</td>\n",
       "      <td>-0.055294</td>\n",
       "    </tr>\n",
       "    <tr>\n",
       "      <th>5</th>\n",
       "      <td>Registration at Time of Transfer</td>\n",
       "      <td>0.097988</td>\n",
       "    </tr>\n",
       "    <tr>\n",
       "      <th>6</th>\n",
       "      <td>Registration Renewal</td>\n",
       "      <td>0.083618</td>\n",
       "    </tr>\n",
       "    <tr>\n",
       "      <th>7</th>\n",
       "      <td>Original Registration</td>\n",
       "      <td>0.066184</td>\n",
       "    </tr>\n",
       "    <tr>\n",
       "      <th>8</th>\n",
       "      <td>Major_Brand_Proportion_2023</td>\n",
       "      <td>0.515108</td>\n",
       "    </tr>\n",
       "    <tr>\n",
       "      <th>9</th>\n",
       "      <td>Major_Model_Proportion_2023</td>\n",
       "      <td>0.435046</td>\n",
       "    </tr>\n",
       "    <tr>\n",
       "      <th>10</th>\n",
       "      <td>BEV</td>\n",
       "      <td>0.020257</td>\n",
       "    </tr>\n",
       "    <tr>\n",
       "      <th>11</th>\n",
       "      <td>PHEV</td>\n",
       "      <td>0.031427</td>\n",
       "    </tr>\n",
       "    <tr>\n",
       "      <th>12</th>\n",
       "      <td>EV_Proportion</td>\n",
       "      <td>0.231651</td>\n",
       "    </tr>\n",
       "    <tr>\n",
       "      <th>13</th>\n",
       "      <td>EV_High_Low</td>\n",
       "      <td>0.231381</td>\n",
       "    </tr>\n",
       "  </tbody>\n",
       "</table>\n",
       "</div>"
      ],
      "text/plain": [
       "                             Feature  Coefficient\n",
       "0                 Total_Transactions     0.083078\n",
       "1      Second_Electric_Vehicle_Count     0.041935\n",
       "2                   Make_Model_Count     0.338877\n",
       "3              EV_Annual_Growth_Rate     0.284872\n",
       "4                    Passenger_Ratio    -0.055294\n",
       "5   Registration at Time of Transfer     0.097988\n",
       "6               Registration Renewal     0.083618\n",
       "7              Original Registration     0.066184\n",
       "8        Major_Brand_Proportion_2023     0.515108\n",
       "9        Major_Model_Proportion_2023     0.435046\n",
       "10                               BEV     0.020257\n",
       "11                              PHEV     0.031427\n",
       "12                     EV_Proportion     0.231651\n",
       "13                       EV_High_Low     0.231381"
      ]
     },
     "execution_count": 13,
     "metadata": {},
     "output_type": "execute_result"
    }
   ],
   "source": [
    "# Extracting coefficients from the logistic regression model\n",
    "feature_coefficients = pd.DataFrame({\n",
    "    'Feature': X.columns,\n",
    "    'Coefficient': logistic_cv.coef_[0]\n",
    "})\n",
    "\n",
    "feature_coefficients\n"
   ]
  },
  {
   "cell_type": "code",
   "execution_count": null,
   "metadata": {},
   "outputs": [],
   "source": []
  },
  {
   "cell_type": "code",
   "execution_count": null,
   "metadata": {},
   "outputs": [],
   "source": []
  },
  {
   "cell_type": "code",
   "execution_count": null,
   "metadata": {},
   "outputs": [],
   "source": []
  },
  {
   "cell_type": "code",
   "execution_count": null,
   "metadata": {},
   "outputs": [],
   "source": []
  },
  {
   "cell_type": "markdown",
   "metadata": {},
   "source": [
    "### extra K-means"
   ]
  },
  {
   "cell_type": "code",
   "execution_count": 25,
   "metadata": {},
   "outputs": [
    {
     "name": "stderr",
     "output_type": "stream",
     "text": [
      "d:\\anaconda\\Lib\\site-packages\\sklearn\\cluster\\_kmeans.py:870: FutureWarning: The default value of `n_init` will change from 10 to 'auto' in 1.4. Set the value of `n_init` explicitly to suppress the warning\n",
      "  warnings.warn(\n",
      "d:\\anaconda\\Lib\\site-packages\\sklearn\\cluster\\_kmeans.py:1382: UserWarning: KMeans is known to have a memory leak on Windows with MKL, when there are less chunks than available threads. You can avoid it by setting the environment variable OMP_NUM_THREADS=1.\n",
      "  warnings.warn(\n",
      "d:\\anaconda\\Lib\\site-packages\\sklearn\\cluster\\_kmeans.py:870: FutureWarning: The default value of `n_init` will change from 10 to 'auto' in 1.4. Set the value of `n_init` explicitly to suppress the warning\n",
      "  warnings.warn(\n",
      "d:\\anaconda\\Lib\\site-packages\\sklearn\\cluster\\_kmeans.py:1382: UserWarning: KMeans is known to have a memory leak on Windows with MKL, when there are less chunks than available threads. You can avoid it by setting the environment variable OMP_NUM_THREADS=1.\n",
      "  warnings.warn(\n",
      "d:\\anaconda\\Lib\\site-packages\\sklearn\\cluster\\_kmeans.py:870: FutureWarning: The default value of `n_init` will change from 10 to 'auto' in 1.4. Set the value of `n_init` explicitly to suppress the warning\n",
      "  warnings.warn(\n",
      "d:\\anaconda\\Lib\\site-packages\\sklearn\\cluster\\_kmeans.py:1382: UserWarning: KMeans is known to have a memory leak on Windows with MKL, when there are less chunks than available threads. You can avoid it by setting the environment variable OMP_NUM_THREADS=1.\n",
      "  warnings.warn(\n",
      "d:\\anaconda\\Lib\\site-packages\\sklearn\\cluster\\_kmeans.py:870: FutureWarning: The default value of `n_init` will change from 10 to 'auto' in 1.4. Set the value of `n_init` explicitly to suppress the warning\n",
      "  warnings.warn(\n",
      "d:\\anaconda\\Lib\\site-packages\\sklearn\\cluster\\_kmeans.py:1382: UserWarning: KMeans is known to have a memory leak on Windows with MKL, when there are less chunks than available threads. You can avoid it by setting the environment variable OMP_NUM_THREADS=1.\n",
      "  warnings.warn(\n",
      "d:\\anaconda\\Lib\\site-packages\\sklearn\\cluster\\_kmeans.py:870: FutureWarning: The default value of `n_init` will change from 10 to 'auto' in 1.4. Set the value of `n_init` explicitly to suppress the warning\n",
      "  warnings.warn(\n",
      "d:\\anaconda\\Lib\\site-packages\\sklearn\\cluster\\_kmeans.py:1382: UserWarning: KMeans is known to have a memory leak on Windows with MKL, when there are less chunks than available threads. You can avoid it by setting the environment variable OMP_NUM_THREADS=1.\n",
      "  warnings.warn(\n",
      "d:\\anaconda\\Lib\\site-packages\\sklearn\\cluster\\_kmeans.py:870: FutureWarning: The default value of `n_init` will change from 10 to 'auto' in 1.4. Set the value of `n_init` explicitly to suppress the warning\n",
      "  warnings.warn(\n",
      "d:\\anaconda\\Lib\\site-packages\\sklearn\\cluster\\_kmeans.py:1382: UserWarning: KMeans is known to have a memory leak on Windows with MKL, when there are less chunks than available threads. You can avoid it by setting the environment variable OMP_NUM_THREADS=1.\n",
      "  warnings.warn(\n",
      "d:\\anaconda\\Lib\\site-packages\\sklearn\\cluster\\_kmeans.py:870: FutureWarning: The default value of `n_init` will change from 10 to 'auto' in 1.4. Set the value of `n_init` explicitly to suppress the warning\n",
      "  warnings.warn(\n",
      "d:\\anaconda\\Lib\\site-packages\\sklearn\\cluster\\_kmeans.py:1382: UserWarning: KMeans is known to have a memory leak on Windows with MKL, when there are less chunks than available threads. You can avoid it by setting the environment variable OMP_NUM_THREADS=1.\n",
      "  warnings.warn(\n",
      "d:\\anaconda\\Lib\\site-packages\\sklearn\\cluster\\_kmeans.py:870: FutureWarning: The default value of `n_init` will change from 10 to 'auto' in 1.4. Set the value of `n_init` explicitly to suppress the warning\n",
      "  warnings.warn(\n",
      "d:\\anaconda\\Lib\\site-packages\\sklearn\\cluster\\_kmeans.py:1382: UserWarning: KMeans is known to have a memory leak on Windows with MKL, when there are less chunks than available threads. You can avoid it by setting the environment variable OMP_NUM_THREADS=1.\n",
      "  warnings.warn(\n",
      "d:\\anaconda\\Lib\\site-packages\\sklearn\\cluster\\_kmeans.py:870: FutureWarning: The default value of `n_init` will change from 10 to 'auto' in 1.4. Set the value of `n_init` explicitly to suppress the warning\n",
      "  warnings.warn(\n",
      "d:\\anaconda\\Lib\\site-packages\\sklearn\\cluster\\_kmeans.py:1382: UserWarning: KMeans is known to have a memory leak on Windows with MKL, when there are less chunks than available threads. You can avoid it by setting the environment variable OMP_NUM_THREADS=1.\n",
      "  warnings.warn(\n",
      "d:\\anaconda\\Lib\\site-packages\\sklearn\\cluster\\_kmeans.py:870: FutureWarning: The default value of `n_init` will change from 10 to 'auto' in 1.4. Set the value of `n_init` explicitly to suppress the warning\n",
      "  warnings.warn(\n",
      "d:\\anaconda\\Lib\\site-packages\\sklearn\\cluster\\_kmeans.py:1382: UserWarning: KMeans is known to have a memory leak on Windows with MKL, when there are less chunks than available threads. You can avoid it by setting the environment variable OMP_NUM_THREADS=1.\n",
      "  warnings.warn(\n"
     ]
    },
    {
     "data": {
      "image/png": "[encoded data removed]",
      "text/plain": [
       "<Figure size 1000x600 with 1 Axes>"
      ]
     },
     "metadata": {},
     "output_type": "display_data"
    }
   ],
   "source": [
    "from sklearn.cluster import KMeans\n",
    "import matplotlib.pyplot as plt\n",
    "\n",
    "# Function to calculate the sum of squared distances for different number of clusters\n",
    "def elbow_method(data, k_range):\n",
    "    sse = []\n",
    "    for k in k_range:\n",
    "        kmeans = KMeans(n_clusters=k, random_state=42)\n",
    "        kmeans.fit(data)\n",
    "        sse.append(kmeans.inertia_)\n",
    "    return sse\n",
    "\n",
    "# Define the range of k\n",
    "k_range = range(1, 11)\n",
    "\n",
    "# Calculate SSE for each k\n",
    "sse = elbow_method(X_scaled, k_range)\n",
    "\n",
    "# Plotting the elbow graph\n",
    "plt.figure(figsize=(10, 6))\n",
    "plt.plot(k_range, sse, marker='o')\n",
    "plt.title('Elbow Method For Optimal k')\n",
    "plt.xlabel('Number of clusters')\n",
    "plt.ylabel('Sum of Squared Errors (SSE)')\n",
    "plt.grid(True)\n",
    "plt.show()\n"
   ]
  },
  {
   "cell_type": "code",
   "execution_count": 26,
   "metadata": {},
   "outputs": [
    {
     "name": "stderr",
     "output_type": "stream",
     "text": [
      "d:\\anaconda\\Lib\\site-packages\\sklearn\\cluster\\_kmeans.py:870: FutureWarning: The default value of `n_init` will change from 10 to 'auto' in 1.4. Set the value of `n_init` explicitly to suppress the warning\n",
      "  warnings.warn(\n",
      "d:\\anaconda\\Lib\\site-packages\\sklearn\\cluster\\_kmeans.py:1382: UserWarning: KMeans is known to have a memory leak on Windows with MKL, when there are less chunks than available threads. You can avoid it by setting the environment variable OMP_NUM_THREADS=1.\n",
      "  warnings.warn(\n"
     ]
    }
   ],
   "source": [
    "# Running K-means with k=3\n",
    "kmeans = KMeans(n_clusters=3, random_state=42)\n",
    "clusters = kmeans.fit_predict(X_scaled)\n",
    "\n"
   ]
  },
  {
   "cell_type": "code",
   "execution_count": 30,
   "metadata": {},
   "outputs": [
    {
     "data": {
      "text/plain": [
       "array([[ 1.75717460e+03,  3.18888889e+01,  2.88380952e+01,\n",
       "        -2.79587970e-03,  7.34171916e-01,  3.37492063e+01,\n",
       "         2.89930159e+02,  2.75269841e+01,  4.35828441e-02,\n",
       "         1.79658621e-02,  1.04761905e+00,  4.12698413e-01,\n",
       "         9.47491525e-05,  3.33066907e-16],\n",
       "       [ 5.80190914e+05,  1.83661714e+04,  1.63045143e+03,\n",
       "         1.02562796e-01,  6.79793295e-01,  1.42208514e+04,\n",
       "         9.33745257e+04,  8.09854857e+03,  8.46109393e-01,\n",
       "         6.05988565e-01,  1.82694286e+03,  5.91371429e+02,\n",
       "         8.68699815e-03,  6.85714286e-01],\n",
       "       [ 6.98693900e+06,  4.16266000e+05,  3.67640000e+03,\n",
       "         4.56459769e-02,  8.43184261e-01,  1.38250600e+05,\n",
       "         1.11577580e+06,  1.15044800e+05,  8.42139314e-01,\n",
       "         6.43001941e-01,  7.49420000e+04,  1.77980000e+04,\n",
       "         3.51514447e-02,  1.00000000e+00]])"
      ]
     },
     "execution_count": 30,
     "metadata": {},
     "output_type": "execute_result"
    }
   ],
   "source": [
    "scaler.inverse_transform(kmeans.cluster_centers_)"
   ]
  },
  {
   "cell_type": "code",
   "execution_count": 31,
   "metadata": {},
   "outputs": [
    {
     "data": {
      "text/html": [
       "<div>\n",
       "<style scoped>\n",
       "    .dataframe tbody tr th:only-of-type {\n",
       "        vertical-align: middle;\n",
       "    }\n",
       "\n",
       "    .dataframe tbody tr th {\n",
       "        vertical-align: top;\n",
       "    }\n",
       "\n",
       "    .dataframe thead th {\n",
       "        text-align: right;\n",
       "    }\n",
       "</style>\n",
       "<table border=\"1\" class=\"dataframe\">\n",
       "  <thead>\n",
       "    <tr style=\"text-align: right;\">\n",
       "      <th></th>\n",
       "      <th>County</th>\n",
       "      <th>Total_Transactions</th>\n",
       "      <th>Electric_Vehicle_Count</th>\n",
       "      <th>Second_Electric_Vehicle_Count</th>\n",
       "      <th>Make_Model_Count</th>\n",
       "      <th>EV_Annual_Growth_Rate</th>\n",
       "      <th>Passenger_Ratio</th>\n",
       "      <th>Registration at Time of Transfer</th>\n",
       "      <th>Registration Renewal</th>\n",
       "      <th>Original Registration</th>\n",
       "      <th>Major_Brand_Proportion_2023</th>\n",
       "      <th>Major_Model_Proportion_2023</th>\n",
       "      <th>BEV</th>\n",
       "      <th>PHEV</th>\n",
       "      <th>High_EV_Adoption</th>\n",
       "      <th>EV_Proportion</th>\n",
       "      <th>EV_High_Low</th>\n",
       "      <th>Cluster</th>\n",
       "    </tr>\n",
       "  </thead>\n",
       "  <tbody>\n",
       "    <tr>\n",
       "      <th>0</th>\n",
       "      <td>Ada</td>\n",
       "      <td>1.0</td>\n",
       "      <td>0.0</td>\n",
       "      <td>0.0</td>\n",
       "      <td>0.2</td>\n",
       "      <td>0.000000</td>\n",
       "      <td>1.000000</td>\n",
       "      <td>0.2</td>\n",
       "      <td>0.0</td>\n",
       "      <td>0.0</td>\n",
       "      <td>0.000000</td>\n",
       "      <td>0.000000</td>\n",
       "      <td>0.0</td>\n",
       "      <td>0.0</td>\n",
       "      <td>0</td>\n",
       "      <td>0.000000</td>\n",
       "      <td>0</td>\n",
       "      <td>0</td>\n",
       "    </tr>\n",
       "    <tr>\n",
       "      <th>1</th>\n",
       "      <td>Adams</td>\n",
       "      <td>80773.0</td>\n",
       "      <td>139.0</td>\n",
       "      <td>1175.0</td>\n",
       "      <td>810.8</td>\n",
       "      <td>0.060281</td>\n",
       "      <td>0.695183</td>\n",
       "      <td>2555.4</td>\n",
       "      <td>12741.6</td>\n",
       "      <td>819.6</td>\n",
       "      <td>0.895833</td>\n",
       "      <td>0.604167</td>\n",
       "      <td>35.0</td>\n",
       "      <td>13.0</td>\n",
       "      <td>1</td>\n",
       "      <td>0.001721</td>\n",
       "      <td>0</td>\n",
       "      <td>1</td>\n",
       "    </tr>\n",
       "    <tr>\n",
       "      <th>2</th>\n",
       "      <td>Aleutians East Boroug</td>\n",
       "      <td>3.0</td>\n",
       "      <td>0.0</td>\n",
       "      <td>0.0</td>\n",
       "      <td>0.6</td>\n",
       "      <td>0.000000</td>\n",
       "      <td>0.666667</td>\n",
       "      <td>0.0</td>\n",
       "      <td>0.6</td>\n",
       "      <td>0.0</td>\n",
       "      <td>0.000000</td>\n",
       "      <td>0.000000</td>\n",
       "      <td>0.0</td>\n",
       "      <td>0.0</td>\n",
       "      <td>0</td>\n",
       "      <td>0.000000</td>\n",
       "      <td>0</td>\n",
       "      <td>0</td>\n",
       "    </tr>\n",
       "    <tr>\n",
       "      <th>3</th>\n",
       "      <td>Anchorage Municipalit</td>\n",
       "      <td>4.0</td>\n",
       "      <td>0.0</td>\n",
       "      <td>0.0</td>\n",
       "      <td>0.8</td>\n",
       "      <td>0.000000</td>\n",
       "      <td>1.000000</td>\n",
       "      <td>0.0</td>\n",
       "      <td>0.8</td>\n",
       "      <td>0.0</td>\n",
       "      <td>0.000000</td>\n",
       "      <td>0.000000</td>\n",
       "      <td>0.0</td>\n",
       "      <td>0.0</td>\n",
       "      <td>0</td>\n",
       "      <td>0.000000</td>\n",
       "      <td>0</td>\n",
       "      <td>0</td>\n",
       "    </tr>\n",
       "    <tr>\n",
       "      <th>4</th>\n",
       "      <td>Asotin</td>\n",
       "      <td>83287.0</td>\n",
       "      <td>214.0</td>\n",
       "      <td>1566.0</td>\n",
       "      <td>971.8</td>\n",
       "      <td>0.002545</td>\n",
       "      <td>0.630110</td>\n",
       "      <td>1496.6</td>\n",
       "      <td>13760.4</td>\n",
       "      <td>1388.8</td>\n",
       "      <td>0.808219</td>\n",
       "      <td>0.506849</td>\n",
       "      <td>47.0</td>\n",
       "      <td>26.0</td>\n",
       "      <td>1</td>\n",
       "      <td>0.002569</td>\n",
       "      <td>0</td>\n",
       "      <td>0</td>\n",
       "    </tr>\n",
       "    <tr>\n",
       "      <th>...</th>\n",
       "      <td>...</td>\n",
       "      <td>...</td>\n",
       "      <td>...</td>\n",
       "      <td>...</td>\n",
       "      <td>...</td>\n",
       "      <td>...</td>\n",
       "      <td>...</td>\n",
       "      <td>...</td>\n",
       "      <td>...</td>\n",
       "      <td>...</td>\n",
       "      <td>...</td>\n",
       "      <td>...</td>\n",
       "      <td>...</td>\n",
       "      <td>...</td>\n",
       "      <td>...</td>\n",
       "      <td>...</td>\n",
       "      <td>...</td>\n",
       "      <td>...</td>\n",
       "    </tr>\n",
       "    <tr>\n",
       "      <th>94</th>\n",
       "      <td>Wahkiakum</td>\n",
       "      <td>20333.0</td>\n",
       "      <td>143.0</td>\n",
       "      <td>533.0</td>\n",
       "      <td>530.8</td>\n",
       "      <td>0.250655</td>\n",
       "      <td>0.608371</td>\n",
       "      <td>397.2</td>\n",
       "      <td>3329.4</td>\n",
       "      <td>335.0</td>\n",
       "      <td>0.816667</td>\n",
       "      <td>0.583333</td>\n",
       "      <td>38.0</td>\n",
       "      <td>22.0</td>\n",
       "      <td>1</td>\n",
       "      <td>0.007033</td>\n",
       "      <td>1</td>\n",
       "      <td>1</td>\n",
       "    </tr>\n",
       "    <tr>\n",
       "      <th>95</th>\n",
       "      <td>Walla Walla</td>\n",
       "      <td>218055.0</td>\n",
       "      <td>1221.0</td>\n",
       "      <td>5815.0</td>\n",
       "      <td>1454.6</td>\n",
       "      <td>0.049271</td>\n",
       "      <td>0.696622</td>\n",
       "      <td>4954.0</td>\n",
       "      <td>35607.0</td>\n",
       "      <td>2990.6</td>\n",
       "      <td>0.826087</td>\n",
       "      <td>0.556064</td>\n",
       "      <td>294.0</td>\n",
       "      <td>143.0</td>\n",
       "      <td>1</td>\n",
       "      <td>0.005600</td>\n",
       "      <td>1</td>\n",
       "      <td>1</td>\n",
       "    </tr>\n",
       "    <tr>\n",
       "      <th>96</th>\n",
       "      <td>Whatcom</td>\n",
       "      <td>867419.0</td>\n",
       "      <td>12237.0</td>\n",
       "      <td>33778.0</td>\n",
       "      <td>2282.0</td>\n",
       "      <td>0.034677</td>\n",
       "      <td>0.740665</td>\n",
       "      <td>20917.8</td>\n",
       "      <td>140271.0</td>\n",
       "      <td>11117.8</td>\n",
       "      <td>0.848107</td>\n",
       "      <td>0.602869</td>\n",
       "      <td>3169.0</td>\n",
       "      <td>1084.0</td>\n",
       "      <td>1</td>\n",
       "      <td>0.014107</td>\n",
       "      <td>1</td>\n",
       "      <td>1</td>\n",
       "    </tr>\n",
       "    <tr>\n",
       "      <th>97</th>\n",
       "      <td>Whitman</td>\n",
       "      <td>133094.0</td>\n",
       "      <td>805.0</td>\n",
       "      <td>4153.0</td>\n",
       "      <td>1145.8</td>\n",
       "      <td>0.173568</td>\n",
       "      <td>0.698018</td>\n",
       "      <td>2570.0</td>\n",
       "      <td>21883.0</td>\n",
       "      <td>2137.2</td>\n",
       "      <td>0.865269</td>\n",
       "      <td>0.589820</td>\n",
       "      <td>220.0</td>\n",
       "      <td>114.0</td>\n",
       "      <td>1</td>\n",
       "      <td>0.006048</td>\n",
       "      <td>1</td>\n",
       "      <td>1</td>\n",
       "    </tr>\n",
       "    <tr>\n",
       "      <th>98</th>\n",
       "      <td>Yakima</td>\n",
       "      <td>1005843.0</td>\n",
       "      <td>2608.0</td>\n",
       "      <td>14546.0</td>\n",
       "      <td>2076.0</td>\n",
       "      <td>0.138440</td>\n",
       "      <td>0.718119</td>\n",
       "      <td>31188.6</td>\n",
       "      <td>159618.8</td>\n",
       "      <td>9809.8</td>\n",
       "      <td>0.845226</td>\n",
       "      <td>0.616080</td>\n",
       "      <td>688.0</td>\n",
       "      <td>307.0</td>\n",
       "      <td>1</td>\n",
       "      <td>0.002593</td>\n",
       "      <td>0</td>\n",
       "      <td>1</td>\n",
       "    </tr>\n",
       "  </tbody>\n",
       "</table>\n",
       "<p>99 rows × 18 columns</p>\n",
       "</div>"
      ],
      "text/plain": [
       "                   County  Total_Transactions  Electric_Vehicle_Count  \\\n",
       "0                     Ada                 1.0                     0.0   \n",
       "1                   Adams             80773.0                   139.0   \n",
       "2   Aleutians East Boroug                 3.0                     0.0   \n",
       "3   Anchorage Municipalit                 4.0                     0.0   \n",
       "4                  Asotin             83287.0                   214.0   \n",
       "..                    ...                 ...                     ...   \n",
       "94              Wahkiakum             20333.0                   143.0   \n",
       "95            Walla Walla            218055.0                  1221.0   \n",
       "96                Whatcom            867419.0                 12237.0   \n",
       "97                Whitman            133094.0                   805.0   \n",
       "98                 Yakima           1005843.0                  2608.0   \n",
       "\n",
       "    Second_Electric_Vehicle_Count  Make_Model_Count  EV_Annual_Growth_Rate  \\\n",
       "0                             0.0               0.2               0.000000   \n",
       "1                          1175.0             810.8               0.060281   \n",
       "2                             0.0               0.6               0.000000   \n",
       "3                             0.0               0.8               0.000000   \n",
       "4                          1566.0             971.8               0.002545   \n",
       "..                            ...               ...                    ...   \n",
       "94                          533.0             530.8               0.250655   \n",
       "95                         5815.0            1454.6               0.049271   \n",
       "96                        33778.0            2282.0               0.034677   \n",
       "97                         4153.0            1145.8               0.173568   \n",
       "98                        14546.0            2076.0               0.138440   \n",
       "\n",
       "    Passenger_Ratio  Registration at Time of Transfer  Registration Renewal  \\\n",
       "0          1.000000                               0.2                   0.0   \n",
       "1          0.695183                            2555.4               12741.6   \n",
       "2          0.666667                               0.0                   0.6   \n",
       "3          1.000000                               0.0                   0.8   \n",
       "4          0.630110                            1496.6               13760.4   \n",
       "..              ...                               ...                   ...   \n",
       "94         0.608371                             397.2                3329.4   \n",
       "95         0.696622                            4954.0               35607.0   \n",
       "96         0.740665                           20917.8              140271.0   \n",
       "97         0.698018                            2570.0               21883.0   \n",
       "98         0.718119                           31188.6              159618.8   \n",
       "\n",
       "    Original Registration  Major_Brand_Proportion_2023  \\\n",
       "0                     0.0                     0.000000   \n",
       "1                   819.6                     0.895833   \n",
       "2                     0.0                     0.000000   \n",
       "3                     0.0                     0.000000   \n",
       "4                  1388.8                     0.808219   \n",
       "..                    ...                          ...   \n",
       "94                  335.0                     0.816667   \n",
       "95                 2990.6                     0.826087   \n",
       "96                11117.8                     0.848107   \n",
       "97                 2137.2                     0.865269   \n",
       "98                 9809.8                     0.845226   \n",
       "\n",
       "    Major_Model_Proportion_2023     BEV    PHEV  High_EV_Adoption  \\\n",
       "0                      0.000000     0.0     0.0                 0   \n",
       "1                      0.604167    35.0    13.0                 1   \n",
       "2                      0.000000     0.0     0.0                 0   \n",
       "3                      0.000000     0.0     0.0                 0   \n",
       "4                      0.506849    47.0    26.0                 1   \n",
       "..                          ...     ...     ...               ...   \n",
       "94                     0.583333    38.0    22.0                 1   \n",
       "95                     0.556064   294.0   143.0                 1   \n",
       "96                     0.602869  3169.0  1084.0                 1   \n",
       "97                     0.589820   220.0   114.0                 1   \n",
       "98                     0.616080   688.0   307.0                 1   \n",
       "\n",
       "    EV_Proportion  EV_High_Low  Cluster  \n",
       "0        0.000000            0        0  \n",
       "1        0.001721            0        1  \n",
       "2        0.000000            0        0  \n",
       "3        0.000000            0        0  \n",
       "4        0.002569            0        0  \n",
       "..            ...          ...      ...  \n",
       "94       0.007033            1        1  \n",
       "95       0.005600            1        1  \n",
       "96       0.014107            1        1  \n",
       "97       0.006048            1        1  \n",
       "98       0.002593            0        1  \n",
       "\n",
       "[99 rows x 18 columns]"
      ]
     },
     "execution_count": 31,
     "metadata": {},
     "output_type": "execute_result"
    }
   ],
   "source": [
    "df"
   ]
  },
  {
   "cell_type": "code",
   "execution_count": 33,
   "metadata": {},
   "outputs": [
    {
     "data": {
      "text/html": [
       "<div>\n",
       "<style scoped>\n",
       "    .dataframe tbody tr th:only-of-type {\n",
       "        vertical-align: middle;\n",
       "    }\n",
       "\n",
       "    .dataframe tbody tr th {\n",
       "        vertical-align: top;\n",
       "    }\n",
       "\n",
       "    .dataframe thead th {\n",
       "        text-align: right;\n",
       "    }\n",
       "</style>\n",
       "<table border=\"1\" class=\"dataframe\">\n",
       "  <thead>\n",
       "    <tr style=\"text-align: right;\">\n",
       "      <th></th>\n",
       "      <th>Total_Transactions</th>\n",
       "      <th>Second_Electric_Vehicle_Count</th>\n",
       "      <th>Make_Model_Count</th>\n",
       "      <th>EV_Annual_Growth_Rate</th>\n",
       "      <th>Passenger_Ratio</th>\n",
       "      <th>Registration at Time of Transfer</th>\n",
       "      <th>Registration Renewal</th>\n",
       "      <th>Original Registration</th>\n",
       "      <th>Major_Brand_Proportion_2023</th>\n",
       "      <th>Major_Model_Proportion_2023</th>\n",
       "      <th>BEV</th>\n",
       "      <th>PHEV</th>\n",
       "      <th>EV_Proportion</th>\n",
       "      <th>EV_High_Low</th>\n",
       "      <th>Count</th>\n",
       "    </tr>\n",
       "  </thead>\n",
       "  <tbody>\n",
       "    <tr>\n",
       "      <th>0</th>\n",
       "      <td>1.757175e+03</td>\n",
       "      <td>31.888889</td>\n",
       "      <td>28.838095</td>\n",
       "      <td>-0.002796</td>\n",
       "      <td>0.734172</td>\n",
       "      <td>33.749206</td>\n",
       "      <td>2.899302e+02</td>\n",
       "      <td>27.526984</td>\n",
       "      <td>0.043583</td>\n",
       "      <td>0.017966</td>\n",
       "      <td>1.047619</td>\n",
       "      <td>0.412698</td>\n",
       "      <td>0.000095</td>\n",
       "      <td>3.330669e-16</td>\n",
       "      <td>63</td>\n",
       "    </tr>\n",
       "    <tr>\n",
       "      <th>1</th>\n",
       "      <td>5.801909e+05</td>\n",
       "      <td>18366.171429</td>\n",
       "      <td>1630.451429</td>\n",
       "      <td>0.102563</td>\n",
       "      <td>0.679793</td>\n",
       "      <td>14220.851429</td>\n",
       "      <td>9.337453e+04</td>\n",
       "      <td>8098.548571</td>\n",
       "      <td>0.846109</td>\n",
       "      <td>0.605989</td>\n",
       "      <td>1826.942857</td>\n",
       "      <td>591.371429</td>\n",
       "      <td>0.008687</td>\n",
       "      <td>6.857143e-01</td>\n",
       "      <td>35</td>\n",
       "    </tr>\n",
       "    <tr>\n",
       "      <th>2</th>\n",
       "      <td>6.986939e+06</td>\n",
       "      <td>416266.000000</td>\n",
       "      <td>3676.400000</td>\n",
       "      <td>0.045646</td>\n",
       "      <td>0.843184</td>\n",
       "      <td>138250.600000</td>\n",
       "      <td>1.115776e+06</td>\n",
       "      <td>115044.800000</td>\n",
       "      <td>0.842139</td>\n",
       "      <td>0.643002</td>\n",
       "      <td>74942.000000</td>\n",
       "      <td>17798.000000</td>\n",
       "      <td>0.035151</td>\n",
       "      <td>1.000000e+00</td>\n",
       "      <td>1</td>\n",
       "    </tr>\n",
       "  </tbody>\n",
       "</table>\n",
       "</div>"
      ],
      "text/plain": [
       "   Total_Transactions  Second_Electric_Vehicle_Count  Make_Model_Count  \\\n",
       "0        1.757175e+03                      31.888889         28.838095   \n",
       "1        5.801909e+05                   18366.171429       1630.451429   \n",
       "2        6.986939e+06                  416266.000000       3676.400000   \n",
       "\n",
       "   EV_Annual_Growth_Rate  Passenger_Ratio  Registration at Time of Transfer  \\\n",
       "0              -0.002796         0.734172                         33.749206   \n",
       "1               0.102563         0.679793                      14220.851429   \n",
       "2               0.045646         0.843184                     138250.600000   \n",
       "\n",
       "   Registration Renewal  Original Registration  Major_Brand_Proportion_2023  \\\n",
       "0          2.899302e+02              27.526984                     0.043583   \n",
       "1          9.337453e+04            8098.548571                     0.846109   \n",
       "2          1.115776e+06          115044.800000                     0.842139   \n",
       "\n",
       "   Major_Model_Proportion_2023           BEV          PHEV  EV_Proportion  \\\n",
       "0                     0.017966      1.047619      0.412698       0.000095   \n",
       "1                     0.605989   1826.942857    591.371429       0.008687   \n",
       "2                     0.643002  74942.000000  17798.000000       0.035151   \n",
       "\n",
       "    EV_High_Low  Count  \n",
       "0  3.330669e-16     63  \n",
       "1  6.857143e-01     35  \n",
       "2  1.000000e+00      1  "
      ]
     },
     "execution_count": 33,
     "metadata": {},
     "output_type": "execute_result"
    }
   ],
   "source": [
    "\n",
    "# Adding the cluster labels to the original dataframe\n",
    "df['Cluster'] = clusters\n",
    "\n",
    "# Calculating the mean of features for each cluster\n",
    "cluster_centers = pd.DataFrame(scaler.inverse_transform(kmeans.cluster_centers_), columns=X.columns)\n",
    "cluster_centers['Count'] = df['Cluster'].value_counts()\n",
    "cluster_centers"
   ]
  },
  {
   "cell_type": "code",
   "execution_count": 50,
   "metadata": {},
   "outputs": [],
   "source": [
    "import plotly.express as px\n",
    "import geopandas as gpd\n",
    "import pandas as pd\n",
    "\n",
    "\n",
    "counties = gpd.read_file('https://raw.githubusercontent.com/plotly/datasets/master/geojson-counties-fips.json')\n",
    "counties = counties[counties['STATE'] == '53']  # FIPS code for Washington\n"
   ]
  },
  {
   "cell_type": "code",
   "execution_count": 51,
   "metadata": {},
   "outputs": [],
   "source": [
    "\n",
    "# Merge your data with the GeoJSON\n",
    "counties['NAME'] = counties['NAME'].str.title()\n",
    "merged_data = counties.merge(df, left_on='NAME', right_on='County')\n"
   ]
  },
  {
   "cell_type": "code",
   "execution_count": 53,
   "metadata": {},
   "outputs": [
    {
     "data": {
      "application/vnd.plotly.v1+json": {
       "config": {
        "plotlyServerURL": "https://plot.ly"
       },
       "data": [
        {
         "coloraxis": "coloraxis",
         "geo": "geo",
         "geojson": {
          "bbox": [
           -124.733174,
           45.543541,
           -116.915989,
           49.002357
          ],
          "features": [
           {
            "bbox": [
             -118.241611,
             45.998887,
             -117.603163,
             46.624772
            ],
            "geometry": {
             "coordinates": [
              [
               [
                -118.228928,
                46.593606
               ],
               [
                -118.224468,
                46.591022
               ],
               [
                -118.21566,
                46.588924
               ],
               [
                -118.172552,
                46.556947
               ],
               [
                -117.851844,
                46.624772
               ],
               [
                -117.863261,
                46.470935
               ],
               [
                -117.737301,
                46.471366
               ],
               [
                -117.675113,
                46.337628
               ],
               [
                -117.611815,
                46.338496
               ],
               [
                -117.603163,
                45.998887
               ],
               [
                -117.977766,
                46.000695
               ],
               [
                -117.996911,
                46.000787
               ],
               [
                -117.991292,
                46.207843
               ],
               [
                -118.116493,
                46.207912
               ],
               [
                -118.116139,
                46.295455
               ],
               [
                -118.241611,
                46.295072
               ],
               [
                -118.228928,
                46.593606
               ]
              ]
             ],
             "type": "Polygon"
            },
            "id": "606",
            "properties": {},
            "type": "Feature"
           },
           {
            "bbox": [
             -119.45322,
             46.192856,
             -118.209807,
             46.738938
            ],
            "geometry": {
             "coordinates": [
              [
               [
                -119.081621,
                46.738019
               ],
               [
                -118.209807,
                46.738938
               ],
               [
                -118.249122,
                46.734138
               ],
               [
                -118.21566,
                46.588924
               ],
               [
                -118.224468,
                46.591022
               ],
               [
                -118.228928,
                46.593606
               ],
               [
                -118.452637,
                46.596973
               ],
               [
                -118.615592,
                46.504543
               ],
               [
                -118.633826,
                46.414022
               ],
               [
                -118.746199,
                46.359512
               ],
               [
                -118.777228,
                46.290177
               ],
               [
                -118.972827,
                46.238705
               ],
               [
                -119.041418,
                46.192856
               ],
               [
                -119.268928,
                46.277957
               ],
               [
                -119.258292,
                46.489457
               ],
               [
                -119.45322,
                46.679243
               ],
               [
                -119.368939,
                46.678204
               ],
               [
                -119.369387,
                46.737696
               ],
               [
                -119.081621,
                46.738019
               ]
              ]
             ],
             "type": "Polygon"
            },
            "id": "607",
            "properties": {},
            "type": "Feature"
           },
           {
            "bbox": [
             -123.370775,
             46.384227,
             -121.35232,
             46.794392
            ],
            "geometry": {
             "coordinates": [
              [
               [
                -121.523556,
                46.388221
               ],
               [
                -122.241011,
                46.386371
               ],
               [
                -122.241696,
                46.385292
               ],
               [
                -123.091305,
                46.387929
               ],
               [
                -123.217841,
                46.385128
               ],
               [
                -123.358247,
                46.384227
               ],
               [
                -123.370775,
                46.792449
               ],
               [
                -123.202826,
                46.794392
               ],
               [
                -123.160588,
                46.793383
               ],
               [
                -123.160909,
                46.76433
               ],
               [
                -122.202721,
                46.762628
               ],
               [
                -121.83259,
                46.729721
               ],
               [
                -121.758941,
                46.783734
               ],
               [
                -121.456356,
                46.783744
               ],
               [
                -121.35232,
                46.712366
               ],
               [
                -121.451194,
                46.533537
               ],
               [
                -121.386557,
                46.410601
               ],
               [
                -121.523556,
                46.388221
               ]
              ]
             ],
             "type": "Polygon"
            },
            "id": "626",
            "properties": {},
            "type": "Feature"
           },
           {
            "bbox": [
             -123.504385,
             47.082716,
             -122.80015,
             47.60701
            ],
            "geometry": {
             "coordinates": [
              [
               [
                -122.905659,
                47.155614
               ],
               [
                -122.936716,
                47.190246
               ],
               [
                -123.075101,
                47.084503
               ],
               [
                -123.202066,
                47.084895
               ],
               [
                -123.489031,
                47.082716
               ],
               [
                -123.50438,
                47.517609
               ],
               [
                -123.504385,
                47.60701
               ],
               [
                -122.950473,
                47.606266
               ],
               [
                -123.037766,
                47.520214
               ],
               [
                -122.872192,
                47.521495
               ],
               [
                -122.80015,
                47.520165
               ],
               [
                -122.801451,
                47.404016
               ],
               [
                -122.85005,
                47.272917
               ],
               [
                -122.821426,
                47.194211
               ],
               [
                -122.881717,
                47.156285
               ],
               [
                -122.905659,
                47.155614
               ]
              ]
             ],
             "type": "Polygon"
            },
            "id": "627",
            "properties": {},
            "type": "Feature"
           },
           {
            "bbox": [
             -118.402407,
             47.795111,
             -117.429539,
             49.000094
            ],
            "geometry": {
             "coordinates": [
              [
               [
                -118.196891,
                49.000094
               ],
               [
                -117.429539,
                48.999957
               ],
               [
                -117.430203,
                48.923068
               ],
               [
                -117.498868,
                48.922786
               ],
               [
                -117.498577,
                48.836813
               ],
               [
                -117.563619,
                48.836699
               ],
               [
                -117.563527,
                48.742464
               ],
               [
                -117.629512,
                48.742683
               ],
               [
                -117.629241,
                48.655848
               ],
               [
                -117.499695,
                48.656227
               ],
               [
                -117.502314,
                48.134864
               ],
               [
                -117.437521,
                48.134631
               ],
               [
                -117.436903,
                48.047206
               ],
               [
                -117.535039,
                48.047865
               ],
               [
                -117.535661,
                47.795111
               ],
               [
                -117.699097,
                47.856089
               ],
               [
                -117.820784,
                47.825188
               ],
               [
                -117.882083,
                47.847152
               ],
               [
                -118.078212,
                47.800161
               ],
               [
                -118.213025,
                47.945298
               ],
               [
                -118.340925,
                47.894395
               ],
               [
                -118.402407,
                48.026382
               ],
               [
                -118.238198,
                48.058184
               ],
               [
                -118.248606,
                48.134255
               ],
               [
                -118.191298,
                48.159888
               ],
               [
                -118.1945,
                48.212889
               ],
               [
                -118.141475,
                48.259951
               ],
               [
                -118.175602,
                48.319492
               ],
               [
                -118.206507,
                48.470296
               ],
               [
                -118.149709,
                48.520568
               ],
               [
                -118.10496,
                48.653503
               ],
               [
                -118.131002,
                48.777653
               ],
               [
                -118.195508,
                48.840725
               ],
               [
                -118.221669,
                48.937098
               ],
               [
                -118.196891,
                49.000094
               ]
              ]
             ],
             "type": "Polygon"
            },
            "id": "628",
            "properties": {},
            "type": "Feature"
           },
           {
            "bbox": [
             -119.369387,
             46.737696,
             -117.958856,
             47.261712
            ],
            "geometry": {
             "coordinates": [
              [
               [
                -119.13607,
                46.91222
               ],
               [
                -118.982545,
                46.911346
               ],
               [
                -118.979519,
                47.261712
               ],
               [
                -118.838281,
                47.260957
               ],
               [
                -117.960143,
                47.260449
               ],
               [
                -117.958856,
                46.914878
               ],
               [
                -118.012613,
                46.790485
               ],
               [
                -118.209807,
                46.738938
               ],
               [
                -119.081621,
                46.738019
               ],
               [
                -119.369387,
                46.737696
               ],
               [
                -119.368662,
                46.912562
               ],
               [
                -119.13607,
                46.91222
               ]
              ]
             ],
             "type": "Polygon"
            },
            "id": "1739",
            "properties": {},
            "type": "Feature"
           },
           {
            "bbox": [
             -117.48013,
             45.995413,
             -116.915989,
             46.462314
            ],
            "geometry": {
             "coordinates": [
              [
               [
                -117.039813,
                46.425425
               ],
               [
                -117.046915,
                46.379577
               ],
               [
                -117.061045,
                46.367747
               ],
               [
                -117.047469,
                46.342884
               ],
               [
                -116.987939,
                46.298031
               ],
               [
                -116.985333,
                46.294617
               ],
               [
                -116.958801,
                46.24232
               ],
               [
                -116.925621,
                46.158888
               ],
               [
                -116.94353,
                46.062173
               ],
               [
                -116.915989,
                45.995413
               ],
               [
                -117.212616,
                45.998321
               ],
               [
                -117.214534,
                45.99832
               ],
               [
                -117.216731,
                45.998356
               ],
               [
                -117.475148,
                45.997893
               ],
               [
                -117.47536,
                45.997855
               ],
               [
                -117.480103,
                45.99787
               ],
               [
                -117.48013,
                45.99787
               ],
               [
                -117.480045,
                46.121993
               ],
               [
                -117.419591,
                46.121921
               ],
               [
                -117.41968,
                46.383294
               ],
               [
                -117.228758,
                46.411293
               ],
               [
                -117.228896,
                46.462314
               ],
               [
                -117.199044,
                46.419786
               ],
               [
                -117.039813,
                46.425425
               ]
              ]
             ],
             "type": "Polygon"
            },
            "id": "1740",
            "properties": {},
            "type": "Feature"
           },
           {
            "bbox": [
             -119.874057,
             45.835962,
             -118.941075,
             46.727396
            ],
            "geometry": {
             "coordinates": [
              [
               [
                -119.868135,
                45.835962
               ],
               [
                -119.866265,
                46.040662
               ],
               [
                -119.874057,
                46.628585
               ],
               [
                -119.626139,
                46.644983
               ],
               [
                -119.515653,
                46.727396
               ],
               [
                -119.45322,
                46.679243
               ],
               [
                -119.258292,
                46.489457
               ],
               [
                -119.268928,
                46.277957
               ],
               [
                -119.041418,
                46.192856
               ],
               [
                -118.980933,
                46.146296
               ],
               [
                -118.941075,
                46.029339
               ],
               [
                -118.987129,
                45.999855
               ],
               [
                -119.008558,
                45.97927
               ],
               [
                -119.027056,
                45.969134
               ],
               [
                -119.093221,
                45.942745
               ],
               [
                -119.12612,
                45.932859
               ],
               [
                -119.169496,
                45.927603
               ],
               [
                -119.19553,
                45.92787
               ],
               [
                -119.225745,
                45.932725
               ],
               [
                -119.25715,
                45.939926
               ],
               [
                -119.322509,
                45.933183
               ],
               [
                -119.37613,
                45.920974
               ],
               [
                -119.432067,
                45.913629
               ],
               [
                -119.487829,
                45.906307
               ],
               [
                -119.524632,
                45.908605
               ],
               [
                -119.571584,
                45.925456
               ],
               [
                -119.600549,
                45.919581
               ],
               [
                -119.623393,
                45.905639
               ],
               [
                -119.669877,
                45.856867
               ],
               [
                -119.772927,
                45.845578
               ],
               [
                -119.802655,
                45.84753
               ],
               [
                -119.868135,
                45.835962
               ]
              ]
             ],
             "type": "Polygon"
            },
            "id": "1741",
            "properties": {},
            "type": "Feature"
           },
           {
            "bbox": [
             -123.217841,
             45.850536,
             -122.239952,
             46.387929
            ],
            "geometry": {
             "coordinates": [
              [
               [
                -123.217841,
                46.385128
               ],
               [
                -123.091305,
                46.387929
               ],
               [
                -122.241696,
                46.385292
               ],
               [
                -122.239952,
                46.384204
               ],
               [
                -122.245633,
                46.053932
               ],
               [
                -122.357765,
                45.956915
               ],
               [
                -122.477104,
                45.988089
               ],
               [
                -122.738996,
                45.915287
               ],
               [
                -122.785515,
                45.850536
               ],
               [
                -122.785026,
                45.867699
               ],
               [
                -122.813998,
                45.960984
               ],
               [
                -122.884478,
                46.06028
               ],
               [
                -122.904119,
                46.083734
               ],
               [
                -123.115904,
                46.185268
               ],
               [
                -123.166414,
                46.188973
               ],
               [
                -123.213054,
                46.172541
               ],
               [
                -123.217841,
                46.385128
               ]
              ]
             ],
             "type": "Polygon"
            },
            "id": "1742",
            "properties": {},
            "type": "Feature"
           },
           {
            "bbox": [
             -120.318084,
             47.220053,
             -118.955484,
             48.15051
            ],
            "geometry": {
             "coordinates": [
              [
               [
                -120.007065,
                47.220053
               ],
               [
                -120.074669,
                47.225152
               ],
               [
                -120.09447,
                47.262151
               ],
               [
                -120.083274,
                47.33369
               ],
               [
                -120.129573,
                47.366251
               ],
               [
                -120.28653,
                47.393111
               ],
               [
                -120.318084,
                47.457748
               ],
               [
                -120.292814,
                47.538172
               ],
               [
                -120.233584,
                47.59763
               ],
               [
                -120.199048,
                47.682276
               ],
               [
                -120.209395,
                47.748356
               ],
               [
                -120.130914,
                47.776601
               ],
               [
                -119.994952,
                47.781353
               ],
               [
                -119.870307,
                47.960328
               ],
               [
                -119.891656,
                48.055053
               ],
               [
                -119.771307,
                48.104713
               ],
               [
                -119.670241,
                48.069775
               ],
               [
                -119.693627,
                48.032554
               ],
               [
                -119.629835,
                47.996239
               ],
               [
                -119.502391,
                48.082116
               ],
               [
                -119.340989,
                48.049512
               ],
               [
                -119.325444,
                48.099645
               ],
               [
                -119.126141,
                48.15051
               ],
               [
                -119.062237,
                48.138378
               ],
               [
                -119.006111,
                48.046143
               ],
               [
                -118.955484,
                48.023185
               ],
               [
                -118.982394,
                47.962019
               ],
               [
                -119.104041,
                47.961763
               ],
               [
                -119.125659,
                47.917253
               ],
               [
                -119.212149,
                47.887617
               ],
               [
                -119.212499,
                47.800652
               ],
               [
                -119.298744,
                47.728277
               ],
               [
                -119.341708,
                47.612348
               ],
               [
                -119.405196,
                47.612471
               ],
               [
                -119.532889,
                47.527563
               ],
               [
                -119.533624,
                47.441317
               ],
               [
                -119.875835,
                47.437352
               ],
               [
                -120.004767,
                47.320052
               ],
               [
                -120.007065,
                47.220053
               ]
              ]
             ],
             "type": "Polygon"
            },
            "id": "1743",
            "properties": {},
            "type": "Feature"
           },
           {
            "bbox": [
             -118.869672,
             47.841599,
             -118.10496,
             49.000209
            ],
            "geometry": {
             "coordinates": [
              [
               [
                -118.836794,
                49.000209
               ],
               [
                -118.196891,
                49.000094
               ],
               [
                -118.221669,
                48.937098
               ],
               [
                -118.195508,
                48.840725
               ],
               [
                -118.131002,
                48.777653
               ],
               [
                -118.10496,
                48.653503
               ],
               [
                -118.149709,
                48.520568
               ],
               [
                -118.206507,
                48.470296
               ],
               [
                -118.175602,
                48.319492
               ],
               [
                -118.141475,
                48.259951
               ],
               [
                -118.1945,
                48.212889
               ],
               [
                -118.191298,
                48.159888
               ],
               [
                -118.248606,
                48.134255
               ],
               [
                -118.238198,
                48.058184
               ],
               [
                -118.402407,
                48.026382
               ],
               [
                -118.340925,
                47.894395
               ],
               [
                -118.357065,
                47.841599
               ],
               [
                -118.54409,
                47.883973
               ],
               [
                -118.570396,
                47.932318
               ],
               [
                -118.711682,
                47.903347
               ],
               [
                -118.851972,
                47.957686
               ],
               [
                -118.845785,
                47.963478
               ],
               [
                -118.843439,
                48.481682
               ],
               [
                -118.86954,
                48.481881
               ],
               [
                -118.869672,
                48.653598
               ],
               [
                -118.835399,
                48.654153
               ],
               [
                -118.836794,
                49.000209
               ]
              ]
             ],
             "type": "Polygon"
            },
            "id": "1744",
            "properties": {},
            "type": "Feature"
           },
           {
            "bbox": [
             -117.863261,
             45.99787,
             -117.228758,
             46.70033
            ],
            "geometry": {
             "coordinates": [
              [
               [
                -117.603163,
                45.998887
               ],
               [
                -117.611815,
                46.338496
               ],
               [
                -117.675113,
                46.337628
               ],
               [
                -117.737301,
                46.471366
               ],
               [
                -117.863261,
                46.470935
               ],
               [
                -117.851844,
                46.624772
               ],
               [
                -117.751037,
                46.690027
               ],
               [
                -117.601227,
                46.672679
               ],
               [
                -117.475331,
                46.70033
               ],
               [
                -117.253902,
                46.545082
               ],
               [
                -117.228896,
                46.462314
               ],
               [
                -117.228758,
                46.411293
               ],
               [
                -117.41968,
                46.383294
               ],
               [
                -117.419591,
                46.121921
               ],
               [
                -117.480045,
                46.121993
               ],
               [
                -117.48013,
                45.99787
               ],
               [
                -117.504833,
                45.998317
               ],
               [
                -117.603163,
                45.998887
               ]
              ]
             ],
             "type": "Polygon"
            },
            "id": "1745",
            "properties": {},
            "type": "Feature"
           },
           {
            "bbox": [
             -120.042866,
             46.628585,
             -118.973502,
             47.962019
            ],
            "geometry": {
             "coordinates": [
              [
               [
                -118.979519,
                47.261712
               ],
               [
                -118.982545,
                46.911346
               ],
               [
                -119.13607,
                46.91222
               ],
               [
                -119.368662,
                46.912562
               ],
               [
                -119.369387,
                46.737696
               ],
               [
                -119.368939,
                46.678204
               ],
               [
                -119.45322,
                46.679243
               ],
               [
                -119.515653,
                46.727396
               ],
               [
                -119.626139,
                46.644983
               ],
               [
                -119.874057,
                46.628585
               ],
               [
                -119.973017,
                46.737171
               ],
               [
                -119.927537,
                46.817092
               ],
               [
                -120.042866,
                47.073453
               ],
               [
                -120.007065,
                47.220053
               ],
               [
                -120.004767,
                47.320052
               ],
               [
                -119.875835,
                47.437352
               ],
               [
                -119.533624,
                47.441317
               ],
               [
                -119.532889,
                47.527563
               ],
               [
                -119.405196,
                47.612471
               ],
               [
                -119.341708,
                47.612348
               ],
               [
                -119.298744,
                47.728277
               ],
               [
                -119.212499,
                47.800652
               ],
               [
                -119.212149,
                47.887617
               ],
               [
                -119.125659,
                47.917253
               ],
               [
                -119.104041,
                47.961763
               ],
               [
                -118.982394,
                47.962019
               ],
               [
                -118.982754,
                47.949782
               ],
               [
                -118.973502,
                47.94357
               ],
               [
                -118.97648,
                47.659033
               ],
               [
                -118.979519,
                47.261712
               ]
              ]
             ],
             "type": "Polygon"
            },
            "id": "1746",
            "properties": {},
            "type": "Feature"
           },
           {
            "bbox": [
             -122.770045,
             47.904023,
             -122.349597,
             48.411565
            ],
            "geometry": {
             "coordinates": [
              [
               [
                [
                 -122.397349,
                 47.912401
                ],
                [
                 -122.419274,
                 47.912125
                ],
                [
                 -122.431035,
                 47.914732
                ],
                [
                 -122.445519,
                 47.930226
                ],
                [
                 -122.445759,
                 47.93619
                ],
                [
                 -122.44079,
                 47.946594
                ],
                [
                 -122.44076,
                 47.951845
                ],
                [
                 -122.446682,
                 47.963155
                ],
                [
                 -122.47266,
                 47.988449
                ],
                [
                 -122.487505,
                 47.990729
                ],
                [
                 -122.501257,
                 47.987089
                ],
                [
                 -122.514813,
                 47.981152
                ],
                [
                 -122.51778,
                 47.974916
                ],
                [
                 -122.521219,
                 47.972997
                ],
                [
                 -122.546824,
                 47.967215
                ],
                [
                 -122.552053,
                 47.973644
                ],
                [
                 -122.551032,
                 47.977346
                ],
                [
                 -122.543063,
                 47.985983
                ],
                [
                 -122.541564,
                 47.992998
                ],
                [
                 -122.542924,
                 47.996404
                ],
                [
                 -122.560018,
                 48.006502
                ],
                [
                 -122.58178,
                 48.010386
                ],
                [
                 -122.607342,
                 48.030992
                ],
                [
                 -122.596786,
                 48.038834
                ],
                [
                 -122.593621,
                 48.0472
                ],
                [
                 -122.594922,
                 48.056318
                ],
                [
                 -122.614028,
                 48.072788
                ],
                [
                 -122.613217,
                 48.079485
                ],
                [
                 -122.607291,
                 48.088034
                ],
                [
                 -122.598301,
                 48.110616
                ],
                [
                 -122.602109,
                 48.135249
                ],
                [
                 -122.609568,
                 48.15186
                ],
                [
                 -122.617464,
                 48.159055
                ],
                [
                 -122.633167,
                 48.163281
                ],
                [
                 -122.65602,
                 48.162513
                ],
                [
                 -122.671235,
                 48.157312
                ],
                [
                 -122.677337,
                 48.154587
                ],
                [
                 -122.679556,
                 48.155113
                ],
                [
                 -122.686626,
                 48.174653
                ],
                [
                 -122.693084,
                 48.181509
                ],
                [
                 -122.711508,
                 48.193573
                ],
                [
                 -122.73503,
                 48.199964
                ],
                [
                 -122.744612,
                 48.20965
                ],
                [
                 -122.763042,
                 48.215342
                ],
                [
                 -122.770045,
                 48.224395
                ],
                [
                 -122.769939,
                 48.227548
                ],
                [
                 -122.752563,
                 48.260061
                ],
                [
                 -122.732022,
                 48.279425
                ],
                [
                 -122.72259,
                 48.304268
                ],
                [
                 -122.707077,
                 48.315286
                ],
                [
                 -122.673731,
                 48.354683
                ],
                [
                 -122.664928,
                 48.374823
                ],
                [
                 -122.664659,
                 48.401508
                ],
                [
                 -122.644798,
                 48.405488
                ],
                [
                 -122.634991,
                 48.404244
                ],
                [
                 -122.632643,
                 48.401068
                ],
                [
                 -122.634024,
                 48.398858
                ],
                [
                 -122.637339,
                 48.398029
                ],
                [
                 -122.637892,
                 48.395681
                ],
                [
                 -122.63582,
                 48.395128
                ],
                [
                 -122.627809,
                 48.3972
                ],
                [
                 -122.617174,
                 48.407145
                ],
                [
                 -122.609715,
                 48.411565
                ],
                [
                 -122.60198,
                 48.409907
                ],
                [
                 -122.596732,
                 48.405626
                ],
                [
                 -122.595351,
                 48.3972
                ],
                [
                 -122.585038,
                 48.395166
                ],
                [
                 -122.588891,
                 48.363005
                ],
                [
                 -122.585162,
                 48.353304
                ],
                [
                 -122.565525,
                 48.348217
                ],
                [
                 -122.551334,
                 48.342138
                ],
                [
                 -122.515979,
                 48.320419
                ],
                [
                 -122.506568,
                 48.310041
                ],
                [
                 -122.504729,
                 48.300373
                ],
                [
                 -122.505828,
                 48.297677
                ],
                [
                 -122.519535,
                 48.288314
                ],
                [
                 -122.522756,
                 48.285504
                ],
                [
                 -122.530976,
                 48.282445
                ],
                [
                 -122.551793,
                 48.281512
                ],
                [
                 -122.558332,
                 48.282061
                ],
                [
                 -122.574872,
                 48.294903
                ],
                [
                 -122.584086,
                 48.297987
                ],
                [
                 -122.599532,
                 48.298303
                ],
                [
                 -122.618466,
                 48.294159
                ],
                [
                 -122.626757,
                 48.288991
                ],
                [
                 -122.620748,
                 48.282961
                ],
                [
                 -122.623779,
                 48.269431
                ],
                [
                 -122.652639,
                 48.265081
                ],
                [
                 -122.65343,
                 48.25934
                ],
                [
                 -122.66921,
                 48.240614
                ],
                [
                 -122.668385,
                 48.223967
                ],
                [
                 -122.63126,
                 48.220686
                ],
                [
                 -122.628352,
                 48.222467
                ],
                [
                 -122.606406,
                 48.208262
                ],
                [
                 -122.588138,
                 48.18594
                ],
                [
                 -122.585778,
                 48.182352
                ],
                [
                 -122.582595,
                 48.170424
                ],
                [
                 -122.574905,
                 48.155593
                ],
                [
                 -122.567936,
                 48.148624
                ],
                [
                 -122.558205,
                 48.119579
                ],
                [
                 -122.559911,
                 48.114186
                ],
                [
                 -122.571615,
                 48.105113
                ],
                [
                 -122.571853,
                 48.102143
                ],
                [
                 -122.554559,
                 48.077392
                ],
                [
                 -122.54512,
                 48.05255
                ],
                [
                 -122.538953,
                 48.050232
                ],
                [
                 -122.516314,
                 48.057181
                ],
                [
                 -122.513994,
                 48.059077
                ],
                [
                 -122.511081,
                 48.075301
                ],
                [
                 -122.516906,
                 48.081085
                ],
                [
                 -122.525422,
                 48.096537
                ],
                [
                 -122.513276,
                 48.097538
                ],
                [
                 -122.491104,
                 48.094242
                ],
                [
                 -122.461606,
                 48.068501
                ],
                [
                 -122.448419,
                 48.054323
                ],
                [
                 -122.431266,
                 48.045001
                ],
                [
                 -122.400628,
                 48.036563
                ],
                [
                 -122.387382,
                 48.03403
                ],
                [
                 -122.376259,
                 48.034457
                ],
                [
                 -122.373263,
                 48.000791
                ],
                [
                 -122.369161,
                 47.995295
                ],
                [
                 -122.353611,
                 47.981433
                ],
                [
                 -122.350254,
                 47.969355
                ],
                [
                 -122.349597,
                 47.958796
                ],
                [
                 -122.350741,
                 47.953235
                ],
                [
                 -122.358812,
                 47.93742
                ],
                [
                 -122.367876,
                 47.932415
                ],
                [
                 -122.376837,
                 47.923703
                ],
                [
                 -122.37578,
                 47.910252
                ],
                [
                 -122.3773,
                 47.905941
                ],
                [
                 -122.380497,
                 47.904023
                ],
                [
                 -122.39042,
                 47.905696
                ],
                [
                 -122.397349,
                 47.912401
                ]
               ]
              ],
              [
               [
                [
                 -122.405757,
                 48.252193
                ],
                [
                 -122.398712,
                 48.241684
                ],
                [
                 -122.392851,
                 48.238555
                ],
                [
                 -122.395499,
                 48.228551
                ],
                [
                 -122.396121,
                 48.229233
                ],
                [
                 -122.425572,
                 48.232887
                ],
                [
                 -122.430578,
                 48.236237
                ],
                [
                 -122.433767,
                 48.23655
                ],
                [
                 -122.449605,
                 48.232598
                ],
                [
                 -122.45371,
                 48.228859
                ],
                [
                 -122.453618,
                 48.22683
                ],
                [
                 -122.449513,
                 48.214736
                ],
                [
                 -122.444508,
                 48.214522
                ],
                [
                 -122.441731,
                 48.211776
                ],
                [
                 -122.442051,
                 48.20935
                ],
                [
                 -122.45493,
                 48.196639
                ],
                [
                 -122.461888,
                 48.193137
                ],
                [
                 -122.464801,
                 48.194767
                ],
                [
                 -122.47025,
                 48.194007
                ],
                [
                 -122.478535,
                 48.188087
                ],
                [
                 -122.479008,
                 48.175703
                ],
                [
                 -122.475803,
                 48.166792
                ],
                [
                 -122.442383,
                 48.130841
                ],
                [
                 -122.411649,
                 48.11321
                ],
                [
                 -122.379481,
                 48.087384
                ],
                [
                 -122.360345,
                 48.061527
                ],
                [
                 -122.358375,
                 48.056133
                ],
                [
                 -122.363107,
                 48.054546
                ],
                [
                 -122.377114,
                 48.057568
                ],
                [
                 -122.38769,
                 48.065189
                ],
                [
                 -122.390787,
                 48.069477
                ],
                [
                 -122.393413,
                 48.078472
                ],
                [
                 -122.400692,
                 48.085255
                ],
                [
                 -122.423703,
                 48.102941
                ],
                [
                 -122.44966,
                 48.114041
                ],
                [
                 -122.4675,
                 48.130353
                ],
                [
                 -122.477983,
                 48.129048
                ],
                [
                 -122.486736,
                 48.12095
                ],
                [
                 -122.489986,
                 48.120617
                ],
                [
                 -122.512031,
                 48.133931
                ],
                [
                 -122.522576,
                 48.161712
                ],
                [
                 -122.53722,
                 48.183745
                ],
                [
                 -122.538916,
                 48.209683
                ],
                [
                 -122.534431,
                 48.223005
                ],
                [
                 -122.535209,
                 48.240213
                ],
                [
                 -122.530996,
                 48.249821
                ],
                [
                 -122.503786,
                 48.257045
                ],
                [
                 -122.499648,
                 48.256611
                ],
                [
                 -122.497727,
                 48.253389
                ],
                [
                 -122.493448,
                 48.252043
                ],
                [
                 -122.480925,
                 48.251706
                ],
                [
                 -122.474494,
                 48.255227
                ],
                [
                 -122.466803,
                 48.269604
                ],
                [
                 -122.463962,
                 48.270541
                ],
                [
                 -122.406516,
                 48.25183
                ],
                [
                 -122.405757,
                 48.252193
                ]
               ]
              ]
             ],
             "type": "MultiPolygon"
            },
            "id": "1788",
            "properties": {},
            "type": "Feature"
           },
           {
            "bbox": [
             -121.432652,
             46.737171,
             -119.927537,
             47.597135
            ],
            "geometry": {
             "coordinates": [
              [
               [
                -121.243207,
                47.540334
               ],
               [
                -121.113606,
                47.597135
               ],
               [
                -120.916098,
                47.42854
               ],
               [
                -120.525137,
                47.333239
               ],
               [
                -120.388978,
                47.260889
               ],
               [
                -120.09447,
                47.262151
               ],
               [
                -120.074669,
                47.225152
               ],
               [
                -120.007065,
                47.220053
               ],
               [
                -120.042866,
                47.073453
               ],
               [
                -119.927537,
                46.817092
               ],
               [
                -119.973017,
                46.737171
               ],
               [
                -120.509618,
                46.738114
               ],
               [
                -120.509227,
                46.824534
               ],
               [
                -120.634431,
                46.825831
               ],
               [
                -120.634883,
                46.911995
               ],
               [
                -121.02649,
                46.911341
               ],
               [
                -121.089794,
                46.991039
               ],
               [
                -121.282039,
                47.088954
               ],
               [
                -121.379671,
                47.086765
               ],
               [
                -121.298041,
                47.14823
               ],
               [
                -121.432652,
                47.293591
               ],
               [
                -121.425421,
                47.422354
               ],
               [
                -121.310953,
                47.479271
               ],
               [
                -121.243207,
                47.540334
               ]
              ]
             ],
             "type": "Polygon"
            },
            "id": "1835",
            "properties": {},
            "type": "Feature"
           },
           {
            "bbox": [
             -121.612502,
             45.629513,
             -119.866265,
             46.044048
            ],
            "geometry": {
             "coordinates": [
              [
               [
                -121.608576,
                45.85822
               ],
               [
                -121.612502,
                46.04384
               ],
               [
                -121.523938,
                46.044048
               ],
               [
                -121.070459,
                46.042575
               ],
               [
                -119.866265,
                46.040662
               ],
               [
                -119.868135,
                45.835962
               ],
               [
                -119.999506,
                45.812199
               ],
               [
                -120.001148,
                45.811902
               ],
               [
                -120.141352,
                45.773152
               ],
               [
                -120.170453,
                45.761951
               ],
               [
                -120.210754,
                45.725951
               ],
               [
                -120.40396,
                45.699249
               ],
               [
                -120.482362,
                45.694449
               ],
               [
                -120.505863,
                45.700048
               ],
               [
                -120.521964,
                45.709848
               ],
               [
                -120.559465,
                45.738348
               ],
               [
                -120.591166,
                45.746547
               ],
               [
                -120.634968,
                45.745847
               ],
               [
                -120.653559,
                45.737237
               ],
               [
                -120.668869,
                45.730147
               ],
               [
                -120.68937,
                45.715847
               ],
               [
                -120.788872,
                45.686246
               ],
               [
                -120.855674,
                45.671545
               ],
               [
                -120.870042,
                45.661242
               ],
               [
                -120.915876,
                45.641345
               ],
               [
                -120.943977,
                45.656445
               ],
               [
                -121.06437,
                45.652549
               ],
               [
                -121.086675,
                45.646667
               ],
               [
                -121.195233,
                45.629513
               ],
               [
                -121.200367,
                45.649829
               ],
               [
                -121.215779,
                45.671238
               ],
               [
                -121.312198,
                45.699925
               ],
               [
                -121.33777,
                45.704949
               ],
               [
                -121.372574,
                45.703111
               ],
               [
                -121.401739,
                45.692887
               ],
               [
                -121.423592,
                45.69399
               ],
               [
                -121.441045,
                45.69727
               ],
               [
                -121.462849,
                45.701367
               ],
               [
                -121.522392,
                45.724677
               ],
               [
                -121.608928,
                45.78258
               ],
               [
                -121.608576,
                45.85822
               ]
              ]
             ],
             "type": "Polygon"
            },
            "id": "1836",
            "properties": {},
            "type": "Feature"
           },
           {
            "bbox": [
             -122.248993,
             45.547745,
             -121.522392,
             46.388221
            ],
            "geometry": {
             "coordinates": [
              [
               [
                -121.820055,
                45.704649
               ],
               [
                -121.867167,
                45.693277
               ],
               [
                -121.901855,
                45.670716
               ],
               [
                -121.900858,
                45.662009
               ],
               [
                -121.908267,
                45.654399
               ],
               [
                -121.922242,
                45.648495
               ],
               [
                -121.983038,
                45.622812
               ],
               [
                -122.101675,
                45.583516
               ],
               [
                -122.112356,
                45.581409
               ],
               [
                -122.126197,
                45.582617
               ],
               [
                -122.126197,
                45.582573
               ],
               [
                -122.12949,
                45.582967
               ],
               [
                -122.129548,
                45.582945
               ],
               [
                -122.14075,
                45.584508
               ],
               [
                -122.183695,
                45.577696
               ],
               [
                -122.2017,
                45.564141
               ],
               [
                -122.248993,
                45.547745
               ],
               [
                -122.245633,
                46.053932
               ],
               [
                -122.239952,
                46.384204
               ],
               [
                -122.241696,
                46.385292
               ],
               [
                -122.241011,
                46.386371
               ],
               [
                -121.523556,
                46.388221
               ],
               [
                -121.523938,
                46.044048
               ],
               [
                -121.612502,
                46.04384
               ],
               [
                -121.608576,
                45.85822
               ],
               [
                -121.608928,
                45.78258
               ],
               [
                -121.522392,
                45.724677
               ],
               [
                -121.533106,
                45.726541
               ],
               [
                -121.626185,
                45.705915
               ],
               [
                -121.707358,
                45.694809
               ],
               [
                -121.735104,
                45.694039
               ],
               [
                -121.811304,
                45.706761
               ],
               [
                -121.820055,
                45.704649
               ]
              ]
             ],
             "type": "Polygon"
            },
            "id": "1837",
            "properties": {},
            "type": "Feature"
           },
           {
            "bbox": [
             -118.249122,
             46.419786,
             -117.039657,
             47.260449
            ],
            "geometry": {
             "coordinates": [
              [
               [
                -118.209807,
                46.738938
               ],
               [
                -118.012613,
                46.790485
               ],
               [
                -117.958856,
                46.914878
               ],
               [
                -117.960143,
                47.260449
               ],
               [
                -117.823695,
                47.260378
               ],
               [
                -117.040019,
                47.259272
               ],
               [
                -117.039899,
                47.225515
               ],
               [
                -117.039888,
                47.203282
               ],
               [
                -117.039871,
                47.181858
               ],
               [
                -117.039836,
                47.154734
               ],
               [
                -117.039821,
                47.127265
               ],
               [
                -117.039657,
                46.825798
               ],
               [
                -117.039828,
                46.815443
               ],
               [
                -117.039783,
                46.541785
               ],
               [
                -117.039771,
                46.471779
               ],
               [
                -117.039763,
                46.46957
               ],
               [
                -117.039741,
                46.462704
               ],
               [
                -117.039813,
                46.425425
               ],
               [
                -117.199044,
                46.419786
               ],
               [
                -117.228896,
                46.462314
               ],
               [
                -117.253902,
                46.545082
               ],
               [
                -117.475331,
                46.70033
               ],
               [
                -117.601227,
                46.672679
               ],
               [
                -117.751037,
                46.690027
               ],
               [
                -117.851844,
                46.624772
               ],
               [
                -118.172552,
                46.556947
               ],
               [
                -118.21566,
                46.588924
               ],
               [
                -118.249122,
                46.734138
               ],
               [
                -118.209807,
                46.738938
               ]
              ]
             ],
             "type": "Polygon"
            },
            "id": "1838",
            "properties": {},
            "type": "Feature"
           },
           {
            "bbox": [
             -122.795963,
             45.543541,
             -122.245633,
             46.053932
            ],
            "geometry": {
             "coordinates": [
              [
               [
                -122.245633,
                46.053932
               ],
               [
                -122.248993,
                45.547745
               ],
               [
                -122.266701,
                45.543841
               ],
               [
                -122.294901,
                45.543541
               ],
               [
                -122.331502,
                45.548241
               ],
               [
                -122.352802,
                45.569441
               ],
               [
                -122.380302,
                45.575941
               ],
               [
                -122.492259,
                45.583281
               ],
               [
                -122.643907,
                45.609739
               ],
               [
                -122.675008,
                45.618039
               ],
               [
                -122.738109,
                45.644138
               ],
               [
                -122.76381,
                45.657138
               ],
               [
                -122.774511,
                45.680437
               ],
               [
                -122.772511,
                45.699637
               ],
               [
                -122.762182,
                45.728598
               ],
               [
                -122.760108,
                45.734413
               ],
               [
                -122.761451,
                45.759163
               ],
               [
                -122.769532,
                45.780583
               ],
               [
                -122.795605,
                45.81
               ],
               [
                -122.795963,
                45.825024
               ],
               [
                -122.785515,
                45.850536
               ],
               [
                -122.738996,
                45.915287
               ],
               [
                -122.477104,
                45.988089
               ],
               [
                -122.357765,
                45.956915
               ],
               [
                -122.245633,
                46.053932
               ]
              ]
             ],
             "type": "Polygon"
            },
            "id": "2401",
            "properties": {},
            "type": "Feature"
           },
           {
            "bbox": [
             -123.037766,
             47.40299,
             -122.470333,
             47.940772
            ],
            "geometry": {
             "coordinates": [
              [
               [
                -122.749199,
                47.741063
               ],
               [
                -122.740159,
                47.736228
               ],
               [
                -122.733012,
                47.737625
               ],
               [
                -122.722686,
                47.748827
               ],
               [
                -122.719712,
                47.760976
               ],
               [
                -122.714801,
                47.768176
               ],
               [
                -122.690562,
                47.778372
               ],
               [
                -122.684085,
                47.798574
               ],
               [
                -122.682015,
                47.800882
               ],
               [
                -122.648108,
                47.825123
               ],
               [
                -122.623192,
                47.836199
               ],
               [
                -122.614585,
                47.850806
               ],
               [
                -122.608105,
                47.856728
               ],
               [
                -122.573672,
                47.857582
               ],
               [
                -122.573098,
                47.874081
               ],
               [
                -122.586339,
                47.902023
               ],
               [
                -122.588235,
                47.912923
               ],
               [
                -122.596228,
                47.92021
               ],
               [
                -122.616701,
                47.925139
               ],
               [
                -122.620316,
                47.931553
               ],
               [
                -122.617022,
                47.938987
               ],
               [
                -122.611956,
                47.940772
               ],
               [
                -122.603861,
                47.940478
               ],
               [
                -122.601507,
                47.931726
               ],
               [
                -122.592184,
                47.922519
               ],
               [
                -122.581846,
                47.920282
               ],
               [
                -122.549072,
                47.919072
               ],
               [
                -122.527593,
                47.905882
               ],
               [
                -122.513986,
                47.880807
               ],
               [
                -122.512778,
                47.863879
               ],
               [
                -122.506122,
                47.831745
               ],
               [
                -122.502224,
                47.826395
               ],
               [
                -122.482529,
                47.815511
               ],
               [
                -122.482437,
                47.809255
               ],
               [
                -122.485214,
                47.804128
               ],
               [
                -122.495346,
                47.79704
               ],
               [
                -122.495458,
                47.786692
               ],
               [
                -122.471402,
                47.765965
               ],
               [
                -122.470333,
                47.757109
               ],
               [
                -122.471844,
                47.749819
               ],
               [
                -122.477344,
                47.746019
               ],
               [
                -122.488491,
                47.743605
               ],
               [
                -122.507638,
                47.74304
               ],
               [
                -122.515193,
                47.743911
               ],
               [
                -122.519325,
                47.74622
               ],
               [
                -122.537318,
                47.74714
               ],
               [
                -122.554454,
                47.745704
               ],
               [
                -122.543161,
                47.710941
               ],
               [
                -122.53094,
                47.704814
               ],
               [
                -122.525851,
                47.705095
               ],
               [
                -122.523962,
                47.708034
               ],
               [
                -122.511196,
                47.708715
               ],
               [
                -122.504604,
                47.699136
               ],
               [
                -122.504452,
                47.685888
               ],
               [
                -122.508709,
                47.670843
               ],
               [
                -122.518277,
                47.65132
               ],
               [
                -122.502116,
                47.639074
               ],
               [
                -122.493205,
                47.635122
               ],
               [
                -122.492809,
                47.629591
               ],
               [
                -122.494518,
                47.623625
               ],
               [
                -122.500357,
                47.617816
               ],
               [
                -122.49824,
                47.598242
               ],
               [
                -122.493933,
                47.588963
               ],
               [
                -122.483805,
                47.586721
               ],
               [
                -122.479089,
                47.583654
               ],
               [
                -122.503672,
                47.575178
               ],
               [
                -122.518367,
                47.57408
               ],
               [
                -122.529915,
                47.568441
               ],
               [
                -122.534664,
                47.566122
               ],
               [
                -122.543118,
                47.556326
               ],
               [
                -122.542355,
                47.53784
               ],
               [
                -122.547207,
                47.528257
               ],
               [
                -122.546611,
                47.52355
               ],
               [
                -122.532909,
                47.522184
               ],
               [
                -122.52305,
                47.524
               ],
               [
                -122.500543,
                47.51528
               ],
               [
                -122.494882,
                47.510265
               ],
               [
                -122.484993,
                47.512731
               ],
               [
                -122.53672,
                47.40299
               ],
               [
                -122.801451,
                47.404016
               ],
               [
                -122.80015,
                47.520165
               ],
               [
                -122.872192,
                47.521495
               ],
               [
                -123.037766,
                47.520214
               ],
               [
                -122.950473,
                47.606266
               ],
               [
                -122.783237,
                47.672754
               ],
               [
                -122.749199,
                47.741063
               ]
              ]
             ],
             "type": "Polygon"
            },
            "id": "2402",
            "properties": {},
            "type": "Feature"
           },
           {
            "bbox": [
             -122.538429,
             47.086765,
             -121.068409,
             47.779933
            ],
            "geometry": {
             "coordinates": [
              [
               [
                [
                 -122.484993,
                 47.512731
                ],
                [
                 -122.467796,
                 47.509956
                ],
                [
                 -122.452399,
                 47.503471
                ],
                [
                 -122.460503,
                 47.494773
                ],
                [
                 -122.460029,
                 47.486861
                ],
                [
                 -122.433386,
                 47.46643
                ],
                [
                 -122.43984,
                 47.458083
                ],
                [
                 -122.440083,
                 47.417647
                ],
                [
                 -122.437657,
                 47.407424
                ],
                [
                 -122.427327,
                 47.402129
                ],
                [
                 -122.395054,
                 47.399277
                ],
                [
                 -122.373629,
                 47.388718
                ],
                [
                 -122.378482,
                 47.38533
                ],
                [
                 -122.401768,
                 47.381325
                ],
                [
                 -122.437809,
                 47.365607
                ],
                [
                 -122.448399,
                 47.354987
                ],
                [
                 -122.453998,
                 47.343337
                ],
                [
                 -122.457494,
                 47.342567
                ],
                [
                 -122.469703,
                 47.344623
                ],
                [
                 -122.491237,
                 47.335172
                ],
                [
                 -122.491063,
                 47.332427
                ],
                [
                 -122.493123,
                 47.330253
                ],
                [
                 -122.504918,
                 47.33068
                ],
                [
                 -122.51885,
                 47.33332
                ],
                [
                 -122.52416,
                 47.33837
                ],
                [
                 -122.528129,
                 47.345542
                ],
                [
                 -122.52603,
                 47.358908
                ],
                [
                 -122.537935,
                 47.359203
                ],
                [
                 -122.528434,
                 47.378211
                ],
                [
                 -122.538429,
                 47.390829
                ],
                [
                 -122.53672,
                 47.40299
                ],
                [
                 -122.484993,
                 47.512731
                ]
               ]
              ],
              [
               [
                [
                 -122.418268,
                 47.320614
                ],
                [
                 -122.364168,
                 47.335953
                ],
                [
                 -122.336934,
                 47.341421
                ],
                [
                 -122.324833,
                 47.348521
                ],
                [
                 -122.325734,
                 47.391521
                ],
                [
                 -122.328434,
                 47.400621
                ],
                [
                 -122.335234,
                 47.408421
                ],
                [
                 -122.348035,
                 47.415921
                ],
                [
                 -122.355135,
                 47.441921
                ],
                [
                 -122.367036,
                 47.447621
                ],
                [
                 -122.383136,
                 47.450521
                ],
                [
                 -122.368036,
                 47.459221
                ],
                [
                 -122.363062,
                 47.475702
                ],
                [
                 -122.361336,
                 47.481421
                ],
                [
                 -122.365236,
                 47.48842
                ],
                [
                 -122.386637,
                 47.50222
                ],
                [
                 -122.396538,
                 47.51522
                ],
                [
                 -122.393938,
                 47.52482
                ],
                [
                 -122.398338,
                 47.55012
                ],
                [
                 -122.409839,
                 47.56892
                ],
                [
                 -122.421139,
                 47.57602
                ],
                [
                 -122.401839,
                 47.58392
                ],
                [
                 -122.387139,
                 47.59572
                ],
                [
                 -122.375421,
                 47.585181
                ],
                [
                 -122.370167,
                 47.583087
                ],
                [
                 -122.358238,
                 47.58482
                ],
                [
                 -122.342937,
                 47.59122
                ],
                [
                 -122.339513,
                 47.599113
                ],
                [
                 -122.344937,
                 47.60912
                ],
                [
                 -122.367819,
                 47.624213
                ],
                [
                 -122.386039,
                 47.63172
                ],
                [
                 -122.393739,
                 47.63102
                ],
                [
                 -122.40424,
                 47.63392
                ],
                [
                 -122.414645,
                 47.639766
                ],
                [
                 -122.429841,
                 47.658919
                ],
                [
                 -122.407841,
                 47.680119
                ],
                [
                 -122.403841,
                 47.689419
                ],
                [
                 -122.393248,
                 47.701602
                ],
                [
                 -122.38044,
                 47.709119
                ],
                [
                 -122.37644,
                 47.716519
                ],
                [
                 -122.375607,
                 47.719724
                ],
                [
                 -122.37314,
                 47.729219
                ],
                [
                 -122.382641,
                 47.749119
                ],
                [
                 -122.380241,
                 47.758519
                ],
                [
                 -122.394442,
                 47.772219
                ],
                [
                 -122.396422,
                 47.777927
                ],
                [
                 -122.000425,
                 47.775284
                ],
                [
                 -122.000396,
                 47.775284
                ],
                [
                 -121.928146,
                 47.776971
                ],
                [
                 -121.584537,
                 47.776726
                ],
                [
                 -121.580986,
                 47.777534
                ],
                [
                 -121.11901,
                 47.779933
                ],
                [
                 -121.068409,
                 47.706234
                ],
                [
                 -121.113606,
                 47.597135
                ],
                [
                 -121.243207,
                 47.540334
                ],
                [
                 -121.310953,
                 47.479271
                ],
                [
                 -121.425421,
                 47.422354
                ],
                [
                 -121.432652,
                 47.293591
                ],
                [
                 -121.298041,
                 47.14823
                ],
                [
                 -121.379671,
                 47.086765
                ],
                [
                 -121.796678,
                 47.173059
                ],
                [
                 -121.839148,
                 47.143356
                ],
                [
                 -122.047909,
                 47.171645
                ],
                [
                 -122.143967,
                 47.257347
                ],
                [
                 -122.229208,
                 47.257538
                ],
                [
                 -122.229494,
                 47.257538
                ],
                [
                 -122.33486,
                 47.257594
                ],
                [
                 -122.418268,
                 47.320614
                ]
               ]
              ]
             ],
             "type": "MultiPolygon"
            },
            "id": "2475",
            "properties": {},
            "type": "Feature"
           },
           {
            "bbox": [
             -118.979519,
             47.260378,
             -117.820784,
             47.957686
            ],
            "geometry": {
             "coordinates": [
              [
               [
                -117.820784,
                47.825188
               ],
               [
                -117.823695,
                47.260378
               ],
               [
                -117.960143,
                47.260449
               ],
               [
                -118.838281,
                47.260957
               ],
               [
                -118.979519,
                47.261712
               ],
               [
                -118.97648,
                47.659033
               ],
               [
                -118.973502,
                47.94357
               ],
               [
                -118.954307,
                47.940809
               ],
               [
                -118.851972,
                47.957686
               ],
               [
                -118.711682,
                47.903347
               ],
               [
                -118.570396,
                47.932318
               ],
               [
                -118.54409,
                47.883973
               ],
               [
                -118.357065,
                47.841599
               ],
               [
                -118.340925,
                47.894395
               ],
               [
                -118.213025,
                47.945298
               ],
               [
                -118.078212,
                47.800161
               ],
               [
                -117.882083,
                47.847152
               ],
               [
                -117.820784,
                47.825188
               ]
              ]
             ],
             "type": "Polygon"
            },
            "id": "2493",
            "properties": {},
            "type": "Feature"
           },
           {
            "bbox": [
             -117.629512,
             48.04556,
             -117.032351,
             48.999957
            ],
            "geometry": {
             "coordinates": [
              [
               [
                -117.429539,
                48.999957
               ],
               [
                -117.268192,
                48.999928
               ],
               [
                -117.268247,
                48.999818
               ],
               [
                -117.032351,
                48.999188
               ],
               [
                -117.033177,
                48.846563
               ],
               [
                -117.034358,
                48.628523
               ],
               [
                -117.034499,
                48.620769
               ],
               [
                -117.035285,
                48.430113
               ],
               [
                -117.035285,
                48.429816
               ],
               [
                -117.035254,
                48.423144
               ],
               [
                -117.035289,
                48.422732
               ],
               [
                -117.035178,
                48.371221
               ],
               [
                -117.035178,
                48.370878
               ],
               [
                -117.039599,
                48.184387
               ],
               [
                -117.039615,
                48.184015
               ],
               [
                -117.039582,
                48.181124
               ],
               [
                -117.039582,
                48.180853
               ],
               [
                -117.039583,
                48.180313
               ],
               [
                -117.039618,
                48.178142
               ],
               [
                -117.039413,
                48.17725
               ],
               [
                -117.039552,
                48.17396
               ],
               [
                -117.041401,
                48.0855
               ],
               [
                -117.041676,
                48.04556
               ],
               [
                -117.436903,
                48.047206
               ],
               [
                -117.437521,
                48.134631
               ],
               [
                -117.502314,
                48.134864
               ],
               [
                -117.499695,
                48.656227
               ],
               [
                -117.629241,
                48.655848
               ],
               [
                -117.629512,
                48.742683
               ],
               [
                -117.563527,
                48.742464
               ],
               [
                -117.563619,
                48.836699
               ],
               [
                -117.498577,
                48.836813
               ],
               [
                -117.498868,
                48.922786
               ],
               [
                -117.430203,
                48.923068
               ],
               [
                -117.429539,
                48.999957
               ]
              ]
             ],
             "type": "Polygon"
            },
            "id": "2494",
            "properties": {},
            "type": "Feature"
           },
           {
            "bbox": [
             -122.85005,
             46.729721,
             -121.379671,
             47.404016
            ],
            "geometry": {
             "coordinates": [
              [
               [
                -122.4442,
                47.266723
               ],
               [
                -122.437727,
                47.268046
               ],
               [
                -122.429605,
                47.269707
               ],
               [
                -122.418074,
                47.281765
               ],
               [
                -122.409199,
                47.288556
               ],
               [
                -122.413735,
                47.293921
               ],
               [
                -122.424235,
                47.297521
               ],
               [
                -122.432335,
                47.296021
               ],
               [
                -122.444635,
                47.300421
               ],
               [
                -122.443008,
                47.306333
               ],
               [
                -122.423535,
                47.319121
               ],
               [
                -122.418268,
                47.320614
               ],
               [
                -122.33486,
                47.257594
               ],
               [
                -122.229494,
                47.257538
               ],
               [
                -122.229208,
                47.257538
               ],
               [
                -122.143967,
                47.257347
               ],
               [
                -122.047909,
                47.171645
               ],
               [
                -121.839148,
                47.143356
               ],
               [
                -121.796678,
                47.173059
               ],
               [
                -121.379671,
                47.086765
               ],
               [
                -121.4565,
                46.922733
               ],
               [
                -121.52327,
                46.87328
               ],
               [
                -121.456356,
                46.783744
               ],
               [
                -121.758941,
                46.783734
               ],
               [
                -121.83259,
                46.729721
               ],
               [
                -122.202721,
                46.762628
               ],
               [
                -122.372977,
                46.845038
               ],
               [
                -122.491497,
                46.867863
               ],
               [
                -122.637396,
                46.977097
               ],
               [
                -122.7595,
                47.141216
               ],
               [
                -122.775997,
                47.155187
               ],
               [
                -122.792371,
                47.174169
               ],
               [
                -122.821426,
                47.194211
               ],
               [
                -122.85005,
                47.272917
               ],
               [
                -122.801451,
                47.404016
               ],
               [
                -122.53672,
                47.40299
               ],
               [
                -122.538429,
                47.390829
               ],
               [
                -122.528434,
                47.378211
               ],
               [
                -122.537935,
                47.359203
               ],
               [
                -122.551536,
                47.35954
               ],
               [
                -122.55584,
                47.347519
               ],
               [
                -122.57134,
                47.327219
               ],
               [
                -122.575985,
                47.32642
               ],
               [
                -122.573739,
                47.318419
               ],
               [
                -122.571239,
                47.315619
               ],
               [
                -122.547747,
                47.316403
               ],
               [
                -122.547408,
                47.317734
               ],
               [
                -122.540238,
                47.31852
               ],
               [
                -122.533338,
                47.31662
               ],
               [
                -122.471652,
                47.277321
               ],
               [
                -122.4442,
                47.266723
               ]
              ]
             ],
             "type": "Polygon"
            },
            "id": "2495",
            "properties": {},
            "type": "Feature"
           },
           {
            "bbox": [
             -117.823695,
             47.259272,
             -117.039843,
             48.047865
            ],
            "geometry": {
             "coordinates": [
              [
               [
                -117.042485,
                47.766525
               ],
               [
                -117.042521,
                47.764896
               ],
               [
                -117.042623,
                47.761223
               ],
               [
                -117.042657,
                47.760857
               ],
               [
                -117.042059,
                47.7451
               ],
               [
                -117.042135,
                47.7441
               ],
               [
                -117.041678,
                47.72271
               ],
               [
                -117.041633,
                47.7064
               ],
               [
                -117.041532,
                47.683194
               ],
               [
                -117.041431,
                47.68
               ],
               [
                -117.041431,
                47.678185
               ],
               [
                -117.041431,
                47.67814
               ],
               [
                -117.041174,
                47.55853
               ],
               [
                -117.041276,
                47.55821
               ],
               [
                -117.040745,
                47.532909
               ],
               [
                -117.040545,
                47.527562
               ],
               [
                -117.040514,
                47.522351
               ],
               [
                -117.039945,
                47.477823
               ],
               [
                -117.039971,
                47.463309
               ],
               [
                -117.039948,
                47.434885
               ],
               [
                -117.03995,
                47.412412
               ],
               [
                -117.039882,
                47.399085
               ],
               [
                -117.039857,
                47.366093
               ],
               [
                -117.039843,
                47.347201
               ],
               [
                -117.040019,
                47.259272
               ],
               [
                -117.823695,
                47.260378
               ],
               [
                -117.820784,
                47.825188
               ],
               [
                -117.699097,
                47.856089
               ],
               [
                -117.535661,
                47.795111
               ],
               [
                -117.535039,
                48.047865
               ],
               [
                -117.436903,
                48.047206
               ],
               [
                -117.041676,
                48.04556
               ],
               [
                -117.041874,
                47.977387
               ],
               [
                -117.042485,
                47.766525
               ]
              ]
             ],
             "type": "Polygon"
            },
            "id": "2534",
            "properties": {},
            "type": "Feature"
           },
           {
            "bbox": [
             -123.202066,
             46.762628,
             -122.202721,
             47.194211
            ],
            "geometry": {
             "coordinates": [
              [
               [
                -122.821426,
                47.194211
               ],
               [
                -122.792371,
                47.174169
               ],
               [
                -122.775997,
                47.155187
               ],
               [
                -122.7595,
                47.141216
               ],
               [
                -122.637396,
                46.977097
               ],
               [
                -122.491497,
                46.867863
               ],
               [
                -122.372977,
                46.845038
               ],
               [
                -122.202721,
                46.762628
               ],
               [
                -123.160909,
                46.76433
               ],
               [
                -123.160588,
                46.793383
               ],
               [
                -123.158439,
                46.996237
               ],
               [
                -123.202066,
                47.084895
               ],
               [
                -123.075101,
                47.084503
               ],
               [
                -122.936716,
                47.190246
               ],
               [
                -122.905659,
                47.155614
               ],
               [
                -122.881717,
                47.156285
               ],
               [
                -122.821426,
                47.194211
               ]
              ]
             ],
             "type": "Polygon"
            },
            "id": "2535",
            "properties": {},
            "type": "Feature"
           },
           {
            "bbox": [
             -123.727913,
             46.144843,
             -123.213054,
             46.385626
            ],
            "geometry": {
             "coordinates": [
              [
               [
                -123.363638,
                46.146241
               ],
               [
                -123.371433,
                46.146372
               ],
               [
                -123.430847,
                46.181827
               ],
               [
                -123.427629,
                46.229348
               ],
               [
                -123.447592,
                46.249832
               ],
               [
                -123.468743,
                46.264531
               ],
               [
                -123.474844,
                46.267831
               ],
               [
                -123.484244,
                46.269531
               ],
               [
                -123.547659,
                46.259109
               ],
               [
                -123.547636,
                46.265595
               ],
               [
                -123.559923,
                46.265098
               ],
               [
                -123.564405,
                46.262172
               ],
               [
                -123.581642,
                46.260502
               ],
               [
                -123.613544,
                46.259988
               ],
               [
                -123.669501,
                46.266832
               ],
               [
                -123.679125,
                46.272502
               ],
               [
                -123.68008,
                46.277943
               ],
               [
                -123.678069,
                46.286469
               ],
               [
                -123.67876,
                46.290721
               ],
               [
                -123.680574,
                46.296025
               ],
               [
                -123.687763,
                46.299235
               ],
               [
                -123.700764,
                46.305278
               ],
               [
                -123.724273,
                46.301161
               ],
               [
                -123.724038,
                46.295058
               ],
               [
                -123.727913,
                46.289661
               ],
               [
                -123.72606,
                46.385626
               ],
               [
                -123.358247,
                46.384227
               ],
               [
                -123.217841,
                46.385128
               ],
               [
                -123.213054,
                46.172541
               ],
               [
                -123.280166,
                46.144843
               ],
               [
                -123.363638,
                46.146241
               ]
              ]
             ],
             "type": "Polygon"
            },
            "id": "2536",
            "properties": {},
            "type": "Feature"
           },
           {
            "bbox": [
             -121.523938,
             46.040662,
             -119.866265,
             47.088954
            ],
            "geometry": {
             "coordinates": [
              [
               [
                -121.523938,
                46.044048
               ],
               [
                -121.523556,
                46.388221
               ],
               [
                -121.386557,
                46.410601
               ],
               [
                -121.451194,
                46.533537
               ],
               [
                -121.35232,
                46.712366
               ],
               [
                -121.456356,
                46.783744
               ],
               [
                -121.52327,
                46.87328
               ],
               [
                -121.4565,
                46.922733
               ],
               [
                -121.379671,
                47.086765
               ],
               [
                -121.282039,
                47.088954
               ],
               [
                -121.089794,
                46.991039
               ],
               [
                -121.02649,
                46.911341
               ],
               [
                -120.634883,
                46.911995
               ],
               [
                -120.634431,
                46.825831
               ],
               [
                -120.509227,
                46.824534
               ],
               [
                -120.509618,
                46.738114
               ],
               [
                -119.973017,
                46.737171
               ],
               [
                -119.874057,
                46.628585
               ],
               [
                -119.866265,
                46.040662
               ],
               [
                -121.070459,
                46.042575
               ],
               [
                -121.523938,
                46.044048
               ]
              ]
             ],
             "type": "Polygon"
            },
            "id": "2537",
            "properties": {},
            "type": "Feature"
           },
           {
            "bbox": [
             -121.180213,
             47.260889,
             -119.870307,
             48.545153
            ],
            "geometry": {
             "coordinates": [
              [
               [
                -121.11901,
                47.779933
               ],
               [
                -121.07071,
                47.826034
               ],
               [
                -121.180213,
                47.897132
               ],
               [
                -121.118059,
                47.99766
               ],
               [
                -121.153501,
                48.040871
               ],
               [
                -121.015412,
                48.075141
               ],
               [
                -120.906411,
                48.163348
               ],
               [
                -121.001409,
                48.295548
               ],
               [
                -121.069941,
                48.316539
               ],
               [
                -121.035823,
                48.494749
               ],
               [
                -120.824008,
                48.545153
               ],
               [
                -120.701557,
                48.53162
               ],
               [
                -120.651747,
                48.536585
               ],
               [
                -120.650211,
                48.397559
               ],
               [
                -120.559708,
                48.360661
               ],
               [
                -120.391901,
                48.242963
               ],
               [
                -120.3625,
                48.168761
               ],
               [
                -120.213493,
                48.079061
               ],
               [
                -120.14329,
                48.065061
               ],
               [
                -120.066621,
                47.966378
               ],
               [
                -119.870307,
                47.960328
               ],
               [
                -119.994952,
                47.781353
               ],
               [
                -120.130914,
                47.776601
               ],
               [
                -120.209395,
                47.748356
               ],
               [
                -120.199048,
                47.682276
               ],
               [
                -120.233584,
                47.59763
               ],
               [
                -120.292814,
                47.538172
               ],
               [
                -120.318084,
                47.457748
               ],
               [
                -120.28653,
                47.393111
               ],
               [
                -120.129573,
                47.366251
               ],
               [
                -120.083274,
                47.33369
               ],
               [
                -120.09447,
                47.262151
               ],
               [
                -120.388978,
                47.260889
               ],
               [
                -120.525137,
                47.333239
               ],
               [
                -120.916098,
                47.42854
               ],
               [
                -121.113606,
                47.597135
               ],
               [
                -121.068409,
                47.706234
               ],
               [
                -121.11901,
                47.779933
               ]
              ]
             ],
             "type": "Polygon"
            },
            "id": "3051",
            "properties": {},
            "type": "Feature"
           },
           {
            "bbox": [
             -120.851202,
             47.940809,
             -118.835399,
             49.001191
            ],
            "geometry": {
             "coordinates": [
              [
               [
                -120.851202,
                49.001191
               ],
               [
                -119.702016,
                49.000269
               ],
               [
                -119.701218,
                49.000258
               ],
               [
                -119.4577,
                49.000261
               ],
               [
                -119.428678,
                49.000253
               ],
               [
                -119.137274,
                49.000297
               ],
               [
                -119.132102,
                49.000262
               ],
               [
                -118.836794,
                49.000209
               ],
               [
                -118.835399,
                48.654153
               ],
               [
                -118.869672,
                48.653598
               ],
               [
                -118.86954,
                48.481881
               ],
               [
                -118.843439,
                48.481682
               ],
               [
                -118.845785,
                47.963478
               ],
               [
                -118.851972,
                47.957686
               ],
               [
                -118.954307,
                47.940809
               ],
               [
                -118.973502,
                47.94357
               ],
               [
                -118.982754,
                47.949782
               ],
               [
                -118.982394,
                47.962019
               ],
               [
                -118.955484,
                48.023185
               ],
               [
                -119.006111,
                48.046143
               ],
               [
                -119.062237,
                48.138378
               ],
               [
                -119.126141,
                48.15051
               ],
               [
                -119.325444,
                48.099645
               ],
               [
                -119.340989,
                48.049512
               ],
               [
                -119.502391,
                48.082116
               ],
               [
                -119.629835,
                47.996239
               ],
               [
                -119.693627,
                48.032554
               ],
               [
                -119.670241,
                48.069775
               ],
               [
                -119.771307,
                48.104713
               ],
               [
                -119.891656,
                48.055053
               ],
               [
                -119.870307,
                47.960328
               ],
               [
                -120.066621,
                47.966378
               ],
               [
                -120.14329,
                48.065061
               ],
               [
                -120.213493,
                48.079061
               ],
               [
                -120.3625,
                48.168761
               ],
               [
                -120.391901,
                48.242963
               ],
               [
                -120.559708,
                48.360661
               ],
               [
                -120.650211,
                48.397559
               ],
               [
                -120.651747,
                48.536585
               ],
               [
                -120.701557,
                48.53162
               ],
               [
                -120.752021,
                48.657538
               ],
               [
                -120.654676,
                48.724198
               ],
               [
                -120.73371,
                48.7829
               ],
               [
                -120.767528,
                48.954385
               ],
               [
                -120.851202,
                49.001191
               ]
              ]
             ],
             "type": "Polygon"
            },
            "id": "3083",
            "properties": {},
            "type": "Feature"
           },
           {
            "bbox": [
             -124.610763,
             47.517609,
             -122.610341,
             48.14324
            ],
            "geometry": {
             "coordinates": [
              [
               [
                -122.927146,
                48.065133
               ],
               [
                -122.926851,
                48.064593
               ],
               [
                -122.918602,
                48.058238
               ],
               [
                -122.877641,
                48.047025
               ],
               [
                -122.849273,
                48.053808
               ],
               [
                -122.857727,
                48.065774
               ],
               [
                -122.878255,
                48.076072
               ],
               [
                -122.882013,
                48.100779
               ],
               [
                -122.876282,
                48.110877
               ],
               [
                -122.833173,
                48.134406
               ],
               [
                -122.784076,
                48.142974
               ],
               [
                -122.760448,
                48.14324
               ],
               [
                -122.748911,
                48.117026
               ],
               [
                -122.773177,
                48.106864
               ],
               [
                -122.778466,
                48.106135
               ],
               [
                -122.792902,
                48.09718
               ],
               [
                -122.798464,
                48.092451
               ],
               [
                -122.801399,
                48.087561
               ],
               [
                -122.770559,
                48.053432
               ],
               [
                -122.770496,
                48.047897
               ],
               [
                -122.766648,
                48.04429
               ],
               [
                -122.74229,
                48.049324
               ],
               [
                -122.740007,
                48.054116
               ],
               [
                -122.739271,
                48.069153
               ],
               [
                -122.741184,
                48.070958
               ],
               [
                -122.747389,
                48.070795
               ],
               [
                -122.748345,
                48.072097
               ],
               [
                -122.733257,
                48.091232
               ],
               [
                -122.718558,
                48.097567
               ],
               [
                -122.698465,
                48.103102
               ],
               [
                -122.68724,
                48.101662
               ],
               [
                -122.69164,
                48.096726
               ],
               [
                -122.69222,
                48.087081
               ],
               [
                -122.682264,
                48.042723
               ],
               [
                -122.677153,
                48.036346
               ],
               [
                -122.668942,
                48.032026
               ],
               [
                -122.669868,
                48.017217
               ],
               [
                -122.686898,
                48.008305
               ],
               [
                -122.690066,
                48.00842
               ],
               [
                -122.697185,
                48.014978
               ],
               [
                -122.70184,
                48.016106
               ],
               [
                -122.723374,
                48.008095
               ],
               [
                -122.718082,
                47.987739
               ],
               [
                -122.701294,
                47.972979
               ],
               [
                -122.683223,
                47.972226
               ],
               [
                -122.6788,
                47.96793
               ],
               [
                -122.676215,
                47.958743
               ],
               [
                -122.684688,
                47.944049
               ],
               [
                -122.68445,
                47.939593
               ],
               [
                -122.681924,
                47.936415
               ],
               [
                -122.66238,
                47.9307
               ],
               [
                -122.657722,
                47.931156
               ],
               [
                -122.651063,
                47.920985
               ],
               [
                -122.65399,
                47.91589
               ],
               [
                -122.655085,
                47.905058
               ],
               [
                -122.646494,
                47.894771
               ],
               [
                -122.637425,
                47.889945
               ],
               [
                -122.618873,
                47.890242
               ],
               [
                -122.610341,
                47.887343
               ],
               [
                -122.631857,
                47.874815
               ],
               [
                -122.633879,
                47.868401
               ],
               [
                -122.63636,
                47.866186
               ],
               [
                -122.650083,
                47.86386
               ],
               [
                -122.666417,
                47.867497
               ],
               [
                -122.69376,
                47.868002
               ],
               [
                -122.690974,
                47.860118
               ],
               [
                -122.681602,
                47.850405
               ],
               [
                -122.683742,
                47.838773
               ],
               [
                -122.688596,
                47.831438
               ],
               [
                -122.719609,
                47.813036
               ],
               [
                -122.731956,
                47.809741
               ],
               [
                -122.748061,
                47.800546
               ],
               [
                -122.75054,
                47.773966
               ],
               [
                -122.757885,
                47.757744
               ],
               [
                -122.758498,
                47.746036
               ],
               [
                -122.749199,
                47.741063
               ],
               [
                -122.783237,
                47.672754
               ],
               [
                -122.950473,
                47.606266
               ],
               [
                -123.504385,
                47.60701
               ],
               [
                -123.50438,
                47.517609
               ],
               [
                -124.047108,
                47.51812
               ],
               [
                -124.353651,
                47.53361
               ],
               [
                -124.355955,
                47.545698
               ],
               [
                -124.359028,
                47.547616
               ],
               [
                -124.366221,
                47.582439
               ],
               [
                -124.371746,
                47.599575
               ],
               [
                -124.374927,
                47.603891
               ],
               [
                -124.382215,
                47.632302
               ],
               [
                -124.395983,
                47.665534
               ],
               [
                -124.412106,
                47.691199
               ],
               [
                -124.420219,
                47.725294
               ],
               [
                -124.425195,
                47.738434
               ],
               [
                -124.430546,
                47.746249
               ],
               [
                -124.453927,
                47.765334
               ],
               [
                -124.471687,
                47.766907
               ],
               [
                -124.47657,
                47.769671
               ],
               [
                -124.482154,
                47.797454
               ],
               [
                -124.489737,
                47.816988
               ],
               [
                -124.497987,
                47.822605
               ],
               [
                -124.50668,
                47.82391
               ],
               [
                -124.51278,
                47.822518
               ],
               [
                -124.539927,
                47.836967
               ],
               [
                -124.558254,
                47.855979
               ],
               [
                -124.559034,
                47.863085
               ],
               [
                -124.562363,
                47.866216
               ],
               [
                -124.588172,
                47.877878
               ],
               [
                -124.609538,
                47.879996
               ],
               [
                -124.610763,
                47.880607
               ],
               [
                -123.505917,
                47.88108
               ],
               [
                -123.505917,
                47.866897
               ],
               [
                -122.949167,
                47.866829
               ],
               [
                -122.949055,
                48.065151
               ],
               [
                -122.927146,
                48.065133
               ]
              ]
             ],
             "type": "Polygon"
            },
            "id": "3093",
            "properties": {},
            "type": "Feature"
           },
           {
            "bbox": [
             -124.098359,
             46.239787,
             -123.358247,
             46.794157
            ],
            "geometry": {
             "coordinates": [
              [
               [
                -123.358247,
                46.384227
               ],
               [
                -123.72606,
                46.385626
               ],
               [
                -123.727913,
                46.289661
               ],
               [
                -123.728585,
                46.288725
               ],
               [
                -123.741478,
                46.290274
               ],
               [
                -123.75956,
                46.275073
               ],
               [
                -123.766682,
                46.273499
               ],
               [
                -123.775054,
                46.274599
               ],
               [
                -123.782654,
                46.280227
               ],
               [
                -123.795556,
                46.284501
               ],
               [
                -123.806139,
                46.283588
               ],
               [
                -123.875525,
                46.239787
               ],
               [
                -123.909306,
                46.245491
               ],
               [
                -123.919581,
                46.251217
               ],
               [
                -123.954353,
                46.277001
               ],
               [
                -123.969427,
                46.291398
               ],
               [
                -123.970912,
                46.293866
               ],
               [
                -123.970355,
                46.299352
               ],
               [
                -123.974509,
                46.303063
               ],
               [
                -123.985204,
                46.309039
               ],
               [
                -124.001264,
                46.31326
               ],
               [
                -124.020551,
                46.315737
               ],
               [
                -124.029924,
                46.308312
               ],
               [
                -124.035599,
                46.296843
               ],
               [
                -124.038797,
                46.283675
               ],
               [
                -124.044018,
                46.275925
               ],
               [
                -124.060961,
                46.278761
               ],
               [
                -124.080671,
                46.267239
               ],
               [
                -124.082187,
                46.269159
               ],
               [
                -124.081729,
                46.274714
               ],
               [
                -124.076262,
                46.296498
               ],
               [
                -124.071384,
                46.305504
               ],
               [
                -124.064624,
                46.326899
               ],
               [
                -124.058351,
                46.386503
               ],
               [
                -124.057425,
                46.409315
               ],
               [
                -124.057024,
                46.493338
               ],
               [
                -124.061953,
                46.556165
               ],
               [
                -124.06842,
                46.601397
               ],
               [
                -124.069583,
                46.630651
               ],
               [
                -124.068655,
                46.634879
               ],
               [
                -124.062715,
                46.642582
               ],
               [
                -124.056476,
                46.645645
               ],
               [
                -124.048444,
                46.645827
               ],
               [
                -124.035874,
                46.630822
               ],
               [
                -124.052708,
                46.622796
               ],
               [
                -124.050842,
                46.617421
               ],
               [
                -124.028799,
                46.59104
               ],
               [
                -124.023566,
                46.582559
               ],
               [
                -124.023148,
                46.564113
               ],
               [
                -124.026019,
                46.531589
               ],
               [
                -124.031737,
                46.496375
               ],
               [
                -124.026032,
                46.462978
               ],
               [
                -124.001271,
                46.459992
               ],
               [
                -123.990615,
                46.463019
               ],
               [
                -123.99087,
                46.465738
               ],
               [
                -123.994181,
                46.468868
               ],
               [
                -123.99268,
                46.488617
               ],
               [
                -123.988386,
                46.497008
               ],
               [
                -123.983688,
                46.498542
               ],
               [
                -123.979053,
                46.497378
               ],
               [
                -123.979213,
                46.489949
               ],
               [
                -123.97083,
                46.47537
               ],
               [
                -123.968044,
                46.473497
               ],
               [
                -123.943667,
                46.477197
               ],
               [
                -123.921192,
                46.507731
               ],
               [
                -123.896703,
                46.522665
               ],
               [
                -123.897242,
                46.52848
               ],
               [
                -123.894254,
                46.537028
               ],
               [
                -123.903321,
                46.55191
               ],
               [
                -123.916902,
                46.562633
               ],
               [
                -123.920247,
                46.567343
               ],
               [
                -123.922332,
                46.577057
               ],
               [
                -123.928861,
                46.588875
               ],
               [
                -123.939139,
                46.596326
               ],
               [
                -123.955556,
                46.60357
               ],
               [
                -123.959175,
                46.613581
               ],
               [
                -123.960642,
                46.636364
               ],
               [
                -123.940616,
                46.640862
               ],
               [
                -123.921913,
                46.650262
               ],
               [
                -123.920916,
                46.653576
               ],
               [
                -123.923269,
                46.672708
               ],
               [
                -123.915596,
                46.678649
               ],
               [
                -123.895601,
                46.683672
               ],
               [
                -123.864902,
                46.698685
               ],
               [
                -123.851356,
                46.70256
               ],
               [
                -123.84621,
                46.716795
               ],
               [
                -123.848725,
                46.719898
               ],
               [
                -123.862149,
                46.727749
               ],
               [
                -123.870782,
                46.728327
               ],
               [
                -123.87668,
                46.730657
               ],
               [
                -123.893054,
                46.750204
               ],
               [
                -123.898641,
                46.750205
               ],
               [
                -123.910716,
                46.746715
               ],
               [
                -123.916371,
                46.741322
               ],
               [
                -123.91584,
                46.737322
               ],
               [
                -123.91285,
                46.730647
               ],
               [
                -123.916874,
                46.726739
               ],
               [
                -123.929073,
                46.725278
               ],
               [
                -123.948683,
                46.725369
               ],
               [
                -123.968564,
                46.736106
               ],
               [
                -123.974994,
                46.733391
               ],
               [
                -123.979655,
                46.724658
               ],
               [
                -123.975157,
                46.713971
               ],
               [
                -123.966886,
                46.705184
               ],
               [
                -123.973663,
                46.703353
               ],
               [
                -123.987521,
                46.707507
               ],
               [
                -123.994242,
                46.707929
               ],
               [
                -124.003458,
                46.702337
               ],
               [
                -124.022413,
                46.708973
               ],
               [
                -124.042478,
                46.72004
               ],
               [
                -124.042111,
                46.722783
               ],
               [
                -124.046399,
                46.725686
               ],
               [
                -124.063117,
                46.733664
               ],
               [
                -124.080983,
                46.735003
               ],
               [
                -124.092176,
                46.741624
               ],
               [
                -124.096515,
                46.746202
               ],
               [
                -124.095041,
                46.756812
               ],
               [
                -124.096655,
                46.784374
               ],
               [
                -124.098359,
                46.794157
               ],
               [
                -123.370775,
                46.792449
               ],
               [
                -123.358247,
                46.384227
               ]
              ]
             ],
             "type": "Polygon"
            },
            "id": "3096",
            "properties": {},
            "type": "Feature"
           },
           {
            "bbox": [
             -123.237148,
             48.418196,
             -122.742082,
             48.722291
            ],
            "geometry": {
             "coordinates": [
              [
               [
                [
                 -122.800217,
                 48.60169
                ],
                [
                 -122.804869,
                 48.595932
                ],
                [
                 -122.801096,
                 48.585425
                ],
                [
                 -122.786586,
                 48.576666
                ],
                [
                 -122.771206,
                 48.562426
                ],
                [
                 -122.770349,
                 48.558106
                ],
                [
                 -122.772384,
                 48.552143
                ],
                [
                 -122.782618,
                 48.545191
                ],
                [
                 -122.788503,
                 48.530393
                ],
                [
                 -122.787347,
                 48.523012
                ],
                [
                 -122.777467,
                 48.517799
                ],
                [
                 -122.779124,
                 48.508911
                ],
                [
                 -122.800414,
                 48.494467
                ],
                [
                 -122.816332,
                 48.487841
                ],
                [
                 -122.817912,
                 48.483888
                ],
                [
                 -122.81973,
                 48.458843
                ],
                [
                 -122.8131,
                 48.452856
                ],
                [
                 -122.807708,
                 48.444058
                ],
                [
                 -122.802509,
                 48.433098
                ],
                [
                 -122.803521,
                 48.428748
                ],
                [
                 -122.812208,
                 48.422326
                ],
                [
                 -122.825803,
                 48.424131
                ],
                [
                 -122.874135,
                 48.418196
                ],
                [
                 -122.883759,
                 48.418793
                ],
                [
                 -122.893646,
                 48.422655
                ],
                [
                 -122.889016,
                 48.435947
                ],
                [
                 -122.903214,
                 48.436979
                ],
                [
                 -122.913888,
                 48.443231
                ],
                [
                 -122.917771,
                 48.439781
                ],
                [
                 -122.928004,
                 48.439966
                ],
                [
                 -122.91646,
                 48.453263
                ],
                [
                 -122.920099,
                 48.458428
                ],
                [
                 -122.926901,
                 48.460874
                ],
                [
                 -122.937881,
                 48.456221
                ],
                [
                 -122.962009,
                 48.451161
                ],
                [
                 -123.039156,
                 48.460003
                ],
                [
                 -123.058154,
                 48.471522
                ],
                [
                 -123.067675,
                 48.479497
                ],
                [
                 -123.119451,
                 48.492576
                ],
                [
                 -123.141478,
                 48.505291
                ],
                [
                 -123.151065,
                 48.513955
                ],
                [
                 -123.163234,
                 48.529544
                ],
                [
                 -123.164057,
                 48.535622
                ],
                [
                 -123.161853,
                 48.539255
                ],
                [
                 -123.16147,
                 48.547618
                ],
                [
                 -123.172412,
                 48.556486
                ],
                [
                 -123.176266,
                 48.562131
                ],
                [
                 -123.175852,
                 48.568483
                ],
                [
                 -123.171958,
                 48.572255
                ],
                [
                 -123.173061,
                 48.579086
                ],
                [
                 -123.184941,
                 48.58697
                ],
                [
                 -123.197754,
                 48.586216
                ],
                [
                 -123.20268,
                 48.590214
                ],
                [
                 -123.203026,
                 48.596178
                ],
                [
                 -123.195725,
                 48.607055
                ],
                [
                 -123.178425,
                 48.622115
                ],
                [
                 -123.151643,
                 48.623686
                ],
                [
                 -123.139705,
                 48.622786
                ],
                [
                 -123.135645,
                 48.620171
                ],
                [
                 -123.107362,
                 48.622451
                ],
                [
                 -123.098462,
                 48.612834
                ],
                [
                 -123.098254,
                 48.610092
                ],
                [
                 -123.102074,
                 48.604035
                ],
                [
                 -123.101552,
                 48.59782
                ],
                [
                 -123.074611,
                 48.591816
                ],
                [
                 -123.06004,
                 48.582105
                ],
                [
                 -123.048403,
                 48.569216
                ],
                [
                 -123.033669,
                 48.563409
                ],
                [
                 -123.015046,
                 48.560821
                ],
                [
                 -122.987296,
                 48.561895
                ],
                [
                 -122.98611,
                 48.569984
                ],
                [
                 -122.989649,
                 48.574668
                ],
                [
                 -122.995026,
                 48.578162
                ],
                [
                 -123.0048,
                 48.580788
                ],
                [
                 -123.016647,
                 48.580244
                ],
                [
                 -123.034101,
                 48.591767
                ],
                [
                 -123.024902,
                 48.594484
                ],
                [
                 -123.023433,
                 48.599477
                ],
                [
                 -123.041189,
                 48.611947
                ],
                [
                 -123.04653,
                 48.61149
                ],
                [
                 -123.048652,
                 48.621002
                ],
                [
                 -123.023495,
                 48.634001
                ],
                [
                 -123.015592,
                 48.642567
                ],
                [
                 -123.014829,
                 48.647503
                ],
                [
                 -123.009924,
                 48.655064
                ],
                [
                 -122.988884,
                 48.667246
                ],
                [
                 -122.984853,
                 48.672686
                ],
                [
                 -122.949116,
                 48.693398
                ],
                [
                 -122.941316,
                 48.702904
                ],
                [
                 -122.942367,
                 48.706723
                ],
                [
                 -122.918252,
                 48.713505
                ],
                [
                 -122.894599,
                 48.71503
                ],
                [
                 -122.875938,
                 48.71212
                ],
                [
                 -122.833124,
                 48.698173
                ],
                [
                 -122.802545,
                 48.682682
                ],
                [
                 -122.800267,
                 48.67962
                ],
                [
                 -122.743049,
                 48.661991
                ],
                [
                 -122.742082,
                 48.660689
                ],
                [
                 -122.755031,
                 48.649512
                ],
                [
                 -122.783875,
                 48.635419
                ],
                [
                 -122.792147,
                 48.633502
                ],
                [
                 -122.809622,
                 48.619035
                ],
                [
                 -122.808864,
                 48.61531
                ],
                [
                 -122.79901,
                 48.604683
                ],
                [
                 -122.79877,
                 48.602352
                ],
                [
                 -122.800217,
                 48.60169
                ]
               ]
              ],
              [
               [
                [
                 -123.197953,
                 48.68466
                ],
                [
                 -123.186076,
                 48.684917
                ],
                [
                 -123.172066,
                 48.679866
                ],
                [
                 -123.14799,
                 48.668001
                ],
                [
                 -123.130962,
                 48.656789
                ],
                [
                 -123.122016,
                 48.647065
                ],
                [
                 -123.106165,
                 48.633473
                ],
                [
                 -123.119677,
                 48.632972
                ],
                [
                 -123.134956,
                 48.63724
                ],
                [
                 -123.215917,
                 48.669352
                ],
                [
                 -123.237148,
                 48.683466
                ],
                [
                 -123.236567,
                 48.68895
                ],
                [
                 -123.212892,
                 48.689713
                ],
                [
                 -123.197953,
                 48.68466
                ]
               ]
              ],
              [
               [
                [
                 -123.025486,
                 48.717966
                ],
                [
                 -123.019699,
                 48.721312
                ],
                [
                 -123.009787,
                 48.722291
                ],
                [
                 -123.007511,
                 48.718863
                ],
                [
                 -123.005086,
                 48.694342
                ],
                [
                 -123.014449,
                 48.684978
                ],
                [
                 -123.021215,
                 48.681416
                ],
                [
                 -123.042337,
                 48.675663
                ],
                [
                 -123.041645,
                 48.678633
                ],
                [
                 -123.035672,
                 48.68535
                ],
                [
                 -123.03636,
                 48.69008
                ],
                [
                 -123.047058,
                 48.695772
                ],
                [
                 -123.070427,
                 48.699971
                ],
                [
                 -123.040179,
                 48.717296
                ],
                [
                 -123.025486,
                 48.717966
                ]
               ]
              ]
             ],
             "type": "MultiPolygon"
            },
            "id": "3106",
            "properties": {},
            "type": "Feature"
           },
           {
            "bbox": [
             -122.405757,
             47.775284,
             -120.906411,
             48.29759
            ],
            "geometry": {
             "coordinates": [
              [
               [
                [
                 -122.321721,
                 48.019977
                ],
                [
                 -122.303455,
                 48.005603
                ],
                [
                 -122.306629,
                 48.004397
                ],
                [
                 -122.326115,
                 48.010295
                ],
                [
                 -122.334524,
                 48.018916
                ],
                [
                 -122.328343,
                 48.021335
                ],
                [
                 -122.321721,
                 48.019977
                ]
               ]
              ],
              [
               [
                [
                 -121.584537,
                 47.776726
                ],
                [
                 -121.928146,
                 47.776971
                ],
                [
                 -122.000396,
                 47.775284
                ],
                [
                 -122.000425,
                 47.775284
                ],
                [
                 -122.396422,
                 47.777927
                ],
                [
                 -122.397043,
                 47.779719
                ],
                [
                 -122.394944,
                 47.803318
                ],
                [
                 -122.392044,
                 47.807718
                ],
                [
                 -122.353244,
                 47.840618
                ],
                [
                 -122.346544,
                 47.842418
                ],
                [
                 -122.339944,
                 47.846718
                ],
                [
                 -122.33595,
                 47.852306
                ],
                [
                 -122.329545,
                 47.869418
                ],
                [
                 -122.330145,
                 47.875318
                ],
                [
                 -122.333543,
                 47.880246
                ],
                [
                 -122.328546,
                 47.897917
                ],
                [
                 -122.321847,
                 47.911817
                ],
                [
                 -122.311927,
                 47.923703
                ],
                [
                 -122.310747,
                 47.925117
                ],
                [
                 -122.309747,
                 47.929117
                ],
                [
                 -122.311148,
                 47.936717
                ],
                [
                 -122.307048,
                 47.949117
                ],
                [
                 -122.278047,
                 47.956517
                ],
                [
                 -122.249007,
                 47.959507
                ],
                [
                 -122.230046,
                 47.970917
                ],
                [
                 -122.226346,
                 47.976417
                ],
                [
                 -122.232391,
                 47.987713
                ],
                [
                 -122.23022,
                 48.007154
                ],
                [
                 -122.228767,
                 48.012468
                ],
                [
                 -122.224979,
                 48.016626
                ],
                [
                 -122.231761,
                 48.029876
                ],
                [
                 -122.281087,
                 48.049793
                ],
                [
                 -122.305838,
                 48.073415
                ],
                [
                 -122.321709,
                 48.085507
                ],
                [
                 -122.326119,
                 48.092877
                ],
                [
                 -122.343241,
                 48.097631
                ],
                [
                 -122.363842,
                 48.12393
                ],
                [
                 -122.365078,
                 48.125822
                ],
                [
                 -122.363797,
                 48.142759
                ],
                [
                 -122.364744,
                 48.151304
                ],
                [
                 -122.370253,
                 48.164809
                ],
                [
                 -122.363479,
                 48.174438
                ],
                [
                 -122.362044,
                 48.187568
                ],
                [
                 -122.372492,
                 48.193022
                ],
                [
                 -122.382102,
                 48.207106
                ],
                [
                 -122.385703,
                 48.217811
                ],
                [
                 -122.395499,
                 48.228551
                ],
                [
                 -122.392851,
                 48.238555
                ],
                [
                 -122.398712,
                 48.241684
                ],
                [
                 -122.405757,
                 48.252193
                ],
                [
                 -122.395328,
                 48.257187
                ],
                [
                 -122.392058,
                 48.269628
                ],
                [
                 -122.371693,
                 48.287839
                ],
                [
                 -122.376818,
                 48.296099
                ],
                [
                 -122.37821,
                 48.29759
                ],
                [
                 -121.001409,
                 48.295548
                ],
                [
                 -120.906411,
                 48.163348
                ],
                [
                 -121.015412,
                 48.075141
                ],
                [
                 -121.153501,
                 48.040871
                ],
                [
                 -121.118059,
                 47.99766
                ],
                [
                 -121.180213,
                 47.897132
                ],
                [
                 -121.07071,
                 47.826034
                ],
                [
                 -121.11901,
                 47.779933
                ],
                [
                 -121.580986,
                 47.777534
                ],
                [
                 -121.584537,
                 47.776726
                ]
               ]
              ]
             ],
             "type": "MultiPolygon"
            },
            "id": "3107",
            "properties": {},
            "type": "Feature"
           },
           {
            "bbox": [
             -119.041418,
             45.999855,
             -117.991292,
             46.596973
            ],
            "geometry": {
             "coordinates": [
              [
               [
                -118.228928,
                46.593606
               ],
               [
                -118.241611,
                46.295072
               ],
               [
                -118.116139,
                46.295455
               ],
               [
                -118.116493,
                46.207912
               ],
               [
                -117.991292,
                46.207843
               ],
               [
                -117.996911,
                46.000787
               ],
               [
                -118.126197,
                46.000282
               ],
               [
                -118.131019,
                46.00028
               ],
               [
                -118.228941,
                46.000421
               ],
               [
                -118.236584,
                46.000418
               ],
               [
                -118.25253,
                46.000459
               ],
               [
                -118.256368,
                46.000439
               ],
               [
                -118.314982,
                46.000453
               ],
               [
                -118.36779,
                46.000622
               ],
               [
                -118.37836,
                46.000574
               ],
               [
                -118.470756,
                46.000632
               ],
               [
                -118.497027,
                46.00062
               ],
               [
                -118.537119,
                46.00084
               ],
               [
                -118.569392,
                46.000773
               ],
               [
                -118.57571,
                46.000718
               ],
               [
                -118.579906,
                46.000818
               ],
               [
                -118.637725,
                46.00097
               ],
               [
                -118.639332,
                46.000994
               ],
               [
                -118.658717,
                46.000955
               ],
               [
                -118.67787,
                46.000935
               ],
               [
                -118.987129,
                45.999855
               ],
               [
                -118.941075,
                46.029339
               ],
               [
                -118.980933,
                46.146296
               ],
               [
                -119.041418,
                46.192856
               ],
               [
                -118.972827,
                46.238705
               ],
               [
                -118.777228,
                46.290177
               ],
               [
                -118.746199,
                46.359512
               ],
               [
                -118.633826,
                46.414022
               ],
               [
                -118.615592,
                46.504543
               ],
               [
                -118.452637,
                46.596973
               ],
               [
                -118.228928,
                46.593606
               ]
              ]
             ],
             "type": "Polygon"
            },
            "id": "3108",
            "properties": {},
            "type": "Feature"
           },
           {
            "bbox": [
             -123.090546,
             48.640937,
             -120.654676,
             49.002357
            ],
            "geometry": {
             "coordinates": [
              [
               [
                [
                 -120.752021,
                 48.657538
                ],
                [
                 -120.910534,
                 48.640937
                ],
                [
                 -121.251233,
                 48.640997
                ],
                [
                 -122.488754,
                 48.645358
                ],
                [
                 -122.49399,
                 48.651596
                ],
                [
                 -122.500308,
                 48.656163
                ],
                [
                 -122.506718,
                 48.669692
                ],
                [
                 -122.519172,
                 48.713095
                ],
                [
                 -122.515511,
                 48.720992
                ],
                [
                 -122.505684,
                 48.724524
                ],
                [
                 -122.495301,
                 48.737328
                ],
                [
                 -122.490401,
                 48.751128
                ],
                [
                 -122.510902,
                 48.757728
                ],
                [
                 -122.528203,
                 48.768428
                ],
                [
                 -122.535803,
                 48.776128
                ],
                [
                 -122.567498,
                 48.779185
                ],
                [
                 -122.596844,
                 48.771492
                ],
                [
                 -122.598033,
                 48.769489
                ],
                [
                 -122.606787,
                 48.759143
                ],
                [
                 -122.627808,
                 48.74466
                ],
                [
                 -122.637146,
                 48.735708
                ],
                [
                 -122.638082,
                 48.732486
                ],
                [
                 -122.626287,
                 48.72093
                ],
                [
                 -122.612562,
                 48.714932
                ],
                [
                 -122.605733,
                 48.701066
                ],
                [
                 -122.606105,
                 48.698556
                ],
                [
                 -122.615169,
                 48.693839
                ],
                [
                 -122.620338,
                 48.693651
                ],
                [
                 -122.630422,
                 48.696625
                ],
                [
                 -122.646323,
                 48.708001
                ],
                [
                 -122.673472,
                 48.733082
                ],
                [
                 -122.666953,
                 48.748445
                ],
                [
                 -122.661111,
                 48.753962
                ],
                [
                 -122.647443,
                 48.773998
                ],
                [
                 -122.645743,
                 48.781538
                ],
                [
                 -122.646777,
                 48.785011
                ],
                [
                 -122.656528,
                 48.784969
                ],
                [
                 -122.659708,
                 48.786523
                ],
                [
                 -122.680246,
                 48.80275
                ],
                [
                 -122.693683,
                 48.804475
                ],
                [
                 -122.697219,
                 48.80281
                ],
                [
                 -122.698675,
                 48.800522
                ],
                [
                 -122.699507,
                 48.794906
                ],
                [
                 -122.699303,
                 48.789063
                ],
                [
                 -122.703106,
                 48.786321
                ],
                [
                 -122.709815,
                 48.786205
                ],
                [
                 -122.7112,
                 48.79146
                ],
                [
                 -122.709169,
                 48.817829
                ],
                [
                 -122.711805,
                 48.832408
                ],
                [
                 -122.717073,
                 48.84719
                ],
                [
                 -122.722685,
                 48.852855
                ],
                [
                 -122.785659,
                 48.885066
                ],
                [
                 -122.793175,
                 48.892927
                ],
                [
                 -122.792584,
                 48.894732
                ],
                [
                 -122.783747,
                 48.894639
                ],
                [
                 -122.751289,
                 48.911239
                ],
                [
                 -122.747514,
                 48.915582
                ],
                [
                 -122.745371,
                 48.921227
                ],
                [
                 -122.746596,
                 48.930731
                ],
                [
                 -122.755624,
                 48.93866
                ],
                [
                 -122.766096,
                 48.941955
                ],
                [
                 -122.770432,
                 48.942528
                ],
                [
                 -122.787539,
                 48.931702
                ],
                [
                 -122.818232,
                 48.939062
                ],
                [
                 -122.821631,
                 48.941369
                ],
                [
                 -122.822464,
                 48.944911
                ],
                [
                 -122.817226,
                 48.95597
                ],
                [
                 -122.796887,
                 48.975026
                ],
                [
                 -122.774276,
                 48.991038
                ],
                [
                 -122.766307,
                 48.991672
                ],
                [
                 -122.756318,
                 48.996881
                ],
                [
                 -122.756037,
                 48.999512
                ],
                [
                 -122.75802,
                 49.002357
                ],
                [
                 -122.407829,
                 49.002193
                ],
                [
                 -122.405989,
                 49.002239
                ],
                [
                 -122.098357,
                 49.002146
                ],
                [
                 -121.751252,
                 48.997399
                ],
                [
                 -121.12624,
                 49.001412
                ],
                [
                 -120.851202,
                 49.001191
                ],
                [
                 -120.767528,
                 48.954385
                ],
                [
                 -120.73371,
                 48.7829
                ],
                [
                 -120.654676,
                 48.724198
                ],
                [
                 -120.752021,
                 48.657538
                ]
               ]
              ],
              [
               [
                [
                 -123.035393,
                 49.002154
                ],
                [
                 -123.021459,
                 48.977299
                ],
                [
                 -123.028091,
                 48.973943
                ],
                [
                 -123.040967,
                 48.977305
                ],
                [
                 -123.060717,
                 48.975388
                ],
                [
                 -123.083834,
                 48.976139
                ],
                [
                 -123.084498,
                 48.986535
                ],
                [
                 -123.090546,
                 49.001976
                ],
                [
                 -123.035393,
                 49.002154
                ]
               ]
              ],
              [
               [
                [
                 -122.695907,
                 48.737273
                ],
                [
                 -122.668947,
                 48.706644
                ],
                [
                 -122.663259,
                 48.697077
                ],
                [
                 -122.644901,
                 48.691389
                ],
                [
                 -122.618225,
                 48.670721
                ],
                [
                 -122.609576,
                 48.645018
                ],
                [
                 -122.616956,
                 48.645563
                ],
                [
                 -122.635299,
                 48.651846
                ],
                [
                 -122.673538,
                 48.680809
                ],
                [
                 -122.691795,
                 48.711498
                ],
                [
                 -122.702223,
                 48.717004
                ],
                [
                 -122.718833,
                 48.716818
                ],
                [
                 -122.721981,
                 48.723375
                ],
                [
                 -122.722262,
                 48.731624
                ],
                [
                 -122.715709,
                 48.748672
                ],
                [
                 -122.70306,
                 48.743602
                ],
                [
                 -122.695907,
                 48.737273
                ]
               ]
              ]
             ],
             "type": "MultiPolygon"
            },
            "id": "3109",
            "properties": {},
            "type": "Feature"
           },
           {
            "bbox": [
             -122.739898,
             48.295548,
             -120.701557,
             48.657538
            ],
            "geometry": {
             "coordinates": [
              [
               [
                [
                 -122.649405,
                 48.588457
                ],
                [
                 -122.642597,
                 48.588339
                ],
                [
                 -122.629321,
                 48.5722
                ],
                [
                 -122.610841,
                 48.561146
                ],
                [
                 -122.592901,
                 48.553635
                ],
                [
                 -122.583985,
                 48.551534
                ],
                [
                 -122.578856,
                 48.54813
                ],
                [
                 -122.572967,
                 48.529028
                ],
                [
                 -122.583565,
                 48.53234
                ],
                [
                 -122.590194,
                 48.536259
                ],
                [
                 -122.599948,
                 48.536904
                ],
                [
                 -122.619858,
                 48.529246
                ],
                [
                 -122.635738,
                 48.526021
                ],
                [
                 -122.640414,
                 48.52586
                ],
                [
                 -122.649256,
                 48.528769
                ],
                [
                 -122.652041,
                 48.531329
                ],
                [
                 -122.654342,
                 48.537956
                ],
                [
                 -122.653612,
                 48.548975
                ],
                [
                 -122.650786,
                 48.554019
                ],
                [
                 -122.652385,
                 48.583432
                ],
                [
                 -122.649405,
                 48.588457
                ]
               ]
              ],
              [
               [
                [
                 -122.714512,
                 48.60878
                ],
                [
                 -122.694672,
                 48.596602
                ],
                [
                 -122.691745,
                 48.590612
                ],
                [
                 -122.670638,
                 48.568812
                ],
                [
                 -122.68944,
                 48.543903
                ],
                [
                 -122.717278,
                 48.539739
                ],
                [
                 -122.722407,
                 48.540606
                ],
                [
                 -122.724031,
                 48.549906
                ],
                [
                 -122.73048,
                 48.565602
                ],
                [
                 -122.736199,
                 48.569005
                ],
                [
                 -122.73944,
                 48.573893
                ],
                [
                 -122.739898,
                 48.583949
                ],
                [
                 -122.72493,
                 48.603263
                ],
                [
                 -122.714512,
                 48.60878
                ]
               ]
              ],
              [
               [
                [
                 -122.699266,
                 48.621115
                ],
                [
                 -122.69806,
                 48.62308
                ],
                [
                 -122.674173,
                 48.629944
                ],
                [
                 -122.657016,
                 48.609891
                ],
                [
                 -122.666149,
                 48.608088
                ],
                [
                 -122.676796,
                 48.610055
                ],
                [
                 -122.686136,
                 48.613267
                ],
                [
                 -122.699266,
                 48.621115
                ]
               ]
              ],
              [
               [
                [
                 -122.37821,
                 48.29759
                ],
                [
                 -122.38431,
                 48.304123
                ],
                [
                 -122.408718,
                 48.326413
                ],
                [
                 -122.424102,
                 48.334346
                ],
                [
                 -122.442678,
                 48.337934
                ],
                [
                 -122.475529,
                 48.359912
                ],
                [
                 -122.482423,
                 48.361737
                ],
                [
                 -122.497686,
                 48.361837
                ],
                [
                 -122.507437,
                 48.364666
                ],
                [
                 -122.533452,
                 48.383409
                ],
                [
                 -122.539449,
                 48.39719
                ],
                [
                 -122.547492,
                 48.399889
                ],
                [
                 -122.554536,
                 48.40604
                ],
                [
                 -122.558403,
                 48.426758
                ],
                [
                 -122.551221,
                 48.439465
                ],
                [
                 -122.557298,
                 48.444438
                ],
                [
                 -122.568348,
                 48.44499
                ],
                [
                 -122.575254,
                 48.443333
                ],
                [
                 -122.581607,
                 48.429244
                ],
                [
                 -122.61448,
                 48.41488
                ],
                [
                 -122.649839,
                 48.408526
                ],
                [
                 -122.665338,
                 48.416453
                ],
                [
                 -122.674158,
                 48.424726
                ],
                [
                 -122.678928,
                 48.439466
                ],
                [
                 -122.677072,
                 48.444059
                ],
                [
                 -122.674188,
                 48.443327
                ],
                [
                 -122.674085,
                 48.441979
                ],
                [
                 -122.667249,
                 48.442503
                ],
                [
                 -122.654844,
                 48.454087
                ],
                [
                 -122.657753,
                 48.47294
                ],
                [
                 -122.664623,
                 48.478128
                ],
                [
                 -122.689121,
                 48.476849
                ],
                [
                 -122.695725,
                 48.464785
                ],
                [
                 -122.695587,
                 48.460558
                ],
                [
                 -122.700603,
                 48.457632
                ],
                [
                 -122.710362,
                 48.461584
                ],
                [
                 -122.712322,
                 48.464143
                ],
                [
                 -122.712981,
                 48.47879
                ],
                [
                 -122.701644,
                 48.497622
                ],
                [
                 -122.684521,
                 48.509123
                ],
                [
                 -122.679122,
                 48.507797
                ],
                [
                 -122.676922,
                 48.504484
                ],
                [
                 -122.671386,
                 48.50398
                ],
                [
                 -122.615183,
                 48.521427
                ],
                [
                 -122.606961,
                 48.522152
                ],
                [
                 -122.599951,
                 48.520946
                ],
                [
                 -122.598469,
                 48.512169
                ],
                [
                 -122.568071,
                 48.50821
                ],
                [
                 -122.556834,
                 48.498812
                ],
                [
                 -122.537355,
                 48.466749
                ],
                [
                 -122.532845,
                 48.466057
                ],
                [
                 -122.526943,
                 48.468004
                ],
                [
                 -122.515056,
                 48.465554
                ],
                [
                 -122.511348,
                 48.461825
                ],
                [
                 -122.500721,
                 48.460887
                ],
                [
                 -122.471832,
                 48.470724
                ],
                [
                 -122.469634,
                 48.472187
                ],
                [
                 -122.46967,
                 48.474975
                ],
                [
                 -122.473763,
                 48.47975
                ],
                [
                 -122.478851,
                 48.481736
                ],
                [
                 -122.483501,
                 48.49243
                ],
                [
                 -122.484996,
                 48.50962
                ],
                [
                 -122.483872,
                 48.521891
                ],
                [
                 -122.485288,
                 48.528106
                ],
                [
                 -122.498463,
                 48.556206
                ],
                [
                 -122.504428,
                 48.564775
                ],
                [
                 -122.52537,
                 48.567344
                ],
                [
                 -122.531978,
                 48.568644
                ],
                [
                 -122.534719,
                 48.574246
                ],
                [
                 -122.534787,
                 48.57596
                ],
                [
                 -122.512372,
                 48.578067
                ],
                [
                 -122.495904,
                 48.575927
                ],
                [
                 -122.488421,
                 48.564665
                ],
                [
                 -122.482406,
                 48.559653
                ],
                [
                 -122.478431,
                 48.559303
                ],
                [
                 -122.44456,
                 48.570115
                ],
                [
                 -122.433059,
                 48.581609
                ],
                [
                 -122.425271,
                 48.599522
                ],
                [
                 -122.448702,
                 48.622624
                ],
                [
                 -122.46425,
                 48.625717
                ],
                [
                 -122.486878,
                 48.643122
                ],
                [
                 -122.488754,
                 48.645358
                ],
                [
                 -121.251233,
                 48.640997
                ],
                [
                 -120.910534,
                 48.640937
                ],
                [
                 -120.752021,
                 48.657538
                ],
                [
                 -120.701557,
                 48.53162
                ],
                [
                 -120.824008,
                 48.545153
                ],
                [
                 -121.035823,
                 48.494749
                ],
                [
                 -121.069941,
                 48.316539
                ],
                [
                 -121.001409,
                 48.295548
                ],
                [
                 -122.37821,
                 48.29759
                ]
               ]
              ]
             ],
             "type": "MultiPolygon"
            },
            "id": "3140",
            "properties": {},
            "type": "Feature"
           },
           {
            "bbox": [
             -124.733174,
             47.866829,
             -122.917942,
             48.390691
            ],
            "geometry": {
             "coordinates": [
              [
               [
                -123.131422,
                48.152736
               ],
               [
                -123.124816,
                48.153472
               ],
               [
                -123.116479,
                48.150208
               ],
               [
                -123.085154,
                48.127137
               ],
               [
                -123.06621,
                48.120469
               ],
               [
                -123.050446,
                48.102825
               ],
               [
                -123.038727,
                48.081138
               ],
               [
                -123.016651,
                48.08538
               ],
               [
                -123.004128,
                48.090516
               ],
               [
                -122.979413,
                48.09594
               ],
               [
                -122.946119,
                48.098552
               ],
               [
                -122.929095,
                48.096244
               ],
               [
                -122.917942,
                48.091535
               ],
               [
                -122.920911,
                48.088199
               ],
               [
                -122.926644,
                48.0741
               ],
               [
                -122.927975,
                48.06665
               ],
               [
                -122.927146,
                48.065133
               ],
               [
                -122.949055,
                48.065151
               ],
               [
                -122.949167,
                47.866829
               ],
               [
                -123.505917,
                47.866897
               ],
               [
                -123.505917,
                47.88108
               ],
               [
                -124.610763,
                47.880607
               ],
               [
                -124.625512,
                47.887963
               ],
               [
                -124.630153,
                47.892467
               ],
               [
                -124.629706,
                47.896968
               ],
               [
                -124.645442,
                47.935338
               ],
               [
                -124.651966,
                47.943177
               ],
               [
                -124.662334,
                47.951451
               ],
               [
                -124.672427,
                47.964414
               ],
               [
                -124.67083,
                47.982366
               ],
               [
                -124.679024,
                48.015697
               ],
               [
                -124.682157,
                48.035987
               ],
               [
                -124.685393,
                48.049238
               ],
               [
                -124.688359,
                48.054927
               ],
               [
                -124.693676,
                48.058697
               ],
               [
                -124.696542,
                48.069274
               ],
               [
                -124.695114,
                48.087096
               ],
               [
                -124.688602,
                48.092466
               ],
               [
                -124.687101,
                48.098657
               ],
               [
                -124.695088,
                48.114878
               ],
               [
                -124.721725,
                48.153185
               ],
               [
                -124.731703,
                48.160402
               ],
               [
                -124.733174,
                48.163393
               ],
               [
                -124.731746,
                48.169997
               ],
               [
                -124.704153,
                48.184422
               ],
               [
                -124.696111,
                48.198599
               ],
               [
                -124.6909,
                48.212617
               ],
               [
                -124.690389,
                48.219745
               ],
               [
                -124.705031,
                48.238774
               ],
               [
                -124.70592,
                48.239894
               ],
               [
                -124.699663,
                48.245812
               ],
               [
                -124.684677,
                48.255228
               ],
               [
                -124.680877,
                48.26535
               ],
               [
                -124.676319,
                48.295143
               ],
               [
                -124.669265,
                48.296353
               ],
               [
                -124.665908,
                48.299324
               ],
               [
                -124.662068,
                48.31045
               ],
               [
                -124.65894,
                48.331057
               ],
               [
                -124.670072,
                48.341341
               ],
               [
                -124.696703,
                48.349748
               ],
               [
                -124.713817,
                48.366309
               ],
               [
                -124.727022,
                48.371101
               ],
               [
                -124.730863,
                48.3762
               ],
               [
                -124.731828,
                48.381157
               ],
               [
                -124.725839,
                48.386012
               ],
               [
                -124.716947,
                48.389776
               ],
               [
                -124.694511,
                48.389004
               ],
               [
                -124.653243,
                48.390691
               ],
               [
                -124.639389,
                48.385524
               ],
               [
                -124.631108,
                48.376522
               ],
               [
                -124.611782,
                48.378182
               ],
               [
                -124.599278,
                48.381035
               ],
               [
                -124.597331,
                48.381882
               ],
               [
                -124.590733,
                48.373604
               ],
               [
                -124.572864,
                48.366228
               ],
               [
                -124.564841,
                48.367921
               ],
               [
                -124.546259,
                48.353594
               ],
               [
                -124.538821,
                48.349893
               ],
               [
                -124.525453,
                48.349022
               ],
               [
                -124.510582,
                48.343236
               ],
               [
                -124.414007,
                48.300887
               ],
               [
                -124.395593,
                48.288772
               ],
               [
                -124.380874,
                48.284699
               ],
               [
                -124.361351,
                48.287582
               ],
               [
                -124.342412,
                48.277695
               ],
               [
                -124.299146,
                48.268239
               ],
               [
                -124.295589,
                48.262983
               ],
               [
                -124.296924,
                48.261796
               ],
               [
                -124.297643,
                48.260676
               ],
               [
                -124.295693,
                48.259282
               ],
               [
                -124.272017,
                48.25441
               ],
               [
                -124.265824,
                48.254842
               ],
               [
                -124.255109,
                48.258972
               ],
               [
                -124.252267,
                48.261004
               ],
               [
                -124.250882,
                48.264773
               ],
               [
                -124.238582,
                48.262471
               ],
               [
                -124.217873,
                48.253294
               ],
               [
                -124.192692,
                48.246316
               ],
               [
                -124.14129,
                48.227413
               ],
               [
                -124.110974,
                48.220557
               ],
               [
                -124.101773,
                48.216883
               ],
               [
                -124.107215,
                48.200082
               ],
               [
                -124.090717,
                48.196458
               ],
               [
                -124.072124,
                48.189903
               ],
               [
                -124.050734,
                48.177747
               ],
               [
                -123.981032,
                48.164761
               ],
               [
                -123.955347,
                48.165455
               ],
               [
                -123.934921,
                48.16084
               ],
               [
                -123.915589,
                48.159352
               ],
               [
                -123.880068,
                48.160621
               ],
               [
                -123.866677,
                48.154796
               ],
               [
                -123.858821,
                48.154273
               ],
               [
                -123.831571,
                48.157937
               ],
               [
                -123.778122,
                48.155466
               ],
               [
                -123.756395,
                48.161057
               ],
               [
                -123.728736,
                48.1628
               ],
               [
                -123.72829,
                48.160858
               ],
               [
                -123.725352,
                48.159191
               ],
               [
                -123.71835,
                48.158713
               ],
               [
                -123.706226,
                48.1634
               ],
               [
                -123.706432,
                48.165822
               ],
               [
                -123.702743,
                48.166783
               ],
               [
                -123.672445,
                48.162715
               ],
               [
                -123.651408,
                48.156952
               ],
               [
                -123.636967,
                48.150319
               ],
               [
                -123.641108,
                48.146127
               ],
               [
                -123.628819,
                48.139279
               ],
               [
                -123.590839,
                48.134949
               ],
               [
                -123.574214,
                48.140756
               ],
               [
                -123.560591,
                48.150697
               ],
               [
                -123.551131,
                48.151382
               ],
               [
                -123.534879,
                48.14578
               ],
               [
                -123.52232,
                48.135539
               ],
               [
                -123.507235,
                48.131807
               ],
               [
                -123.473379,
                48.134079
               ],
               [
                -123.455458,
                48.140047
               ],
               [
                -123.440128,
                48.142014
               ],
               [
                -123.439127,
                48.141278
               ],
               [
                -123.441972,
                48.124259
               ],
               [
                -123.424668,
                48.118065
               ],
               [
                -123.395048,
                48.114243
               ],
               [
                -123.360923,
                48.115864
               ],
               [
                -123.332699,
                48.11297
               ],
               [
                -123.314578,
                48.113725
               ],
               [
                -123.288265,
                48.121036
               ],
               [
                -123.280178,
                48.117309
               ],
               [
                -123.268917,
                48.116094
               ],
               [
                -123.248615,
                48.115745
               ],
               [
                -123.239129,
                48.118217
               ],
               [
                -123.21719,
                48.127203
               ],
               [
                -123.191521,
                48.143821
               ],
               [
                -123.1644,
                48.165894
               ],
               [
                -123.144783,
                48.175943
               ],
               [
                -123.133445,
                48.177276
               ],
               [
                -123.132417,
                48.174704
               ],
               [
                -123.139258,
                48.16648
               ],
               [
                -123.143229,
                48.156633
               ],
               [
                -123.131422,
                48.152736
               ]
              ]
             ],
             "type": "Polygon"
            },
            "id": "3179",
            "properties": {},
            "type": "Feature"
           },
           {
            "bbox": [
             -124.353651,
             46.792449,
             -123.158439,
             47.53361
            ],
            "geometry": {
             "coordinates": [
              [
               [
                -124.098359,
                46.794157
               ],
               [
                -124.101232,
                46.810656
               ],
               [
                -124.108078,
                46.836388
               ],
               [
                -124.122979,
                46.879809
               ],
               [
                -124.138225,
                46.905534
               ],
               [
                -124.117712,
                46.91238
               ],
               [
                -124.110641,
                46.91252
               ],
               [
                -124.093392,
                46.901168
               ],
               [
                -124.090422,
                46.8955
               ],
               [
                -124.089286,
                46.867716
               ],
               [
                -124.073113,
                46.861493
               ],
               [
                -124.066349,
                46.863504
               ],
               [
                -124.061051,
                46.865127
               ],
               [
                -124.055085,
                46.870429
               ],
               [
                -124.049279,
                46.891253
               ],
               [
                -124.046344,
                46.893972
               ],
               [
                -124.03624,
                46.898473
               ],
               [
                -124.01366,
                46.90363
               ],
               [
                -124.009519,
                46.910325
               ],
               [
                -123.985082,
                46.921916
               ],
               [
                -123.979378,
                46.923038
               ],
               [
                -123.957493,
                46.921261
               ],
               [
                -123.915256,
                46.932964
               ],
               [
                -123.882884,
                46.939946
               ],
               [
                -123.86018,
                46.948556
               ],
               [
                -123.876136,
                46.961054
               ],
               [
                -123.889402,
                46.968904
               ],
               [
                -123.898245,
                46.971927
               ],
               [
                -123.921617,
                46.971864
               ],
               [
                -123.939214,
                46.969739
               ],
               [
                -123.947996,
                46.971818
               ],
               [
                -123.959185,
                46.981759
               ],
               [
                -123.991612,
                46.980215
               ],
               [
                -124.012218,
                46.985176
               ],
               [
                -124.019727,
                46.991189
               ],
               [
                -124.010068,
                46.997882
               ],
               [
                -124.005248,
                47.003915
               ],
               [
                -124.017035,
                47.011717
               ],
               [
                -124.016999,
                47.014848
               ],
               [
                -124.026345,
                47.030187
               ],
               [
                -124.065856,
                47.04114
               ],
               [
                -124.106378,
                47.04264
               ],
               [
                -124.122057,
                47.04165
               ],
               [
                -124.141517,
                47.035142
               ],
               [
                -124.149043,
                47.029294
               ],
               [
                -124.151288,
                47.021112
               ],
               [
                -124.139733,
                46.98837
               ],
               [
                -124.138035,
                46.970959
               ],
               [
                -124.124386,
                46.94387
               ],
               [
                -124.141267,
                46.940266
               ],
               [
                -124.158624,
                46.929439
               ],
               [
                -124.180111,
                46.926357
               ],
               [
                -124.174503,
                46.941623
               ],
               [
                -124.171161,
                46.958443
               ],
               [
                -124.169113,
                46.994508
               ],
               [
                -124.173501,
                47.06637
               ],
               [
                -124.176745,
                47.092999
               ],
               [
                -124.183833,
                47.124807
               ],
               [
                -124.182802,
                47.134041
               ],
               [
                -124.185806,
                47.136017
               ],
               [
                -124.189725,
                47.146827
               ],
               [
                -124.195893,
                47.174
               ],
               [
                -124.209017,
                47.218151
               ],
               [
                -124.236349,
                47.287287
               ],
               [
                -124.242234,
                47.295101
               ],
               [
                -124.25359,
                47.30248
               ],
               [
                -124.257452,
                47.304059
               ],
               [
                -124.271193,
                47.305025
               ],
               [
                -124.286369,
                47.325162
               ],
               [
                -124.293288,
                47.339309
               ],
               [
                -124.299943,
                47.34836
               ],
               [
                -124.307509,
                47.352268
               ],
               [
                -124.319379,
                47.355559
               ],
               [
                -124.324091,
                47.367602
               ],
               [
                -124.32665,
                47.388759
               ],
               [
                -124.336724,
                47.415996
               ],
               [
                -124.345155,
                47.48903
               ],
               [
                -124.353651,
                47.53361
               ],
               [
                -124.047108,
                47.51812
               ],
               [
                -123.50438,
                47.517609
               ],
               [
                -123.489031,
                47.082716
               ],
               [
                -123.202066,
                47.084895
               ],
               [
                -123.158439,
                46.996237
               ],
               [
                -123.160588,
                46.793383
               ],
               [
                -123.202826,
                46.794392
               ],
               [
                -123.370775,
                46.792449
               ],
               [
                -124.098359,
                46.794157
               ]
              ]
             ],
             "type": "Polygon"
            },
            "id": "3180",
            "properties": {},
            "type": "Feature"
           }
          ],
          "type": "FeatureCollection"
         },
         "hovertemplate": "index=%{location}<br>Cluster=%{z}<extra></extra>",
         "locations": [
          0,
          1,
          2,
          3,
          4,
          5,
          6,
          7,
          8,
          9,
          10,
          11,
          12,
          13,
          14,
          15,
          16,
          17,
          18,
          19,
          20,
          21,
          22,
          23,
          24,
          25,
          26,
          27,
          28,
          29,
          30,
          31,
          32,
          33,
          34,
          35,
          36,
          37,
          38
         ],
         "name": "",
         "type": "choropleth",
         "z": [
          0,
          1,
          1,
          1,
          1,
          1,
          0,
          1,
          1,
          1,
          1,
          0,
          1,
          1,
          1,
          1,
          1,
          1,
          1,
          1,
          2,
          1,
          1,
          1,
          1,
          1,
          1,
          1,
          1,
          1,
          1,
          1,
          1,
          1,
          1,
          1,
          1,
          1,
          1
         ]
        }
       ],
       "layout": {
        "coloraxis": {
         "colorbar": {
          "title": {
           "text": "Cluster"
          }
         },
         "colorscale": [
          [
           0,
           "#440154"
          ],
          [
           0.1111111111111111,
           "#482878"
          ],
          [
           0.2222222222222222,
           "#3e4989"
          ],
          [
           0.3333333333333333,
           "#31688e"
          ],
          [
           0.4444444444444444,
           "#26828e"
          ],
          [
           0.5555555555555556,
           "#1f9e89"
          ],
          [
           0.6666666666666666,
           "#35b779"
          ],
          [
           0.7777777777777778,
           "#6ece58"
          ],
          [
           0.8888888888888888,
           "#b5de2b"
          ],
          [
           1,
           "#fde725"
          ]
         ]
        },
        "geo": {
         "center": {},
         "domain": {
          "x": [
           0,
           1
          ],
          "y": [
           0,
           1
          ]
         },
         "fitbounds": "locations",
         "scope": "usa",
         "visible": false
        },
        "legend": {
         "tracegroupgap": 0
        },
        "margin": {
         "t": 60
        },
        "template": {
         "data": {
          "bar": [
           {
            "error_x": {
             "color": "#2a3f5f"
            },
            "error_y": {
             "color": "#2a3f5f"
            },
            "marker": {
             "line": {
              "color": "#E5ECF6",
              "width": 0.5
             },
             "pattern": {
              "fillmode": "overlay",
              "size": 10,
              "solidity": 0.2
             }
            },
            "type": "bar"
           }
          ],
          "barpolar": [
           {
            "marker": {
             "line": {
              "color": "#E5ECF6",
              "width": 0.5
             },
             "pattern": {
              "fillmode": "overlay",
              "size": 10,
              "solidity": 0.2
             }
            },
            "type": "barpolar"
           }
          ],
          "carpet": [
           {
            "aaxis": {
             "endlinecolor": "#2a3f5f",
             "gridcolor": "white",
             "linecolor": "white",
             "minorgridcolor": "white",
             "startlinecolor": "#2a3f5f"
            },
            "baxis": {
             "endlinecolor": "#2a3f5f",
             "gridcolor": "white",
             "linecolor": "white",
             "minorgridcolor": "white",
             "startlinecolor": "#2a3f5f"
            },
            "type": "carpet"
           }
          ],
          "choropleth": [
           {
            "colorbar": {
             "outlinewidth": 0,
             "ticks": ""
            },
            "type": "choropleth"
           }
          ],
          "contour": [
           {
            "colorbar": {
             "outlinewidth": 0,
             "ticks": ""
            },
            "colorscale": [
             [
              0,
              "#0d0887"
             ],
             [
              0.1111111111111111,
              "#46039f"
             ],
             [
              0.2222222222222222,
              "#7201a8"
             ],
             [
              0.3333333333333333,
              "#9c179e"
             ],
             [
              0.4444444444444444,
              "#bd3786"
             ],
             [
              0.5555555555555556,
              "#d8576b"
             ],
             [
              0.6666666666666666,
              "#ed7953"
             ],
             [
              0.7777777777777778,
              "#fb9f3a"
             ],
             [
              0.8888888888888888,
              "#fdca26"
             ],
             [
              1,
              "#f0f921"
             ]
            ],
            "type": "contour"
           }
          ],
          "contourcarpet": [
           {
            "colorbar": {
             "outlinewidth": 0,
             "ticks": ""
            },
            "type": "contourcarpet"
           }
          ],
          "heatmap": [
           {
            "colorbar": {
             "outlinewidth": 0,
             "ticks": ""
            },
            "colorscale": [
             [
              0,
              "#0d0887"
             ],
             [
              0.1111111111111111,
              "#46039f"
             ],
             [
              0.2222222222222222,
              "#7201a8"
             ],
             [
              0.3333333333333333,
              "#9c179e"
             ],
             [
              0.4444444444444444,
              "#bd3786"
             ],
             [
              0.5555555555555556,
              "#d8576b"
             ],
             [
              0.6666666666666666,
              "#ed7953"
             ],
             [
              0.7777777777777778,
              "#fb9f3a"
             ],
             [
              0.8888888888888888,
              "#fdca26"
             ],
             [
              1,
              "#f0f921"
             ]
            ],
            "type": "heatmap"
           }
          ],
          "heatmapgl": [
           {
            "colorbar": {
             "outlinewidth": 0,
             "ticks": ""
            },
            "colorscale": [
             [
              0,
              "#0d0887"
             ],
             [
              0.1111111111111111,
              "#46039f"
             ],
             [
              0.2222222222222222,
              "#7201a8"
             ],
             [
              0.3333333333333333,
              "#9c179e"
             ],
             [
              0.4444444444444444,
              "#bd3786"
             ],
             [
              0.5555555555555556,
              "#d8576b"
             ],
             [
              0.6666666666666666,
              "#ed7953"
             ],
             [
              0.7777777777777778,
              "#fb9f3a"
             ],
             [
              0.8888888888888888,
              "#fdca26"
             ],
             [
              1,
              "#f0f921"
             ]
            ],
            "type": "heatmapgl"
           }
          ],
          "histogram": [
           {
            "marker": {
             "pattern": {
              "fillmode": "overlay",
              "size": 10,
              "solidity": 0.2
             }
            },
            "type": "histogram"
           }
          ],
          "histogram2d": [
           {
            "colorbar": {
             "outlinewidth": 0,
             "ticks": ""
            },
            "colorscale": [
             [
              0,
              "#0d0887"
             ],
             [
              0.1111111111111111,
              "#46039f"
             ],
             [
              0.2222222222222222,
              "#7201a8"
             ],
             [
              0.3333333333333333,
              "#9c179e"
             ],
             [
              0.4444444444444444,
              "#bd3786"
             ],
             [
              0.5555555555555556,
              "#d8576b"
             ],
             [
              0.6666666666666666,
              "#ed7953"
             ],
             [
              0.7777777777777778,
              "#fb9f3a"
             ],
             [
              0.8888888888888888,
              "#fdca26"
             ],
             [
              1,
              "#f0f921"
             ]
            ],
            "type": "histogram2d"
           }
          ],
          "histogram2dcontour": [
           {
            "colorbar": {
             "outlinewidth": 0,
             "ticks": ""
            },
            "colorscale": [
             [
              0,
              "#0d0887"
             ],
             [
              0.1111111111111111,
              "#46039f"
             ],
             [
              0.2222222222222222,
              "#7201a8"
             ],
             [
              0.3333333333333333,
              "#9c179e"
             ],
             [
              0.4444444444444444,
              "#bd3786"
             ],
             [
              0.5555555555555556,
              "#d8576b"
             ],
             [
              0.6666666666666666,
              "#ed7953"
             ],
             [
              0.7777777777777778,
              "#fb9f3a"
             ],
             [
              0.8888888888888888,
              "#fdca26"
             ],
             [
              1,
              "#f0f921"
             ]
            ],
            "type": "histogram2dcontour"
           }
          ],
          "mesh3d": [
           {
            "colorbar": {
             "outlinewidth": 0,
             "ticks": ""
            },
            "type": "mesh3d"
           }
          ],
          "parcoords": [
           {
            "line": {
             "colorbar": {
              "outlinewidth": 0,
              "ticks": ""
             }
            },
            "type": "parcoords"
           }
          ],
          "pie": [
           {
            "automargin": true,
            "type": "pie"
           }
          ],
          "scatter": [
           {
            "fillpattern": {
             "fillmode": "overlay",
             "size": 10,
             "solidity": 0.2
            },
            "type": "scatter"
           }
          ],
          "scatter3d": [
           {
            "line": {
             "colorbar": {
              "outlinewidth": 0,
              "ticks": ""
             }
            },
            "marker": {
             "colorbar": {
              "outlinewidth": 0,
              "ticks": ""
             }
            },
            "type": "scatter3d"
           }
          ],
          "scattercarpet": [
           {
            "marker": {
             "colorbar": {
              "outlinewidth": 0,
              "ticks": ""
             }
            },
            "type": "scattercarpet"
           }
          ],
          "scattergeo": [
           {
            "marker": {
             "colorbar": {
              "outlinewidth": 0,
              "ticks": ""
             }
            },
            "type": "scattergeo"
           }
          ],
          "scattergl": [
           {
            "marker": {
             "colorbar": {
              "outlinewidth": 0,
              "ticks": ""
             }
            },
            "type": "scattergl"
           }
          ],
          "scattermapbox": [
           {
            "marker": {
             "colorbar": {
              "outlinewidth": 0,
              "ticks": ""
             }
            },
            "type": "scattermapbox"
           }
          ],
          "scatterpolar": [
           {
            "marker": {
             "colorbar": {
              "outlinewidth": 0,
              "ticks": ""
             }
            },
            "type": "scatterpolar"
           }
          ],
          "scatterpolargl": [
           {
            "marker": {
             "colorbar": {
              "outlinewidth": 0,
              "ticks": ""
             }
            },
            "type": "scatterpolargl"
           }
          ],
          "scatterternary": [
           {
            "marker": {
             "colorbar": {
              "outlinewidth": 0,
              "ticks": ""
             }
            },
            "type": "scatterternary"
           }
          ],
          "surface": [
           {
            "colorbar": {
             "outlinewidth": 0,
             "ticks": ""
            },
            "colorscale": [
             [
              0,
              "#0d0887"
             ],
             [
              0.1111111111111111,
              "#46039f"
             ],
             [
              0.2222222222222222,
              "#7201a8"
             ],
             [
              0.3333333333333333,
              "#9c179e"
             ],
             [
              0.4444444444444444,
              "#bd3786"
             ],
             [
              0.5555555555555556,
              "#d8576b"
             ],
             [
              0.6666666666666666,
              "#ed7953"
             ],
             [
              0.7777777777777778,
              "#fb9f3a"
             ],
             [
              0.8888888888888888,
              "#fdca26"
             ],
             [
              1,
              "#f0f921"
             ]
            ],
            "type": "surface"
           }
          ],
          "table": [
           {
            "cells": {
             "fill": {
              "color": "#EBF0F8"
             },
             "line": {
              "color": "white"
             }
            },
            "header": {
             "fill": {
              "color": "#C8D4E3"
             },
             "line": {
              "color": "white"
             }
            },
            "type": "table"
           }
          ]
         },
         "layout": {
          "annotationdefaults": {
           "arrowcolor": "#2a3f5f",
           "arrowhead": 0,
           "arrowwidth": 1
          },
          "autotypenumbers": "strict",
          "coloraxis": {
           "colorbar": {
            "outlinewidth": 0,
            "ticks": ""
           }
          },
          "colorscale": {
           "diverging": [
            [
             0,
             "#8e0152"
            ],
            [
             0.1,
             "#c51b7d"
            ],
            [
             0.2,
             "#de77ae"
            ],
            [
             0.3,
             "#f1b6da"
            ],
            [
             0.4,
             "#fde0ef"
            ],
            [
             0.5,
             "#f7f7f7"
            ],
            [
             0.6,
             "#e6f5d0"
            ],
            [
             0.7,
             "#b8e186"
            ],
            [
             0.8,
             "#7fbc41"
            ],
            [
             0.9,
             "#4d9221"
            ],
            [
             1,
             "#276419"
            ]
           ],
           "sequential": [
            [
             0,
             "#0d0887"
            ],
            [
             0.1111111111111111,
             "#46039f"
            ],
            [
             0.2222222222222222,
             "#7201a8"
            ],
            [
             0.3333333333333333,
             "#9c179e"
            ],
            [
             0.4444444444444444,
             "#bd3786"
            ],
            [
             0.5555555555555556,
             "#d8576b"
            ],
            [
             0.6666666666666666,
             "#ed7953"
            ],
            [
             0.7777777777777778,
             "#fb9f3a"
            ],
            [
             0.8888888888888888,
             "#fdca26"
            ],
            [
             1,
             "#f0f921"
            ]
           ],
           "sequentialminus": [
            [
             0,
             "#0d0887"
            ],
            [
             0.1111111111111111,
             "#46039f"
            ],
            [
             0.2222222222222222,
             "#7201a8"
            ],
            [
             0.3333333333333333,
             "#9c179e"
            ],
            [
             0.4444444444444444,
             "#bd3786"
            ],
            [
             0.5555555555555556,
             "#d8576b"
            ],
            [
             0.6666666666666666,
             "#ed7953"
            ],
            [
             0.7777777777777778,
             "#fb9f3a"
            ],
            [
             0.8888888888888888,
             "#fdca26"
            ],
            [
             1,
             "#f0f921"
            ]
           ]
          },
          "colorway": [
           "#636efa",
           "#EF553B",
           "#00cc96",
           "#ab63fa",
           "#FFA15A",
           "#19d3f3",
           "#FF6692",
           "#B6E880",
           "#FF97FF",
           "#FECB52"
          ],
          "font": {
           "color": "#2a3f5f"
          },
          "geo": {
           "bgcolor": "white",
           "lakecolor": "white",
           "landcolor": "#E5ECF6",
           "showlakes": true,
           "showland": true,
           "subunitcolor": "white"
          },
          "hoverlabel": {
           "align": "left"
          },
          "hovermode": "closest",
          "mapbox": {
           "style": "light"
          },
          "paper_bgcolor": "white",
          "plot_bgcolor": "#E5ECF6",
          "polar": {
           "angularaxis": {
            "gridcolor": "white",
            "linecolor": "white",
            "ticks": ""
           },
           "bgcolor": "#E5ECF6",
           "radialaxis": {
            "gridcolor": "white",
            "linecolor": "white",
            "ticks": ""
           }
          },
          "scene": {
           "xaxis": {
            "backgroundcolor": "#E5ECF6",
            "gridcolor": "white",
            "gridwidth": 2,
            "linecolor": "white",
            "showbackground": true,
            "ticks": "",
            "zerolinecolor": "white"
           },
           "yaxis": {
            "backgroundcolor": "#E5ECF6",
            "gridcolor": "white",
            "gridwidth": 2,
            "linecolor": "white",
            "showbackground": true,
            "ticks": "",
            "zerolinecolor": "white"
           },
           "zaxis": {
            "backgroundcolor": "#E5ECF6",
            "gridcolor": "white",
            "gridwidth": 2,
            "linecolor": "white",
            "showbackground": true,
            "ticks": "",
            "zerolinecolor": "white"
           }
          },
          "shapedefaults": {
           "line": {
            "color": "#2a3f5f"
           }
          },
          "ternary": {
           "aaxis": {
            "gridcolor": "white",
            "linecolor": "white",
            "ticks": ""
           },
           "baxis": {
            "gridcolor": "white",
            "linecolor": "white",
            "ticks": ""
           },
           "bgcolor": "#E5ECF6",
           "caxis": {
            "gridcolor": "white",
            "linecolor": "white",
            "ticks": ""
           }
          },
          "title": {
           "x": 0.05
          },
          "xaxis": {
           "automargin": true,
           "gridcolor": "white",
           "linecolor": "white",
           "ticks": "",
           "title": {
            "standoff": 15
           },
           "zerolinecolor": "white",
           "zerolinewidth": 2
          },
          "yaxis": {
           "automargin": true,
           "gridcolor": "white",
           "linecolor": "white",
           "ticks": "",
           "title": {
            "standoff": 15
           },
           "zerolinecolor": "white",
           "zerolinewidth": 2
          }
         }
        },
        "title": {
         "text": "Cluster Distribution of Washington Counties"
        }
       }
      }
     },
     "metadata": {},
     "output_type": "display_data"
    }
   ],
   "source": [
    "fig = px.choropleth(merged_data,\n",
    "                    geojson=counties.geometry,\n",
    "                    locations=merged_data.index,\n",
    "                    color='Cluster',\n",
    "                    color_continuous_scale=\"Viridis\",\n",
    "                    scope=\"usa\",\n",
    "                    labels={'Cluster': 'Cluster'}\n",
    "                   )\n",
    "fig.update_geos(fitbounds=\"locations\", visible=False)\n",
    "fig.update_layout(title_text='Cluster Distribution of Washington Counties')\n",
    "fig.show()\n"
   ]
  }
 ],
 "metadata": {
  "kernelspec": {
   "display_name": "base",
   "language": "python",
   "name": "python3"
  },
  "language_info": {
   "codemirror_mode": {
    "name": "ipython",
    "version": 3
   },
   "file_extension": ".py",
   "mimetype": "text/x-python",
   "name": "python",
   "nbconvert_exporter": "python",
   "pygments_lexer": "ipython3",
   "version": "3.11.3"
  }
 },
 "nbformat": 4,
 "nbformat_minor": 2
}
