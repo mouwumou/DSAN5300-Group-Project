{
 "cells": [
  {
   "cell_type": "markdown",
   "id": "b6518ec6",
   "metadata": {},
   "source": [
    "---\n",
    "title: \"Descriptive analysis\"\n",
    "author: \"Frank Dong, Qiu Jingxi, Di Ziyan\"\n",
    "subtitle: \"DSAN 5300 project group 16\"\n",
    "---\n"
   ]
  },
  {
   "cell_type": "code",
   "execution_count": 43,
   "id": "dc990965",
   "metadata": {},
   "outputs": [
    {
     "data": {
      "text/plain": [
       "0.44785962466126183"
      ]
     },
     "execution_count": 43,
     "metadata": {},
     "output_type": "execute_result"
    }
   ],
   "source": [
    "sum(df[df[\"Make\"] == \"TESLA\"][\"Clean Alternative Fuel Vehicle (CAFV) Eligibility\"].value_counts())/len(df)"
   ]
  },
  {
   "cell_type": "code",
   "execution_count": 45,
   "metadata": {},
   "outputs": [
    {
     "data": {
      "text/plain": [
       "Clean Alternative Fuel Vehicle (CAFV) Eligibility\n",
       "Eligibility unknown as battery range has not been researched    91950\n",
       "Clean Alternative Fuel Vehicle Eligible                         66331\n",
       "Not eligible due to low battery range                           19585\n",
       "Name: count, dtype: int64"
      ]
     },
     "execution_count": 45,
     "metadata": {},
     "output_type": "execute_result"
    }
   ],
   "source": [
    "df[\"Clean Alternative Fuel Vehicle (CAFV) Eligibility\"].value_counts()"
   ]
  },
  {
   "cell_type": "code",
   "execution_count": 48,
   "metadata": {},
   "outputs": [
    {
     "data": {
      "text/html": [
       "<div>\n",
       "<style scoped>\n",
       "    .dataframe tbody tr th:only-of-type {\n",
       "        vertical-align: middle;\n",
       "    }\n",
       "\n",
       "    .dataframe tbody tr th {\n",
       "        vertical-align: top;\n",
       "    }\n",
       "\n",
       "    .dataframe thead th {\n",
       "        text-align: right;\n",
       "    }\n",
       "</style>\n",
       "<table border=\"1\" class=\"dataframe\">\n",
       "  <thead>\n",
       "    <tr style=\"text-align: right;\">\n",
       "      <th></th>\n",
       "      <th>VIN (1-10)</th>\n",
       "      <th>County</th>\n",
       "      <th>City</th>\n",
       "      <th>State</th>\n",
       "      <th>Postal Code</th>\n",
       "      <th>Model Year</th>\n",
       "      <th>Make</th>\n",
       "      <th>Model</th>\n",
       "      <th>Electric Vehicle Type</th>\n",
       "      <th>Clean Alternative Fuel Vehicle (CAFV) Eligibility</th>\n",
       "      <th>Electric Range</th>\n",
       "      <th>Base MSRP</th>\n",
       "      <th>Legislative District</th>\n",
       "      <th>DOL Vehicle ID</th>\n",
       "      <th>Vehicle Location</th>\n",
       "      <th>Electric Utility</th>\n",
       "      <th>2020 Census Tract</th>\n",
       "    </tr>\n",
       "  </thead>\n",
       "  <tbody>\n",
       "    <tr>\n",
       "      <th>0</th>\n",
       "      <td>5YJYGDEE1L</td>\n",
       "      <td>King</td>\n",
       "      <td>Seattle</td>\n",
       "      <td>WA</td>\n",
       "      <td>98122.0</td>\n",
       "      <td>2020</td>\n",
       "      <td>TESLA</td>\n",
       "      <td>MODEL Y</td>\n",
       "      <td>Battery Electric Vehicle (BEV)</td>\n",
       "      <td>Clean Alternative Fuel Vehicle Eligible</td>\n",
       "      <td>291</td>\n",
       "      <td>0</td>\n",
       "      <td>37.0</td>\n",
       "      <td>125701579</td>\n",
       "      <td>POINT (-122.30839 47.610365)</td>\n",
       "      <td>CITY OF SEATTLE - (WA)|CITY OF TACOMA - (WA)</td>\n",
       "      <td>5.303301e+10</td>\n",
       "    </tr>\n",
       "  </tbody>\n",
       "</table>\n",
       "</div>"
      ],
      "text/plain": [
       "   VIN (1-10) County     City State  Postal Code  Model Year   Make    Model  \\\n",
       "0  5YJYGDEE1L   King  Seattle    WA      98122.0        2020  TESLA  MODEL Y   \n",
       "\n",
       "            Electric Vehicle Type  \\\n",
       "0  Battery Electric Vehicle (BEV)   \n",
       "\n",
       "  Clean Alternative Fuel Vehicle (CAFV) Eligibility  Electric Range  \\\n",
       "0           Clean Alternative Fuel Vehicle Eligible             291   \n",
       "\n",
       "   Base MSRP  Legislative District  DOL Vehicle ID  \\\n",
       "0          0                  37.0       125701579   \n",
       "\n",
       "               Vehicle Location                              Electric Utility  \\\n",
       "0  POINT (-122.30839 47.610365)  CITY OF SEATTLE - (WA)|CITY OF TACOMA - (WA)   \n",
       "\n",
       "   2020 Census Tract  \n",
       "0       5.303301e+10  "
      ]
     },
     "execution_count": 48,
     "metadata": {},
     "output_type": "execute_result"
    }
   ],
   "source": [
    "df.head(1)"
   ]
  },
  {
   "cell_type": "code",
   "execution_count": 49,
   "metadata": {},
   "outputs": [
    {
     "data": {
      "text/plain": [
       "Clean Alternative Fuel Vehicle (CAFV) Eligibility\n",
       "Eligibility unknown as battery range has not been researched    91950\n",
       "Clean Alternative Fuel Vehicle Eligible                         66331\n",
       "Not eligible due to low battery range                           19585\n",
       "Name: count, dtype: int64"
      ]
     },
     "execution_count": 49,
     "metadata": {},
     "output_type": "execute_result"
    }
   ],
   "source": [
    "df[\"Clean Alternative Fuel Vehicle (CAFV) Eligibility\"].value_counts()"
   ]
  },
  {
   "cell_type": "code",
   "execution_count": 51,
   "metadata": {},
   "outputs": [
    {
     "data": {
      "text/plain": [
       "Electric Range\n",
       "0      54077\n",
       "215     6123\n",
       "220     4115\n",
       "208     2449\n",
       "291     2372\n",
       "210     1860\n",
       "322     1681\n",
       "266     1423\n",
       "200     1299\n",
       "249      903\n",
       "238      889\n",
       "289      657\n",
       "308      514\n",
       "293      458\n",
       "330      333\n",
       "270      275\n",
       "265      128\n",
       "337       76\n",
       "245       27\n",
       "Name: count, dtype: int64"
      ]
     },
     "execution_count": 51,
     "metadata": {},
     "output_type": "execute_result"
    }
   ],
   "source": [
    "df[df[\"Make\"] == \"TESLA\"][\"Electric Range\"].value_counts()"
   ]
  },
  {
   "cell_type": "code",
   "execution_count": 50,
   "metadata": {},
   "outputs": [
    {
     "data": {
      "text/plain": [
       "Electric Range\n",
       "0      91950\n",
       "215     6376\n",
       "220     4115\n",
       "25      4107\n",
       "32      3911\n",
       "       ...  \n",
       "36         4\n",
       "95         3\n",
       "11         3\n",
       "51         3\n",
       "57         2\n",
       "Name: count, Length: 102, dtype: int64"
      ]
     },
     "execution_count": 50,
     "metadata": {},
     "output_type": "execute_result"
    }
   ],
   "source": [
    "df[\"Electric Range\"].value_counts()"
   ]
  },
  {
   "cell_type": "code",
   "execution_count": 52,
   "metadata": {},
   "outputs": [],
   "source": [
    "data = df.copy()"
   ]
  },
  {
   "cell_type": "code",
   "execution_count": 56,
   "metadata": {},
   "outputs": [],
   "source": [
    "data['Electric Range'] = data['Electric Range'].replace(0, pd.NA)\n",
    "data['Base MSRP'] = data['Base MSRP'].replace(0, pd.NA)\n",
    "data[\"Clean Alternative Fuel Vehicle (CAFV) Eligibility\"] = data[\"Clean Alternative Fuel Vehicle (CAFV) Eligibility\"].replace(\"Eligibility unknown as battery range has not been researched\", pd.NA)"
   ]
  },
  {
   "cell_type": "code",
   "execution_count": 59,
   "metadata": {},
   "outputs": [
    {
     "data": {
      "text/plain": [
       "Clean Alternative Fuel Vehicle (CAFV) Eligibility\n",
       "Clean Alternative Fuel Vehicle Eligible    66331\n",
       "Not eligible due to low battery range      19585\n",
       "Name: count, dtype: int64"
      ]
     },
     "execution_count": 59,
     "metadata": {},
     "output_type": "execute_result"
    }
   ],
   "source": [
    "data[\"Clean Alternative Fuel Vehicle (CAFV) Eligibility\"].value_counts()"
   ]
  },
  {
   "cell_type": "code",
   "execution_count": 61,
   "metadata": {},
   "outputs": [
    {
     "data": {
      "text/plain": [
       "Electric Range\n",
       "25    4107\n",
       "21    3530\n",
       "19    2473\n",
       "26    1419\n",
       "18    1238\n",
       "14    1102\n",
       "6      935\n",
       "22     909\n",
       "17     792\n",
       "16     755\n",
       "20     656\n",
       "13     363\n",
       "23     275\n",
       "29     251\n",
       "12     170\n",
       "10     167\n",
       "28     115\n",
       "24     108\n",
       "15      91\n",
       "27      69\n",
       "8       37\n",
       "9       20\n",
       "11       3\n",
       "Name: count, dtype: int64"
      ]
     },
     "execution_count": 61,
     "metadata": {},
     "output_type": "execute_result"
    }
   ],
   "source": [
    "data[data[\"Clean Alternative Fuel Vehicle (CAFV) Eligibility\"] == \"Not eligible due to low battery range\"][\"Electric Range\"].value_counts()"
   ]
  },
  {
   "cell_type": "code",
   "execution_count": 57,
   "metadata": {},
   "outputs": [
    {
     "data": {
      "text/plain": [
       "VIN (1-10)                                                0\n",
       "County                                                    5\n",
       "City                                                      5\n",
       "State                                                     0\n",
       "Postal Code                                               5\n",
       "Model Year                                                0\n",
       "Make                                                      0\n",
       "Model                                                     0\n",
       "Electric Vehicle Type                                     0\n",
       "Clean Alternative Fuel Vehicle (CAFV) Eligibility     91950\n",
       "Electric Range                                        91950\n",
       "Base MSRP                                            174522\n",
       "Legislative District                                    389\n",
       "DOL Vehicle ID                                            0\n",
       "Vehicle Location                                          9\n",
       "Electric Utility                                          5\n",
       "2020 Census Tract                                         5\n",
       "dtype: int64"
      ]
     },
     "execution_count": 57,
     "metadata": {},
     "output_type": "execute_result"
    }
   ],
   "source": [
    "data.isna().sum()"
   ]
  },
  {
   "cell_type": "code",
   "execution_count": 67,
   "metadata": {},
   "outputs": [
    {
     "data": {
      "text/plain": [
       "Electric Vehicle Type\n",
       "Battery Electric Vehicle (BEV)            139210\n",
       "Plug-in Hybrid Electric Vehicle (PHEV)     38656\n",
       "Name: count, dtype: int64"
      ]
     },
     "execution_count": 67,
     "metadata": {},
     "output_type": "execute_result"
    }
   ],
   "source": [
    "(data[\"Electric Vehicle Type\"].value_counts())"
   ]
  },
  {
   "cell_type": "code",
   "execution_count": null,
   "metadata": {},
   "outputs": [],
   "source": []
  }
 ],
 "metadata": {
  "kernelspec": {
   "display_name": "Python 3 (ipykernel)",
   "language": "python",
   "name": "python3"
  },
  "language_info": {
   "codemirror_mode": {
    "name": "ipython",
    "version": 3
   },
   "file_extension": ".py",
   "mimetype": "text/x-python",
   "name": "python",
   "nbconvert_exporter": "python",
   "pygments_lexer": "ipython3",
   "version": "3.10.9"
  }
 },
 "nbformat": 4,
 "nbformat_minor": 5
}
